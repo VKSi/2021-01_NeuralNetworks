{
  "nbformat": 4,
  "nbformat_minor": 0,
  "metadata": {
    "colab": {
      "name": "HW_5.ipynb",
      "provenance": [],
      "collapsed_sections": [],
      "authorship_tag": "ABX9TyM8ifs/PssgNBxk6rdMeOWE",
      "include_colab_link": true
    },
    "kernelspec": {
      "name": "python3",
      "display_name": "Python 3"
    }
  },
  "cells": [
    {
      "cell_type": "markdown",
      "metadata": {
        "id": "view-in-github",
        "colab_type": "text"
      },
      "source": [
        "<a href=\"https://colab.research.google.com/github/VKSi/2021_01_NeuralNetworks_Intro/blob/main/HW_5_RNN.ipynb\" target=\"_parent\"><img src=\"https://colab.research.google.com/assets/colab-badge.svg\" alt=\"Open In Colab\"/></a>"
      ]
    },
    {
      "cell_type": "markdown",
      "metadata": {
        "id": "T7Qdd-WJLJyr"
      },
      "source": [
        "# Введение в искусственные нейронные сети\n",
        "# Урок 5. Рекуррентные нейронные сети"
      ]
    },
    {
      "cell_type": "markdown",
      "metadata": {
        "id": "mgTdZzX8LTWi"
      },
      "source": [
        "## Практическое задание\n",
        "\n",
        "<ol>\n",
        "    <li>Попробуйте обучить нейронную сеть LSTM на любом другом датасете (любимый временной ряд, текст на русском (другом языке) как генератор или классификатор, или прилагаемый набор airline-passengers - пасажиропоток для авиалиний). Опишите, какой результата вы получили? Что помогло вам улучшить ее точность?\n",
        "\n",
        "    \n",
        "<li>*Попробуйте на numpy реализовать нейронную сеть архитектуры LSTM</li>\n",
        "<li>*Предложите свои варианты решения проблемы исчезающего градиента в RNN</li>\n",
        "</ol>"
      ]
    },
    {
      "cell_type": "markdown",
      "metadata": {
        "id": "W-J5Z4jHPgX3"
      },
      "source": [
        "# Решения"
      ]
    },
    {
      "cell_type": "markdown",
      "metadata": {
        "id": "9wCEOKqWRSU5"
      },
      "source": [
        "## Подготовка данных"
      ]
    },
    {
      "cell_type": "code",
      "metadata": {
        "colab": {
          "base_uri": "https://localhost:8080/"
        },
        "id": "QIeqVwPm0fJ1",
        "outputId": "56bb6fe6-b498-4f16-cd88-f9b8e23cc3b7"
      },
      "source": [
        "from google.colab import drive\n",
        "drive.mount('/content/gdrive')"
      ],
      "execution_count": null,
      "outputs": [
        {
          "output_type": "stream",
          "text": [
            "Drive already mounted at /content/gdrive; to attempt to forcibly remount, call drive.mount(\"/content/gdrive\", force_remount=True).\n"
          ],
          "name": "stdout"
        }
      ]
    },
    {
      "cell_type": "code",
      "metadata": {
        "id": "amyziLr20ldt"
      },
      "source": [
        "PATH = 'gdrive/My Drive/AI/GB/NeuralNetwork/Lesson5/'"
      ],
      "execution_count": null,
      "outputs": []
    },
    {
      "cell_type": "code",
      "metadata": {
        "colab": {
          "base_uri": "https://localhost:8080/"
        },
        "id": "nXGDAxOpIOFq",
        "outputId": "41957e6f-0ca3-4741-95b7-891b996ef8a4"
      },
      "source": [
        "import tensorflow as tf\n",
        "print(tf.__version__)\n",
        "msg = tf.constant('TensorFlow 2.0 Hello World')\n",
        "tf.print(msg)"
      ],
      "execution_count": null,
      "outputs": [
        {
          "output_type": "stream",
          "text": [
            "2.4.1\n",
            "TensorFlow 2.0 Hello World\n"
          ],
          "name": "stdout"
        }
      ]
    },
    {
      "cell_type": "code",
      "metadata": {
        "id": "70euU61UrBfY"
      },
      "source": [
        "import numpy as np\n",
        "import pandas as pd\n",
        "import matplotlib.pyplot as plt\n",
        "\n",
        "from keras.preprocessing import timeseries_dataset_from_array\n",
        "from tensorflow.keras.callbacks import EarlyStopping\n",
        "\n",
        "from tensorflow.keras.optimizers import Adam\n",
        "from tensorflow.keras.models import Sequential #, Model\n",
        "from tensorflow.keras.layers import LSTM, Input, Flatten, Dense, Conv1D\n",
        "\n",
        "\n",
        "# from tensorflow.keras.utils import plot_model, to_categorical\n",
        "\n",
        "# from tensorflow.keras.wrappers.scikit_learn import KerasClassifier\n",
        "\n",
        "from sklearn.preprocessing import StandardScaler\n",
        "# from sklearn.model_selection import cross_val_score, KFold\n",
        "# from sklearn.metrics import accuracy_score, make_scorer"
      ],
      "execution_count": null,
      "outputs": []
    },
    {
      "cell_type": "markdown",
      "metadata": {
        "id": "RbyY7tb6M0i7"
      },
      "source": [
        "### Знакомимся с датасетом"
      ]
    },
    {
      "cell_type": "code",
      "metadata": {
        "id": "Z4xWVe90A6sF"
      },
      "source": [
        "data = pd.read_csv(PATH + 'airline-passengers.csv')"
      ],
      "execution_count": null,
      "outputs": []
    },
    {
      "cell_type": "code",
      "metadata": {
        "colab": {
          "base_uri": "https://localhost:8080/"
        },
        "id": "rivFov_rBFCo",
        "outputId": "64be863a-2c9e-4027-dfb7-7eecc6c51e4c"
      },
      "source": [
        "data.shape"
      ],
      "execution_count": null,
      "outputs": [
        {
          "output_type": "execute_result",
          "data": {
            "text/plain": [
              "(144, 2)"
            ]
          },
          "metadata": {
            "tags": []
          },
          "execution_count": 62
        }
      ]
    },
    {
      "cell_type": "code",
      "metadata": {
        "colab": {
          "base_uri": "https://localhost:8080/",
          "height": 106
        },
        "id": "3NMY80P0BE_e",
        "outputId": "fc79ba9f-3840-4b9a-a83c-91f9c116bb83"
      },
      "source": [
        "data.head(2)"
      ],
      "execution_count": null,
      "outputs": [
        {
          "output_type": "execute_result",
          "data": {
            "text/html": [
              "<div>\n",
              "<style scoped>\n",
              "    .dataframe tbody tr th:only-of-type {\n",
              "        vertical-align: middle;\n",
              "    }\n",
              "\n",
              "    .dataframe tbody tr th {\n",
              "        vertical-align: top;\n",
              "    }\n",
              "\n",
              "    .dataframe thead th {\n",
              "        text-align: right;\n",
              "    }\n",
              "</style>\n",
              "<table border=\"1\" class=\"dataframe\">\n",
              "  <thead>\n",
              "    <tr style=\"text-align: right;\">\n",
              "      <th></th>\n",
              "      <th>Month</th>\n",
              "      <th>Passengers</th>\n",
              "    </tr>\n",
              "  </thead>\n",
              "  <tbody>\n",
              "    <tr>\n",
              "      <th>0</th>\n",
              "      <td>1949-01</td>\n",
              "      <td>112</td>\n",
              "    </tr>\n",
              "    <tr>\n",
              "      <th>1</th>\n",
              "      <td>1949-02</td>\n",
              "      <td>118</td>\n",
              "    </tr>\n",
              "  </tbody>\n",
              "</table>\n",
              "</div>"
            ],
            "text/plain": [
              "     Month  Passengers\n",
              "0  1949-01         112\n",
              "1  1949-02         118"
            ]
          },
          "metadata": {
            "tags": []
          },
          "execution_count": 63
        }
      ]
    },
    {
      "cell_type": "code",
      "metadata": {
        "colab": {
          "base_uri": "https://localhost:8080/",
          "height": 106
        },
        "id": "KVcfn-xeBE9F",
        "outputId": "91c319a3-5bd0-465b-803b-2d4adf3c6770"
      },
      "source": [
        "data.tail(2)"
      ],
      "execution_count": null,
      "outputs": [
        {
          "output_type": "execute_result",
          "data": {
            "text/html": [
              "<div>\n",
              "<style scoped>\n",
              "    .dataframe tbody tr th:only-of-type {\n",
              "        vertical-align: middle;\n",
              "    }\n",
              "\n",
              "    .dataframe tbody tr th {\n",
              "        vertical-align: top;\n",
              "    }\n",
              "\n",
              "    .dataframe thead th {\n",
              "        text-align: right;\n",
              "    }\n",
              "</style>\n",
              "<table border=\"1\" class=\"dataframe\">\n",
              "  <thead>\n",
              "    <tr style=\"text-align: right;\">\n",
              "      <th></th>\n",
              "      <th>Month</th>\n",
              "      <th>Passengers</th>\n",
              "    </tr>\n",
              "  </thead>\n",
              "  <tbody>\n",
              "    <tr>\n",
              "      <th>142</th>\n",
              "      <td>1960-11</td>\n",
              "      <td>390</td>\n",
              "    </tr>\n",
              "    <tr>\n",
              "      <th>143</th>\n",
              "      <td>1960-12</td>\n",
              "      <td>432</td>\n",
              "    </tr>\n",
              "  </tbody>\n",
              "</table>\n",
              "</div>"
            ],
            "text/plain": [
              "       Month  Passengers\n",
              "142  1960-11         390\n",
              "143  1960-12         432"
            ]
          },
          "metadata": {
            "tags": []
          },
          "execution_count": 64
        }
      ]
    },
    {
      "cell_type": "code",
      "metadata": {
        "colab": {
          "base_uri": "https://localhost:8080/",
          "height": 282
        },
        "id": "4rpe6BOFBWVj",
        "outputId": "93083a55-6033-429b-efa6-0497bebf1ab6"
      },
      "source": [
        "data.plot()"
      ],
      "execution_count": null,
      "outputs": [
        {
          "output_type": "execute_result",
          "data": {
            "text/plain": [
              "<matplotlib.axes._subplots.AxesSubplot at 0x7f1f5550ec50>"
            ]
          },
          "metadata": {
            "tags": []
          },
          "execution_count": 65
        },
        {
          "output_type": "display_data",
          "data": {
            "image/png": "[encoded data removed]",
            "text/plain": [
              "<Figure size 432x288 with 1 Axes>"
            ]
          },
          "metadata": {
            "tags": [],
            "needs_background": "light"
          }
        }
      ]
    },
    {
      "cell_type": "markdown",
      "metadata": {
        "id": "jjLQu0mQqhYo"
      },
      "source": [
        "## Подготовка данных"
      ]
    },
    {
      "cell_type": "code",
      "metadata": {
        "id": "18nhlVvVCeSU"
      },
      "source": [
        "data['YearMonth'] = data.Month"
      ],
      "execution_count": null,
      "outputs": []
    },
    {
      "cell_type": "code",
      "metadata": {
        "id": "leSIWRVgB3XB"
      },
      "source": [
        "data['Year'] = data.YearMonth.apply(lambda x: str(x)[:4])\n",
        "data['Month'] = data.YearMonth.apply(lambda x: str(x)[5:])"
      ],
      "execution_count": null,
      "outputs": []
    },
    {
      "cell_type": "code",
      "metadata": {
        "colab": {
          "base_uri": "https://localhost:8080/",
          "height": 106
        },
        "id": "KEF9gY16CIfe",
        "outputId": "d4aa4036-4789-46c8-d3b0-1550cdddc906"
      },
      "source": [
        "data.head(2)"
      ],
      "execution_count": null,
      "outputs": [
        {
          "output_type": "execute_result",
          "data": {
            "text/html": [
              "<div>\n",
              "<style scoped>\n",
              "    .dataframe tbody tr th:only-of-type {\n",
              "        vertical-align: middle;\n",
              "    }\n",
              "\n",
              "    .dataframe tbody tr th {\n",
              "        vertical-align: top;\n",
              "    }\n",
              "\n",
              "    .dataframe thead th {\n",
              "        text-align: right;\n",
              "    }\n",
              "</style>\n",
              "<table border=\"1\" class=\"dataframe\">\n",
              "  <thead>\n",
              "    <tr style=\"text-align: right;\">\n",
              "      <th></th>\n",
              "      <th>Month</th>\n",
              "      <th>Passengers</th>\n",
              "      <th>YearMonth</th>\n",
              "      <th>Year</th>\n",
              "    </tr>\n",
              "  </thead>\n",
              "  <tbody>\n",
              "    <tr>\n",
              "      <th>0</th>\n",
              "      <td>01</td>\n",
              "      <td>112</td>\n",
              "      <td>1949-01</td>\n",
              "      <td>1949</td>\n",
              "    </tr>\n",
              "    <tr>\n",
              "      <th>1</th>\n",
              "      <td>02</td>\n",
              "      <td>118</td>\n",
              "      <td>1949-02</td>\n",
              "      <td>1949</td>\n",
              "    </tr>\n",
              "  </tbody>\n",
              "</table>\n",
              "</div>"
            ],
            "text/plain": [
              "  Month  Passengers YearMonth  Year\n",
              "0    01         112   1949-01  1949\n",
              "1    02         118   1949-02  1949"
            ]
          },
          "metadata": {
            "tags": []
          },
          "execution_count": 68
        }
      ]
    },
    {
      "cell_type": "code",
      "metadata": {
        "id": "QJcfLoGMDsrX"
      },
      "source": [
        "data = data[['Passengers', 'Year', 'Month']].rename(columns={'Passengers':'Value'})"
      ],
      "execution_count": null,
      "outputs": []
    },
    {
      "cell_type": "code",
      "metadata": {
        "colab": {
          "base_uri": "https://localhost:8080/",
          "height": 106
        },
        "id": "EXSPk2TYIDmL",
        "outputId": "2b363735-4ba6-4ca8-906c-2a3ff7d3084f"
      },
      "source": [
        "data.head(2)"
      ],
      "execution_count": null,
      "outputs": [
        {
          "output_type": "execute_result",
          "data": {
            "text/html": [
              "<div>\n",
              "<style scoped>\n",
              "    .dataframe tbody tr th:only-of-type {\n",
              "        vertical-align: middle;\n",
              "    }\n",
              "\n",
              "    .dataframe tbody tr th {\n",
              "        vertical-align: top;\n",
              "    }\n",
              "\n",
              "    .dataframe thead th {\n",
              "        text-align: right;\n",
              "    }\n",
              "</style>\n",
              "<table border=\"1\" class=\"dataframe\">\n",
              "  <thead>\n",
              "    <tr style=\"text-align: right;\">\n",
              "      <th></th>\n",
              "      <th>Value</th>\n",
              "      <th>Year</th>\n",
              "      <th>Month</th>\n",
              "    </tr>\n",
              "  </thead>\n",
              "  <tbody>\n",
              "    <tr>\n",
              "      <th>0</th>\n",
              "      <td>112</td>\n",
              "      <td>1949</td>\n",
              "      <td>01</td>\n",
              "    </tr>\n",
              "    <tr>\n",
              "      <th>1</th>\n",
              "      <td>118</td>\n",
              "      <td>1949</td>\n",
              "      <td>02</td>\n",
              "    </tr>\n",
              "  </tbody>\n",
              "</table>\n",
              "</div>"
            ],
            "text/plain": [
              "   Value  Year Month\n",
              "0    112  1949    01\n",
              "1    118  1949    02"
            ]
          },
          "metadata": {
            "tags": []
          },
          "execution_count": 70
        }
      ]
    },
    {
      "cell_type": "code",
      "metadata": {
        "colab": {
          "base_uri": "https://localhost:8080/"
        },
        "id": "EaL-6xZSIE2J",
        "outputId": "a2fe55a9-22fe-4ffc-d18b-725bf8e71d16"
      },
      "source": [
        "train_split = int(data.shape[0]/3*2)\n",
        "train_split"
      ],
      "execution_count": null,
      "outputs": [
        {
          "output_type": "execute_result",
          "data": {
            "text/plain": [
              "96"
            ]
          },
          "metadata": {
            "tags": []
          },
          "execution_count": 71
        }
      ]
    },
    {
      "cell_type": "code",
      "metadata": {
        "id": "5BbtTkp4nxLT"
      },
      "source": [
        "data_train = data[:train_split]\n",
        "data_val = data[train_split:]"
      ],
      "execution_count": null,
      "outputs": []
    },
    {
      "cell_type": "code",
      "metadata": {
        "colab": {
          "base_uri": "https://localhost:8080/"
        },
        "id": "Q3uh1q6JoP9L",
        "outputId": "04823a06-d625-4680-cfb6-011a6936636e"
      },
      "source": [
        "data_train. shape"
      ],
      "execution_count": null,
      "outputs": [
        {
          "output_type": "execute_result",
          "data": {
            "text/plain": [
              "(96, 3)"
            ]
          },
          "metadata": {
            "tags": []
          },
          "execution_count": 73
        }
      ]
    },
    {
      "cell_type": "code",
      "metadata": {
        "colab": {
          "base_uri": "https://localhost:8080/"
        },
        "id": "kbnuRuZIoS3l",
        "outputId": "a51abe72-a63d-4be2-92bd-5b73ba87b252"
      },
      "source": [
        "data_val.shape"
      ],
      "execution_count": null,
      "outputs": [
        {
          "output_type": "execute_result",
          "data": {
            "text/plain": [
              "(48, 3)"
            ]
          },
          "metadata": {
            "tags": []
          },
          "execution_count": 74
        }
      ]
    },
    {
      "cell_type": "code",
      "metadata": {
        "id": "00wfj1T9KoH1"
      },
      "source": [
        "scaler = StandardScaler()"
      ],
      "execution_count": null,
      "outputs": []
    },
    {
      "cell_type": "code",
      "metadata": {
        "id": "vEu62QS2ojAN"
      },
      "source": [
        "data_train_sc = pd.DataFrame(data=scaler.fit_transform(data_train), columns = data_train.columns, index=data_train.index)"
      ],
      "execution_count": null,
      "outputs": []
    },
    {
      "cell_type": "code",
      "metadata": {
        "colab": {
          "base_uri": "https://localhost:8080/",
          "height": 106
        },
        "id": "ESEih-wwooRv",
        "outputId": "f317e858-ae65-468f-c8ef-16c49cda02a1"
      },
      "source": [
        "data_train_sc.head(2)"
      ],
      "execution_count": null,
      "outputs": [
        {
          "output_type": "execute_result",
          "data": {
            "text/html": [
              "<div>\n",
              "<style scoped>\n",
              "    .dataframe tbody tr th:only-of-type {\n",
              "        vertical-align: middle;\n",
              "    }\n",
              "\n",
              "    .dataframe tbody tr th {\n",
              "        vertical-align: top;\n",
              "    }\n",
              "\n",
              "    .dataframe thead th {\n",
              "        text-align: right;\n",
              "    }\n",
              "</style>\n",
              "<table border=\"1\" class=\"dataframe\">\n",
              "  <thead>\n",
              "    <tr style=\"text-align: right;\">\n",
              "      <th></th>\n",
              "      <th>Value</th>\n",
              "      <th>Year</th>\n",
              "      <th>Month</th>\n",
              "    </tr>\n",
              "  </thead>\n",
              "  <tbody>\n",
              "    <tr>\n",
              "      <th>0</th>\n",
              "      <td>-1.421646</td>\n",
              "      <td>-1.527525</td>\n",
              "      <td>-1.593255</td>\n",
              "    </tr>\n",
              "    <tr>\n",
              "      <th>1</th>\n",
              "      <td>-1.337780</td>\n",
              "      <td>-1.527525</td>\n",
              "      <td>-1.303572</td>\n",
              "    </tr>\n",
              "  </tbody>\n",
              "</table>\n",
              "</div>"
            ],
            "text/plain": [
              "      Value      Year     Month\n",
              "0 -1.421646 -1.527525 -1.593255\n",
              "1 -1.337780 -1.527525 -1.303572"
            ]
          },
          "metadata": {
            "tags": []
          },
          "execution_count": 77
        }
      ]
    },
    {
      "cell_type": "code",
      "metadata": {
        "id": "NsW7F7TZovJl"
      },
      "source": [
        "data_val_sc = pd.DataFrame(data=scaler.transform(data_val), columns = data_val.columns, index=data_val.index)"
      ],
      "execution_count": null,
      "outputs": []
    },
    {
      "cell_type": "code",
      "metadata": {
        "colab": {
          "base_uri": "https://localhost:8080/",
          "height": 106
        },
        "id": "7gbPWbq4qMkA",
        "outputId": "05ec0e4b-9bf4-4b08-e9d6-a9286536c11f"
      },
      "source": [
        "data_val_sc.head(2)"
      ],
      "execution_count": null,
      "outputs": [
        {
          "output_type": "execute_result",
          "data": {
            "text/html": [
              "<div>\n",
              "<style scoped>\n",
              "    .dataframe tbody tr th:only-of-type {\n",
              "        vertical-align: middle;\n",
              "    }\n",
              "\n",
              "    .dataframe tbody tr th {\n",
              "        vertical-align: top;\n",
              "    }\n",
              "\n",
              "    .dataframe thead th {\n",
              "        text-align: right;\n",
              "    }\n",
              "</style>\n",
              "<table border=\"1\" class=\"dataframe\">\n",
              "  <thead>\n",
              "    <tr style=\"text-align: right;\">\n",
              "      <th></th>\n",
              "      <th>Value</th>\n",
              "      <th>Year</th>\n",
              "      <th>Month</th>\n",
              "    </tr>\n",
              "  </thead>\n",
              "  <tbody>\n",
              "    <tr>\n",
              "      <th>96</th>\n",
              "      <td>1.415822</td>\n",
              "      <td>1.963961</td>\n",
              "      <td>-1.593255</td>\n",
              "    </tr>\n",
              "    <tr>\n",
              "      <th>97</th>\n",
              "      <td>1.220134</td>\n",
              "      <td>1.963961</td>\n",
              "      <td>-1.303572</td>\n",
              "    </tr>\n",
              "  </tbody>\n",
              "</table>\n",
              "</div>"
            ],
            "text/plain": [
              "       Value      Year     Month\n",
              "96  1.415822  1.963961 -1.593255\n",
              "97  1.220134  1.963961 -1.303572"
            ]
          },
          "metadata": {
            "tags": []
          },
          "execution_count": 79
        }
      ]
    },
    {
      "cell_type": "code",
      "metadata": {
        "id": "kbRiW9PAzIZq"
      },
      "source": [
        "data_sc = pd.concat([data_train_sc, data_val_sc])"
      ],
      "execution_count": null,
      "outputs": []
    },
    {
      "cell_type": "code",
      "metadata": {
        "colab": {
          "base_uri": "https://localhost:8080/"
        },
        "id": "k0po7ri8zdLG",
        "outputId": "069e79a4-54f3-4a49-bf1a-2e6ba7710a13"
      },
      "source": [
        "data_sc.shape"
      ],
      "execution_count": null,
      "outputs": [
        {
          "output_type": "execute_result",
          "data": {
            "text/plain": [
              "(144, 3)"
            ]
          },
          "metadata": {
            "tags": []
          },
          "execution_count": 81
        }
      ]
    },
    {
      "cell_type": "code",
      "metadata": {
        "id": "_-EG2bbxtzXe"
      },
      "source": [
        "bias = 10\n",
        "step = 1"
      ],
      "execution_count": null,
      "outputs": []
    },
    {
      "cell_type": "code",
      "metadata": {
        "id": "aY-_25YXqUgP"
      },
      "source": [
        "# длина истории для работы\n",
        "p = 12\n",
        "\n",
        "# горизонт предсказания\n",
        "h = 1\n",
        "\n",
        "X_train = data_sc[:train_split]\n",
        "y_train = data_sc[(p + h) : (p + h + train_split)].Value\n",
        "\n",
        "X_val = data_sc[(train_split + bias) : (- p - h)]\n",
        "y_val = data_sc[train_split + bias + p + h:].Value"
      ],
      "execution_count": null,
      "outputs": []
    },
    {
      "cell_type": "code",
      "metadata": {
        "colab": {
          "base_uri": "https://localhost:8080/"
        },
        "id": "zGkIIk5R5PMD",
        "outputId": "f3ce6b5e-9051-498d-d502-c041e4c2d672"
      },
      "source": [
        "X_train.shape"
      ],
      "execution_count": null,
      "outputs": [
        {
          "output_type": "execute_result",
          "data": {
            "text/plain": [
              "(96, 3)"
            ]
          },
          "metadata": {
            "tags": []
          },
          "execution_count": 123
        }
      ]
    },
    {
      "cell_type": "code",
      "metadata": {
        "colab": {
          "base_uri": "https://localhost:8080/"
        },
        "id": "XQa3_KB65S4X",
        "outputId": "47fabcac-3b87-47d5-e7f8-636580cbc391"
      },
      "source": [
        "y_train.shape"
      ],
      "execution_count": null,
      "outputs": [
        {
          "output_type": "execute_result",
          "data": {
            "text/plain": [
              "(96,)"
            ]
          },
          "metadata": {
            "tags": []
          },
          "execution_count": 124
        }
      ]
    },
    {
      "cell_type": "code",
      "metadata": {
        "colab": {
          "base_uri": "https://localhost:8080/"
        },
        "id": "NScBxo9E5VcF",
        "outputId": "fc4c3ac2-3385-4013-8b2c-b172976a9d85"
      },
      "source": [
        "X_val.shape"
      ],
      "execution_count": null,
      "outputs": [
        {
          "output_type": "execute_result",
          "data": {
            "text/plain": [
              "(25, 3)"
            ]
          },
          "metadata": {
            "tags": []
          },
          "execution_count": 125
        }
      ]
    },
    {
      "cell_type": "code",
      "metadata": {
        "colab": {
          "base_uri": "https://localhost:8080/"
        },
        "id": "F0zfC43m5YUt",
        "outputId": "9459f04d-97cb-4a43-baa8-6ddf9f639bea"
      },
      "source": [
        "y_val.shape"
      ],
      "execution_count": null,
      "outputs": [
        {
          "output_type": "execute_result",
          "data": {
            "text/plain": [
              "(25,)"
            ]
          },
          "metadata": {
            "tags": []
          },
          "execution_count": 126
        }
      ]
    },
    {
      "cell_type": "markdown",
      "metadata": {
        "id": "9ajUAOC-8QNc"
      },
      "source": [
        "## Построение модели"
      ]
    },
    {
      "cell_type": "code",
      "metadata": {
        "id": "Gs8DpVSiu7AQ"
      },
      "source": [
        "# параметры модели для обучения\n",
        "learning_rate = 0.001\n",
        "batch_size = 12\n",
        "epochs = 20"
      ],
      "execution_count": null,
      "outputs": []
    },
    {
      "cell_type": "code",
      "metadata": {
        "id": "pMHT11-iWsAL"
      },
      "source": [
        "def model_preparation(learning_rate = 0.001, batch_size = 12, epochs = 20, p = 12):\n",
        "  dataset_train = timeseries_dataset_from_array(\n",
        "    X_train,\n",
        "    y_train,\n",
        "    sequence_length = p,\n",
        "    sampling_rate = 1,\n",
        "    batch_size = batch_size,\n",
        "  )\n",
        "  dataset_val = timeseries_dataset_from_array(\n",
        "      X_val,\n",
        "      y_val,\n",
        "      sequence_length = p,\n",
        "      sampling_rate = 1,\n",
        "      batch_size = batch_size,\n",
        "  )\n",
        "  for batch in dataset_train.take(2):\n",
        "    inputs, targets = batch\n",
        "\n",
        "  print(\"Input shape:\", inputs.numpy().shape)\n",
        "  print(\"Target shape:\", targets.numpy().shape)\n",
        "\n",
        "  return dataset_train, dataset_val, inputs, targets"
      ],
      "execution_count": null,
      "outputs": []
    },
    {
      "cell_type": "code",
      "metadata": {
        "id": "DIXAjajR8OZF"
      },
      "source": [
        "dataset_train, dataset_val, inputs, targets = model_preparation(learning_rate = 0.001, batch_size = 12, epochs = 20)"
      ],
      "execution_count": null,
      "outputs": []
    },
    {
      "cell_type": "code",
      "metadata": {
        "id": "LUiTIiNIAI6x"
      },
      "source": [
        "def my_model():\n",
        "  model = Sequential()\n",
        "\n",
        "  model.add(LSTM(24, input_shape = (inputs.shape[1], inputs.shape[2]), return_sequences=\"True\"))\n",
        "  model.add(LSTM(24, return_sequences=\"True\"))\n",
        "  model.add(Conv1D(48, 3, activation=\"linear\"))\n",
        "  model.add(Flatten())\n",
        "  model.add(Dense(3, activation=\"linear\"))\n",
        "  model.add(Dense(1, activation=\"linear\"))\n",
        "\n",
        "  model.compile(loss=\"mse\", optimizer=\"adam\", metrics=['mae'])\n",
        "\n",
        "  return model"
      ],
      "execution_count": null,
      "outputs": []
    },
    {
      "cell_type": "code",
      "metadata": {
        "id": "8tKnmf6cAcu_"
      },
      "source": [
        "callback = EarlyStopping(monitor='val_mae', patience=5)\n",
        "model = my_model()"
      ],
      "execution_count": null,
      "outputs": []
    },
    {
      "cell_type": "code",
      "metadata": {
        "colab": {
          "base_uri": "https://localhost:8080/",
          "height": 937
        },
        "id": "elDv0xY69OcA",
        "outputId": "47edb665-0098-4d3a-c762-3e0e2b305e4f"
      },
      "source": [
        "history = model.fit(\n",
        "    dataset_train,\n",
        "    epochs=epochs,\n",
        "    validation_data=dataset_val,\n",
        "    callbacks=[callback])\n",
        "\n",
        "\n",
        "plt.plot(history.history['mae'][1:], \n",
        "         label='Средняя абсолютная ошибка на обучающем наборе')\n",
        "plt.plot(history.history['val_mae'][1:], \n",
        "         label='Средняя абсолютная ошибка на проверочном наборе')\n",
        "plt.ylabel('Средняя ошибка')\n",
        "plt.legend()\n",
        "plt.show()"
      ],
      "execution_count": null,
      "outputs": [
        {
          "output_type": "stream",
          "text": [
            "Epoch 1/20\n",
            "8/8 [==============================] - 4s 135ms/step - loss: 0.5420 - mae: 0.6124 - val_loss: 5.0658 - val_mae: 2.0690\n",
            "Epoch 2/20\n",
            "8/8 [==============================] - 0s 24ms/step - loss: 0.1441 - mae: 0.2860 - val_loss: 1.4708 - val_mae: 0.9111\n",
            "Epoch 3/20\n",
            "8/8 [==============================] - 0s 24ms/step - loss: 0.1954 - mae: 0.3848 - val_loss: 1.1295 - val_mae: 0.7802\n",
            "Epoch 4/20\n",
            "8/8 [==============================] - 0s 24ms/step - loss: 0.0881 - mae: 0.2246 - val_loss: 1.5538 - val_mae: 0.9815\n",
            "Epoch 5/20\n",
            "8/8 [==============================] - 0s 24ms/step - loss: 0.0917 - mae: 0.2349 - val_loss: 1.0159 - val_mae: 0.7534\n",
            "Epoch 6/20\n",
            "8/8 [==============================] - 0s 24ms/step - loss: 0.0776 - mae: 0.2122 - val_loss: 0.6860 - val_mae: 0.6009\n",
            "Epoch 7/20\n",
            "8/8 [==============================] - 0s 28ms/step - loss: 0.0633 - mae: 0.1977 - val_loss: 0.7576 - val_mae: 0.6558\n",
            "Epoch 8/20\n",
            "8/8 [==============================] - 0s 26ms/step - loss: 0.0589 - mae: 0.1915 - val_loss: 0.5559 - val_mae: 0.5335\n",
            "Epoch 9/20\n",
            "8/8 [==============================] - 0s 25ms/step - loss: 0.0537 - mae: 0.1860 - val_loss: 0.5139 - val_mae: 0.5078\n",
            "Epoch 10/20\n",
            "8/8 [==============================] - 0s 24ms/step - loss: 0.0515 - mae: 0.1791 - val_loss: 0.4680 - val_mae: 0.4842\n",
            "Epoch 11/20\n",
            "8/8 [==============================] - 0s 27ms/step - loss: 0.0515 - mae: 0.1785 - val_loss: 0.3934 - val_mae: 0.4469\n",
            "Epoch 12/20\n",
            "8/8 [==============================] - 0s 25ms/step - loss: 0.0494 - mae: 0.1758 - val_loss: 0.4015 - val_mae: 0.4533\n",
            "Epoch 13/20\n",
            "8/8 [==============================] - 0s 24ms/step - loss: 0.0486 - mae: 0.1737 - val_loss: 0.3616 - val_mae: 0.4312\n",
            "Epoch 14/20\n",
            "8/8 [==============================] - 0s 26ms/step - loss: 0.0464 - mae: 0.1712 - val_loss: 0.3979 - val_mae: 0.4499\n",
            "Epoch 15/20\n",
            "8/8 [==============================] - 0s 25ms/step - loss: 0.0467 - mae: 0.1698 - val_loss: 0.3395 - val_mae: 0.4174\n",
            "Epoch 16/20\n",
            "8/8 [==============================] - 0s 26ms/step - loss: 0.0447 - mae: 0.1668 - val_loss: 0.4158 - val_mae: 0.4704\n",
            "Epoch 17/20\n",
            "8/8 [==============================] - 0s 24ms/step - loss: 0.0466 - mae: 0.1667 - val_loss: 0.3211 - val_mae: 0.4040\n",
            "Epoch 18/20\n",
            "8/8 [==============================] - 0s 24ms/step - loss: 0.0457 - mae: 0.1649 - val_loss: 0.5430 - val_mae: 0.5855\n",
            "Epoch 19/20\n",
            "8/8 [==============================] - 0s 25ms/step - loss: 0.0483 - mae: 0.1650 - val_loss: 0.3003 - val_mae: 0.3914\n",
            "Epoch 20/20\n",
            "8/8 [==============================] - 0s 27ms/step - loss: 0.0472 - mae: 0.1644 - val_loss: 0.7905 - val_mae: 0.7664\n"
          ],
          "name": "stdout"
        },
        {
          "output_type": "display_data",
          "data": {
            "image/png": "[encoded data removed]",
            "text/plain": [
              "<Figure size 432x288 with 1 Axes>"
            ]
          },
          "metadata": {
            "tags": [],
            "needs_background": "light"
          }
        }
      ]
    },
    {
      "cell_type": "markdown",
      "metadata": {
        "id": "yDOO9NBx_9gX"
      },
      "source": [
        "Видно, что после 15-й эпохи начинается преобучение"
      ]
    },
    {
      "cell_type": "code",
      "metadata": {
        "id": "hYgDoiSD_k94"
      },
      "source": [
        "model = my_model()"
      ],
      "execution_count": null,
      "outputs": []
    },
    {
      "cell_type": "code",
      "metadata": {
        "colab": {
          "base_uri": "https://localhost:8080/"
        },
        "id": "DzBXybiJAypG",
        "outputId": "87eec41c-5ec7-4564-e7ea-c085ea830b0c"
      },
      "source": [
        "model.fit(\n",
        "    dataset_train,\n",
        "    epochs=15,\n",
        "    validation_data=dataset_val)"
      ],
      "execution_count": null,
      "outputs": [
        {
          "output_type": "stream",
          "text": [
            "Epoch 1/15\n",
            "8/8 [==============================] - 4s 131ms/step - loss: 0.5801 - mae: 0.6374 - val_loss: 4.0640 - val_mae: 1.8083\n",
            "Epoch 2/15\n",
            "8/8 [==============================] - 0s 24ms/step - loss: 0.1584 - mae: 0.3049 - val_loss: 0.9897 - val_mae: 0.7237\n",
            "Epoch 3/15\n",
            "8/8 [==============================] - 0s 26ms/step - loss: 0.1760 - mae: 0.3494 - val_loss: 1.3841 - val_mae: 0.8917\n",
            "Epoch 4/15\n",
            "8/8 [==============================] - 0s 25ms/step - loss: 0.0917 - mae: 0.2234 - val_loss: 1.3879 - val_mae: 0.9215\n",
            "Epoch 5/15\n",
            "8/8 [==============================] - 0s 25ms/step - loss: 0.0921 - mae: 0.2361 - val_loss: 0.8285 - val_mae: 0.6779\n",
            "Epoch 6/15\n",
            "8/8 [==============================] - 0s 24ms/step - loss: 0.0706 - mae: 0.2045 - val_loss: 0.7446 - val_mae: 0.6516\n",
            "Epoch 7/15\n",
            "8/8 [==============================] - 0s 26ms/step - loss: 0.0652 - mae: 0.2054 - val_loss: 0.7794 - val_mae: 0.6860\n",
            "Epoch 8/15\n",
            "8/8 [==============================] - 0s 26ms/step - loss: 0.0590 - mae: 0.1931 - val_loss: 0.6039 - val_mae: 0.5830\n",
            "Epoch 9/15\n",
            "8/8 [==============================] - 0s 26ms/step - loss: 0.0531 - mae: 0.1849 - val_loss: 0.6588 - val_mae: 0.6372\n",
            "Epoch 10/15\n",
            "8/8 [==============================] - 0s 25ms/step - loss: 0.0529 - mae: 0.1814 - val_loss: 0.5683 - val_mae: 0.5805\n",
            "Epoch 11/15\n",
            "8/8 [==============================] - 0s 25ms/step - loss: 0.0512 - mae: 0.1791 - val_loss: 0.5643 - val_mae: 0.5893\n",
            "Epoch 12/15\n",
            "8/8 [==============================] - 0s 26ms/step - loss: 0.0506 - mae: 0.1787 - val_loss: 0.5203 - val_mae: 0.5580\n",
            "Epoch 13/15\n",
            "8/8 [==============================] - 0s 24ms/step - loss: 0.0491 - mae: 0.1771 - val_loss: 0.5345 - val_mae: 0.5737\n",
            "Epoch 14/15\n",
            "8/8 [==============================] - 0s 25ms/step - loss: 0.0489 - mae: 0.1750 - val_loss: 0.4942 - val_mae: 0.5411\n",
            "Epoch 15/15\n",
            "8/8 [==============================] - 0s 25ms/step - loss: 0.0474 - mae: 0.1731 - val_loss: 0.5199 - val_mae: 0.5677\n"
          ],
          "name": "stdout"
        },
        {
          "output_type": "execute_result",
          "data": {
            "text/plain": [
              "<tensorflow.python.keras.callbacks.History at 0x7f1f48a0fc18>"
            ]
          },
          "metadata": {
            "tags": []
          },
          "execution_count": 150
        }
      ]
    },
    {
      "cell_type": "code",
      "metadata": {
        "id": "zLO1brGxA6F5"
      },
      "source": [
        "pred_train = model.predict(dataset_train).flatten()\n",
        "pred_val = model.predict(dataset_val).flatten()"
      ],
      "execution_count": null,
      "outputs": []
    },
    {
      "cell_type": "code",
      "metadata": {
        "colab": {
          "base_uri": "https://localhost:8080/",
          "height": 320
        },
        "id": "319Oq3WfB0DF",
        "outputId": "2b4042e4-bfee-4286-c103-a99557dfb476"
      },
      "source": [
        "plt.figure(figsize=(10,5))\n",
        "plt.grid('on')\n",
        "plt.plot(pred_train, label='Прогноз')\n",
        "plt.plot(y_train[:train_split].values, label='Базовый ряд')\n",
        "plt.legend()\n",
        "plt.show()"
      ],
      "execution_count": null,
      "outputs": [
        {
          "output_type": "display_data",
          "data": {
            "image/png": "[encoded data removed]",
            "text/plain": [
              "<Figure size 720x360 with 1 Axes>"
            ]
          },
          "metadata": {
            "tags": [],
            "needs_background": "light"
          }
        }
      ]
    },
    {
      "cell_type": "code",
      "metadata": {
        "colab": {
          "base_uri": "https://localhost:8080/",
          "height": 320
        },
        "id": "lAV3IaTfCMQX",
        "outputId": "f931dded-e324-4c73-b9d1-dfe3109bc62c"
      },
      "source": [
        "plt.figure(figsize=(10,5))\n",
        "plt.grid('on')\n",
        "plt.plot(pred_val[h:], label='Прогноз')\n",
        "plt.plot(y_val[:].values, label='Базовый ряд')\n",
        "plt.legend()\n",
        "plt.show()"
      ],
      "execution_count": null,
      "outputs": [
        {
          "output_type": "display_data",
          "data": {
            "image/png": "[encoded data removed]",
            "text/plain": [
              "<Figure size 720x360 with 1 Axes>"
            ]
          },
          "metadata": {
            "tags": [],
            "needs_background": "light"
          }
        }
      ]
    },
    {
      "cell_type": "markdown",
      "metadata": {
        "id": "m62yYpx9Xc1h"
      },
      "source": [
        "## Проверим вляяние параметра batch_size"
      ]
    },
    {
      "cell_type": "code",
      "metadata": {
        "colab": {
          "base_uri": "https://localhost:8080/"
        },
        "id": "ivlooSbHDk5l",
        "outputId": "494eb040-5228-4611-b151-52d33d9c51d7"
      },
      "source": [
        "dataset_train, dataset_val, inputs, targets = model_preparation(learning_rate = 0.001, batch_size = 24, epochs = 50)\n",
        "model = my_model()"
      ],
      "execution_count": null,
      "outputs": [
        {
          "output_type": "stream",
          "text": [
            "Input shape: (24, 12, 3)\n",
            "Target shape: (24,)\n"
          ],
          "name": "stdout"
        }
      ]
    },
    {
      "cell_type": "code",
      "metadata": {
        "colab": {
          "base_uri": "https://localhost:8080/",
          "height": 1000
        },
        "id": "t5HOYR1HXlpu",
        "outputId": "e4506f6b-3b71-4c08-bff4-06e12c9e4820"
      },
      "source": [
        "history = model.fit(\n",
        "    dataset_train,\n",
        "    epochs=50,\n",
        "    validation_data=dataset_val,\n",
        "    callbacks=[callback])\n",
        "\n",
        "\n",
        "plt.plot(history.history['mae'][1:], \n",
        "         label='Средняя абсолютная ошибка на обучающем наборе')\n",
        "plt.plot(history.history['val_mae'][1:], \n",
        "         label='Средняя абсолютная ошибка на проверочном наборе')\n",
        "plt.ylabel('Средняя ошибка')\n",
        "plt.legend()\n",
        "plt.show()"
      ],
      "execution_count": null,
      "outputs": [
        {
          "output_type": "stream",
          "text": [
            "Epoch 1/50\n",
            "4/4 [==============================] - 5s 292ms/step - loss: 0.5946 - mae: 0.6429 - val_loss: 5.6962 - val_mae: 2.1954\n",
            "Epoch 2/50\n",
            "4/4 [==============================] - 0s 38ms/step - loss: 0.2698 - mae: 0.3939 - val_loss: 3.2760 - val_mae: 1.5618\n",
            "Epoch 3/50\n",
            "4/4 [==============================] - 0s 47ms/step - loss: 0.1490 - mae: 0.2782 - val_loss: 1.5355 - val_mae: 0.9208\n",
            "Epoch 4/50\n",
            "4/4 [==============================] - 0s 40ms/step - loss: 0.1656 - mae: 0.3441 - val_loss: 0.8262 - val_mae: 0.6528\n",
            "Epoch 5/50\n",
            "4/4 [==============================] - 0s 46ms/step - loss: 0.1830 - mae: 0.3731 - val_loss: 0.7248 - val_mae: 0.6092\n",
            "Epoch 6/50\n",
            "4/4 [==============================] - 0s 40ms/step - loss: 0.1142 - mae: 0.2847 - val_loss: 0.9033 - val_mae: 0.6997\n",
            "Epoch 7/50\n",
            "4/4 [==============================] - 0s 41ms/step - loss: 0.0715 - mae: 0.2040 - val_loss: 1.1257 - val_mae: 0.8132\n",
            "Epoch 8/50\n",
            "4/4 [==============================] - 0s 45ms/step - loss: 0.0714 - mae: 0.2054 - val_loss: 1.0286 - val_mae: 0.7883\n",
            "Epoch 9/50\n",
            "4/4 [==============================] - 0s 40ms/step - loss: 0.0704 - mae: 0.2108 - val_loss: 0.6887 - val_mae: 0.6158\n",
            "Epoch 10/50\n",
            "4/4 [==============================] - 0s 42ms/step - loss: 0.0624 - mae: 0.1976 - val_loss: 0.4429 - val_mae: 0.4742\n",
            "Epoch 11/50\n",
            "4/4 [==============================] - 0s 43ms/step - loss: 0.0554 - mae: 0.1845 - val_loss: 0.4044 - val_mae: 0.4550\n",
            "Epoch 12/50\n",
            "4/4 [==============================] - 0s 40ms/step - loss: 0.0516 - mae: 0.1789 - val_loss: 0.4924 - val_mae: 0.5058\n",
            "Epoch 13/50\n",
            "4/4 [==============================] - 0s 43ms/step - loss: 0.0515 - mae: 0.1793 - val_loss: 0.5297 - val_mae: 0.5436\n",
            "Epoch 14/50\n",
            "4/4 [==============================] - 0s 44ms/step - loss: 0.0508 - mae: 0.1786 - val_loss: 0.4383 - val_mae: 0.4767\n",
            "Epoch 15/50\n",
            "4/4 [==============================] - 0s 41ms/step - loss: 0.0493 - mae: 0.1759 - val_loss: 0.3479 - val_mae: 0.4231\n",
            "Epoch 16/50\n",
            "4/4 [==============================] - 0s 42ms/step - loss: 0.0476 - mae: 0.1731 - val_loss: 0.3388 - val_mae: 0.4156\n",
            "Epoch 17/50\n",
            "4/4 [==============================] - 0s 42ms/step - loss: 0.0454 - mae: 0.1682 - val_loss: 0.3758 - val_mae: 0.4434\n",
            "Epoch 18/50\n",
            "4/4 [==============================] - 0s 44ms/step - loss: 0.0444 - mae: 0.1643 - val_loss: 0.3831 - val_mae: 0.4520\n",
            "Epoch 19/50\n",
            "4/4 [==============================] - 0s 43ms/step - loss: 0.0436 - mae: 0.1621 - val_loss: 0.3486 - val_mae: 0.4307\n",
            "Epoch 20/50\n",
            "4/4 [==============================] - 0s 45ms/step - loss: 0.0425 - mae: 0.1597 - val_loss: 0.3220 - val_mae: 0.4131\n",
            "Epoch 21/50\n",
            "4/4 [==============================] - 0s 44ms/step - loss: 0.0414 - mae: 0.1582 - val_loss: 0.3249 - val_mae: 0.4171\n",
            "Epoch 22/50\n",
            "4/4 [==============================] - 0s 46ms/step - loss: 0.0405 - mae: 0.1565 - val_loss: 0.3330 - val_mae: 0.4244\n",
            "Epoch 23/50\n",
            "4/4 [==============================] - 0s 55ms/step - loss: 0.0398 - mae: 0.1548 - val_loss: 0.3220 - val_mae: 0.4195\n",
            "Epoch 24/50\n",
            "4/4 [==============================] - 0s 46ms/step - loss: 0.0389 - mae: 0.1530 - val_loss: 0.3046 - val_mae: 0.4084\n",
            "Epoch 25/50\n",
            "4/4 [==============================] - 0s 40ms/step - loss: 0.0380 - mae: 0.1511 - val_loss: 0.3009 - val_mae: 0.4095\n",
            "Epoch 26/50\n",
            "4/4 [==============================] - 0s 43ms/step - loss: 0.0371 - mae: 0.1487 - val_loss: 0.3062 - val_mae: 0.4187\n",
            "Epoch 27/50\n",
            "4/4 [==============================] - 0s 41ms/step - loss: 0.0363 - mae: 0.1465 - val_loss: 0.3053 - val_mae: 0.4222\n",
            "Epoch 28/50\n",
            "4/4 [==============================] - 0s 43ms/step - loss: 0.0355 - mae: 0.1447 - val_loss: 0.2986 - val_mae: 0.4203\n",
            "Epoch 29/50\n",
            "4/4 [==============================] - 0s 42ms/step - loss: 0.0346 - mae: 0.1429 - val_loss: 0.2962 - val_mae: 0.4222\n"
          ],
          "name": "stdout"
        },
        {
          "output_type": "display_data",
          "data": {
            "image/png": "[encoded data removed]",
            "text/plain": [
              "<Figure size 432x288 with 1 Axes>"
            ]
          },
          "metadata": {
            "tags": [],
            "needs_background": "light"
          }
        }
      ]
    },
    {
      "cell_type": "code",
      "metadata": {
        "id": "td8kw0hFYz5l"
      },
      "source": [
        "pred_train = model.predict(dataset_train).flatten()\n",
        "pred_val = model.predict(dataset_val).flatten()"
      ],
      "execution_count": null,
      "outputs": []
    },
    {
      "cell_type": "code",
      "metadata": {
        "colab": {
          "base_uri": "https://localhost:8080/",
          "height": 320
        },
        "id": "2vydx5lAY7BV",
        "outputId": "a8d609d3-f692-4479-f8d0-c0e13ac3520f"
      },
      "source": [
        "plt.figure(figsize=(10,5))\n",
        "plt.grid('on')\n",
        "plt.plot(pred_train, label='Прогноз')\n",
        "plt.plot(y_train[:train_split].values, label='Базовый ряд')\n",
        "plt.legend()\n",
        "plt.show()"
      ],
      "execution_count": null,
      "outputs": [
        {
          "output_type": "display_data",
          "data": {
            "image/png": "[encoded data removed]",
            "text/plain": [
              "<Figure size 720x360 with 1 Axes>"
            ]
          },
          "metadata": {
            "tags": [],
            "needs_background": "light"
          }
        }
      ]
    },
    {
      "cell_type": "code",
      "metadata": {
        "colab": {
          "base_uri": "https://localhost:8080/",
          "height": 320
        },
        "id": "BD6Els5kZAYR",
        "outputId": "876936e0-cfb8-4bd4-e609-7d45c014c11b"
      },
      "source": [
        "plt.figure(figsize=(10,5))\n",
        "plt.grid('on')\n",
        "plt.plot(pred_val[h:], label='Прогноз')\n",
        "plt.plot(y_val[:].values, label='Базовый ряд')\n",
        "plt.legend()\n",
        "plt.show()"
      ],
      "execution_count": null,
      "outputs": [
        {
          "output_type": "display_data",
          "data": {
            "image/png": "[encoded data removed]",
            "text/plain": [
              "<Figure size 720x360 with 1 Axes>"
            ]
          },
          "metadata": {
            "tags": [],
            "needs_background": "light"
          }
        }
      ]
    },
    {
      "cell_type": "markdown",
      "metadata": {
        "id": "EvZJD6Y2ZLMz"
      },
      "source": [
        "Уменьшим batch_size"
      ]
    },
    {
      "cell_type": "code",
      "metadata": {
        "colab": {
          "base_uri": "https://localhost:8080/"
        },
        "id": "qpEVasvSZElV",
        "outputId": "43f85ba0-b4bf-4d6e-fa0e-efc46b8a8066"
      },
      "source": [
        "dataset_train, dataset_val, inputs, targets = model_preparation(learning_rate = 0.001, batch_size = 6, epochs = 50)\n",
        "model = my_model()"
      ],
      "execution_count": null,
      "outputs": [
        {
          "output_type": "stream",
          "text": [
            "Input shape: (6, 12, 3)\n",
            "Target shape: (6,)\n"
          ],
          "name": "stdout"
        }
      ]
    },
    {
      "cell_type": "code",
      "metadata": {
        "colab": {
          "base_uri": "https://localhost:8080/",
          "height": 702
        },
        "id": "ZLuw1zpMZNZ2",
        "outputId": "1486fb2f-6c72-46ff-fc5a-b561f9b2beb5"
      },
      "source": [
        "history = model.fit(\n",
        "    dataset_train,\n",
        "    epochs=50,\n",
        "    validation_data=dataset_val,\n",
        "    callbacks=[callback])\n",
        "\n",
        "\n",
        "plt.plot(history.history['mae'][1:], \n",
        "         label='Средняя абсолютная ошибка на обучающем наборе')\n",
        "plt.plot(history.history['val_mae'][1:], \n",
        "         label='Средняя абсолютная ошибка на проверочном наборе')\n",
        "plt.ylabel('Средняя ошибка')\n",
        "plt.legend()\n",
        "plt.show()"
      ],
      "execution_count": null,
      "outputs": [
        {
          "output_type": "stream",
          "text": [
            "Epoch 1/50\n",
            "15/15 [==============================] - 4s 69ms/step - loss: 0.5657 - mae: 0.6172 - val_loss: 2.8601 - val_mae: 1.4701\n",
            "Epoch 2/50\n",
            "15/15 [==============================] - 0s 17ms/step - loss: 0.2536 - mae: 0.4461 - val_loss: 1.4474 - val_mae: 0.9219\n",
            "Epoch 3/50\n",
            "15/15 [==============================] - 0s 17ms/step - loss: 0.1495 - mae: 0.3198 - val_loss: 1.1566 - val_mae: 0.8209\n",
            "Epoch 4/50\n",
            "15/15 [==============================] - 0s 17ms/step - loss: 0.0629 - mae: 0.1966 - val_loss: 0.9504 - val_mae: 0.7488\n",
            "Epoch 5/50\n",
            "15/15 [==============================] - 0s 17ms/step - loss: 0.0691 - mae: 0.2124 - val_loss: 0.8383 - val_mae: 0.6982\n",
            "Epoch 6/50\n",
            "15/15 [==============================] - 0s 17ms/step - loss: 0.0652 - mae: 0.2038 - val_loss: 0.5976 - val_mae: 0.5704\n",
            "Epoch 7/50\n",
            "15/15 [==============================] - 0s 18ms/step - loss: 0.0655 - mae: 0.2025 - val_loss: 0.6922 - val_mae: 0.6342\n",
            "Epoch 8/50\n",
            "15/15 [==============================] - 0s 18ms/step - loss: 0.0649 - mae: 0.1988 - val_loss: 0.4424 - val_mae: 0.4874\n",
            "Epoch 9/50\n",
            "15/15 [==============================] - 0s 16ms/step - loss: 0.0746 - mae: 0.2189 - val_loss: 0.8589 - val_mae: 0.7502\n",
            "Epoch 10/50\n",
            "15/15 [==============================] - 0s 17ms/step - loss: 0.1026 - mae: 0.2499 - val_loss: 0.9983 - val_mae: 0.8467\n",
            "Epoch 11/50\n",
            "15/15 [==============================] - 0s 17ms/step - loss: 0.0881 - mae: 0.2414 - val_loss: 0.8179 - val_mae: 0.7420\n",
            "Epoch 12/50\n",
            "15/15 [==============================] - 0s 16ms/step - loss: 0.1099 - mae: 0.2398 - val_loss: 3.0038 - val_mae: 1.6547\n",
            "Epoch 13/50\n",
            "15/15 [==============================] - 0s 16ms/step - loss: 0.0748 - mae: 0.2166 - val_loss: 0.5127 - val_mae: 0.5555\n"
          ],
          "name": "stdout"
        },
        {
          "output_type": "display_data",
          "data": {
            "image/png": "[encoded data removed]",
            "text/plain": [
              "<Figure size 432x288 with 1 Axes>"
            ]
          },
          "metadata": {
            "tags": [],
            "needs_background": "light"
          }
        }
      ]
    },
    {
      "cell_type": "code",
      "metadata": {
        "id": "Fw091TCVZRLM"
      },
      "source": [
        "pred_train = model.predict(dataset_train).flatten()\n",
        "pred_val = model.predict(dataset_val).flatten()"
      ],
      "execution_count": null,
      "outputs": []
    },
    {
      "cell_type": "code",
      "metadata": {
        "colab": {
          "base_uri": "https://localhost:8080/",
          "height": 320
        },
        "id": "MgaqlTWOaEF6",
        "outputId": "d6f61664-04f8-4134-c258-565cb729825d"
      },
      "source": [
        "plt.figure(figsize=(10,5))\n",
        "plt.grid('on')\n",
        "plt.plot(pred_train, label='Прогноз')\n",
        "plt.plot(y_train[:train_split].values, label='Базовый ряд')\n",
        "plt.legend()\n",
        "plt.show()"
      ],
      "execution_count": null,
      "outputs": [
        {
          "output_type": "display_data",
          "data": {
            "image/png": "[encoded data removed]",
            "text/plain": [
              "<Figure size 720x360 with 1 Axes>"
            ]
          },
          "metadata": {
            "tags": [],
            "needs_background": "light"
          }
        }
      ]
    },
    {
      "cell_type": "code",
      "metadata": {
        "colab": {
          "base_uri": "https://localhost:8080/",
          "height": 320
        },
        "id": "VQrnXX1jaImL",
        "outputId": "2e64b1ca-b502-4228-fe0c-472f8d4b5f30"
      },
      "source": [
        "plt.figure(figsize=(10,5))\n",
        "plt.grid('on')\n",
        "plt.plot(pred_val[h:], label='Прогноз')\n",
        "plt.plot(y_val[:].values, label='Базовый ряд')\n",
        "plt.legend()\n",
        "plt.show()"
      ],
      "execution_count": null,
      "outputs": [
        {
          "output_type": "display_data",
          "data": {
            "image/png": "[encoded data removed]",
            "text/plain": [
              "<Figure size 720x360 with 1 Axes>"
            ]
          },
          "metadata": {
            "tags": [],
            "needs_background": "light"
          }
        }
      ]
    },
    {
      "cell_type": "markdown",
      "metadata": {
        "id": "KtYIQ9Iqae4O"
      },
      "source": [
        "Видимо, уменьшение параметра приводит к ухудшению результата. Однако его увеличение не дает сильного преимущества в связи с тем, что такое увеличение существенно ограничено малым количеством самих наблюдений"
      ]
    },
    {
      "cell_type": "code",
      "metadata": {
        "id": "1Xu_H3craMiQ"
      },
      "source": [
        ""
      ],
      "execution_count": null,
      "outputs": []
    }
  ]
}