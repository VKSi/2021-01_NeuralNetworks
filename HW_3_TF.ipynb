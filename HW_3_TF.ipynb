{
  "nbformat": 4,
  "nbformat_minor": 0,
  "metadata": {
    "colab": {
      "name": "HW_3.ipynb",
      "provenance": [],
      "collapsed_sections": [],
      "authorship_tag": "ABX9TyOaG0q1zVHKKwxz/q9VW2ea",
      "include_colab_link": true
    },
    "kernelspec": {
      "name": "python3",
      "display_name": "Python 3"
    }
  },
  "cells": [
    {
      "cell_type": "markdown",
      "metadata": {
        "id": "view-in-github",
        "colab_type": "text"
      },
      "source": [
        "<a href=\"https://colab.research.google.com/github/VKSi/2021_01_NeuralNetworks/blob/main/HW_3_TF.ipynb\" target=\"_parent\"><img src=\"https://colab.research.google.com/assets/colab-badge.svg\" alt=\"Open In Colab\"/></a>"
      ]
    },
    {
      "cell_type": "markdown",
      "metadata": {
        "id": "T7Qdd-WJLJyr"
      },
      "source": [
        "# Введение в искусственные нейронные сети\n",
        "# Урок 3. TensorFlow"
      ]
    },
    {
      "cell_type": "markdown",
      "metadata": {
        "id": "mgTdZzX8LTWi"
      },
      "source": [
        "## Практическое задание\n",
        "\n",
        "  1. Постройте нейронную сеть(берем простую линейную сеть, которую разбирали на уроке: меняем число слоев, число нейронов , типы активации, тип оптимизатора)  на датасет from sklearn.datasets import load_boston. \n",
        "  2. Измените функцию потерь и метрику для этой задачи. Постройте 10-15 вариантов и сведите результаты их работы в таблицу  Опишите, какого результата вы добились от нейросети? Что помогло вам улучшить ее точность?\n",
        "\n",
        "  3. Поработайте с документацией TensorFlow 2. Найти 2-3 полезные команды TensorFlow, не разобранные на уроке (полезные для Вас).\n",
        "\n",
        "  1-2. (*)  Попробуйте обучить нейронную сеть на TensorFlow 2 на датасете imdb_reviews .Опишите, какого результата вы добились от нейросети? Что помогло вам улучшить ее точность?\n",
        "    \n",
        "    \n",
        "</ol>\n",
        "\n",
        "\n",
        "\n",
        "## Набор данных для последнего ДЗ\n",
        "\n",
        "- COVID 19 диагностика https://www.kaggle.com/andrewmvd/covid19-ct-scans\n",
        "\n",
        "- Распознавание изображений цифр в представлении языка жестов https://www.kaggle.com/ardamavi/sign-language-digits-dataset"
      ]
    },
    {
      "cell_type": "markdown",
      "metadata": {
        "id": "W-J5Z4jHPgX3"
      },
      "source": [
        "# Решения"
      ]
    },
    {
      "cell_type": "markdown",
      "metadata": {
        "id": "6XkZUdscXBz7"
      },
      "source": [
        "При подготовке работы частично использовался тьюториал: https://machinelearningmastery.com/regression-tutorial-keras-deep-learning-library-python/"
      ]
    },
    {
      "cell_type": "markdown",
      "metadata": {
        "id": "9wCEOKqWRSU5"
      },
      "source": [
        "## Подготовка данных"
      ]
    },
    {
      "cell_type": "code",
      "metadata": {
        "colab": {
          "base_uri": "https://localhost:8080/"
        },
        "id": "QIeqVwPm0fJ1",
        "outputId": "2e57eb1a-3167-4c1e-cd86-a356cf4c00e0"
      },
      "source": [
        "from google.colab import drive\n",
        "drive.mount('/content/gdrive')"
      ],
      "execution_count": null,
      "outputs": [
        {
          "output_type": "stream",
          "text": [
            "Mounted at /content/gdrive\n"
          ],
          "name": "stdout"
        }
      ]
    },
    {
      "cell_type": "code",
      "metadata": {
        "id": "amyziLr20ldt"
      },
      "source": [
        "PATH = 'gdrive/My Drive/AI/GB/NeuralNetwork/Lesson3/'"
      ],
      "execution_count": null,
      "outputs": []
    },
    {
      "cell_type": "code",
      "metadata": {
        "colab": {
          "base_uri": "https://localhost:8080/"
        },
        "id": "nXGDAxOpIOFq",
        "outputId": "cead6928-87e9-4041-e4d2-b553e5a0b906"
      },
      "source": [
        "import tensorflow as tf\n",
        "print(tf.__version__)\n",
        "msg = tf.constant('TensorFlow 2.0 Hello World')\n",
        "tf.print(msg)"
      ],
      "execution_count": null,
      "outputs": [
        {
          "output_type": "stream",
          "text": [
            "2.4.0\n",
            "TensorFlow 2.0 Hello World\n"
          ],
          "name": "stdout"
        }
      ]
    },
    {
      "cell_type": "code",
      "metadata": {
        "id": "snCTumoXKH-m"
      },
      "source": [
        "import numpy as np\n",
        "import pandas as pd\n",
        "import matplotlib.pyplot as plt\n",
        "\n",
        "from sklearn.model_selection import train_test_split, cross_val_score, KFold\n",
        "from sklearn.preprocessing import StandardScaler\n",
        "from sklearn.pipeline import Pipeline\n",
        "\n",
        "from tensorflow.keras.layers import Input, Flatten, Dense\n",
        "from tensorflow.keras.models import Sequential, Model\n",
        "from tensorflow.keras.optimizers import Adam, SGD, RMSprop\n",
        "from tensorflow.keras.wrappers.scikit_learn import KerasRegressor\n",
        "from tensorflow.keras.utils import plot_model, to_categorical"
      ],
      "execution_count": null,
      "outputs": []
    },
    {
      "cell_type": "markdown",
      "metadata": {
        "id": "RbyY7tb6M0i7"
      },
      "source": [
        "### Знакомимся с датасетом"
      ]
    },
    {
      "cell_type": "code",
      "metadata": {
        "id": "guCfLX5oIfrV"
      },
      "source": [
        " from sklearn.datasets import load_boston"
      ],
      "execution_count": null,
      "outputs": []
    },
    {
      "cell_type": "code",
      "metadata": {
        "id": "bg936mmzLMGS"
      },
      "source": [
        "X, y = load_boston(return_X_y=True)"
      ],
      "execution_count": null,
      "outputs": []
    },
    {
      "cell_type": "code",
      "metadata": {
        "colab": {
          "base_uri": "https://localhost:8080/"
        },
        "id": "wkYVjHVRLMC9",
        "outputId": "f77eca22-f7cd-489d-914f-f5096354b2fa"
      },
      "source": [
        "X.shape"
      ],
      "execution_count": null,
      "outputs": [
        {
          "output_type": "execute_result",
          "data": {
            "text/plain": [
              "(506, 13)"
            ]
          },
          "metadata": {
            "tags": []
          },
          "execution_count": 10
        }
      ]
    },
    {
      "cell_type": "code",
      "metadata": {
        "colab": {
          "base_uri": "https://localhost:8080/"
        },
        "id": "QUL5QT1hLMAz",
        "outputId": "6f28c08e-81bb-4831-8578-895b6946aaab"
      },
      "source": [
        "y.shape"
      ],
      "execution_count": null,
      "outputs": [
        {
          "output_type": "execute_result",
          "data": {
            "text/plain": [
              "(506,)"
            ]
          },
          "metadata": {
            "tags": []
          },
          "execution_count": 11
        }
      ]
    },
    {
      "cell_type": "code",
      "metadata": {
        "colab": {
          "base_uri": "https://localhost:8080/"
        },
        "id": "gwwP9vBEMbvb",
        "outputId": "ef885847-1530-49e0-92c1-a8b1d471a239"
      },
      "source": [
        "X[:3][:]"
      ],
      "execution_count": null,
      "outputs": [
        {
          "output_type": "execute_result",
          "data": {
            "text/plain": [
              "array([[6.3200e-03, 1.8000e+01, 2.3100e+00, 0.0000e+00, 5.3800e-01,\n",
              "        6.5750e+00, 6.5200e+01, 4.0900e+00, 1.0000e+00, 2.9600e+02,\n",
              "        1.5300e+01, 3.9690e+02, 4.9800e+00],\n",
              "       [2.7310e-02, 0.0000e+00, 7.0700e+00, 0.0000e+00, 4.6900e-01,\n",
              "        6.4210e+00, 7.8900e+01, 4.9671e+00, 2.0000e+00, 2.4200e+02,\n",
              "        1.7800e+01, 3.9690e+02, 9.1400e+00],\n",
              "       [2.7290e-02, 0.0000e+00, 7.0700e+00, 0.0000e+00, 4.6900e-01,\n",
              "        7.1850e+00, 6.1100e+01, 4.9671e+00, 2.0000e+00, 2.4200e+02,\n",
              "        1.7800e+01, 3.9283e+02, 4.0300e+00]])"
            ]
          },
          "metadata": {
            "tags": []
          },
          "execution_count": 12
        }
      ]
    },
    {
      "cell_type": "code",
      "metadata": {
        "colab": {
          "base_uri": "https://localhost:8080/"
        },
        "id": "ryHrYj6AOtmB",
        "outputId": "a4917750-6908-4645-db6a-5829d4d072c6"
      },
      "source": [
        "X[0].shape"
      ],
      "execution_count": null,
      "outputs": [
        {
          "output_type": "execute_result",
          "data": {
            "text/plain": [
              "(13,)"
            ]
          },
          "metadata": {
            "tags": []
          },
          "execution_count": 13
        }
      ]
    },
    {
      "cell_type": "code",
      "metadata": {
        "colab": {
          "base_uri": "https://localhost:8080/"
        },
        "id": "2bM9sU-NMbl0",
        "outputId": "e87c27a4-56ca-43c0-967a-ac2e81c40236"
      },
      "source": [
        "y[:3]"
      ],
      "execution_count": null,
      "outputs": [
        {
          "output_type": "execute_result",
          "data": {
            "text/plain": [
              "array([24. , 21.6, 34.7])"
            ]
          },
          "metadata": {
            "tags": []
          },
          "execution_count": 14
        }
      ]
    },
    {
      "cell_type": "code",
      "metadata": {
        "colab": {
          "base_uri": "https://localhost:8080/"
        },
        "id": "JRBOihucMbgb",
        "outputId": "89b6f539-2539-427a-a5cd-068631e65256"
      },
      "source": [
        "np.min(X, axis=0) >= 0"
      ],
      "execution_count": null,
      "outputs": [
        {
          "output_type": "execute_result",
          "data": {
            "text/plain": [
              "array([ True,  True,  True,  True,  True,  True,  True,  True,  True,\n",
              "        True,  True,  True,  True])"
            ]
          },
          "metadata": {
            "tags": []
          },
          "execution_count": 15
        }
      ]
    },
    {
      "cell_type": "code",
      "metadata": {
        "id": "rWQ9bV4jMbek"
      },
      "source": [
        "X_train, X_test, y_train, y_test = train_test_split(X, y, test_size=0.20, random_state=42)"
      ],
      "execution_count": null,
      "outputs": []
    },
    {
      "cell_type": "code",
      "metadata": {
        "id": "ghpjeMQcMbca"
      },
      "source": [
        "def baseline_model():\n",
        "  inputs = Input(shape=(13))\n",
        "  x = Dense(128, activation='relu')(inputs)\n",
        "  outputs = Dense(1)(x)\n",
        "  model = Model(inputs,outputs)\n",
        "  model.compile(loss='mean_squared_error', optimizer='adam', metrics='MSE')\n",
        "  return model"
      ],
      "execution_count": null,
      "outputs": []
    },
    {
      "cell_type": "code",
      "metadata": {
        "colab": {
          "base_uri": "https://localhost:8080/"
        },
        "id": "FHOYQT4VPTHa",
        "outputId": "bb0c4dac-e2b1-4495-d052-7d861ed9f4d2"
      },
      "source": [
        "baseline_model().summary()"
      ],
      "execution_count": null,
      "outputs": [
        {
          "output_type": "stream",
          "text": [
            "Model: \"model\"\n",
            "_________________________________________________________________\n",
            "Layer (type)                 Output Shape              Param #   \n",
            "=================================================================\n",
            "input_1 (InputLayer)         [(None, 13)]              0         \n",
            "_________________________________________________________________\n",
            "dense (Dense)                (None, 128)               1792      \n",
            "_________________________________________________________________\n",
            "dense_1 (Dense)              (None, 1)                 129       \n",
            "=================================================================\n",
            "Total params: 1,921\n",
            "Trainable params: 1,921\n",
            "Non-trainable params: 0\n",
            "_________________________________________________________________\n"
          ],
          "name": "stdout"
        }
      ]
    },
    {
      "cell_type": "markdown",
      "metadata": {
        "id": "lI-3IFM9XMvi"
      },
      "source": [
        "Так как параметры датасета измеряют разные величины, есть смысл при обучении и оценке использовать нормализацию"
      ]
    },
    {
      "cell_type": "markdown",
      "metadata": {
        "id": "xr-VJ8M9YJwS"
      },
      "source": [
        "Оценим базовую модель. К предложенной в тюториал модели кросс-валидации добавим еще усреднение по нескольким запускам. Это даст возможность получать более устойчивый результат с учетом различия в начальной активации весов. Поместим это все в процедуру и сделаем ее параметрической."
      ]
    },
    {
      "cell_type": "code",
      "metadata": {
        "id": "yneZo_IsPTCI"
      },
      "source": [
        "def print_simple_result(model_, X, y, metrics, number_of_folds=5, number_of_starts=1, number_of_epochs=10):\n",
        "  results = list()\n",
        "  for i in range(number_of_starts):\n",
        "    kfold = KFold(n_splits=number_of_folds)\n",
        "\n",
        "    estimators = []\n",
        "    estimators.append(('standardize', StandardScaler()))\n",
        "    estimators.append(('mlp', KerasRegressor(build_fn=model_, epochs=number_of_epochs, batch_size=5, verbose=0)))\n",
        "    pipeline = Pipeline(estimators)\n",
        "\n",
        "    results += list(cross_val_score(pipeline, X, y, cv=kfold))\n",
        "\n",
        "  print(f\"{metrics}: среднее значение = {np.mean(results):.2f}, стандартное отклонение =  {np.std(results):.2f}\")\n",
        "  return results"
      ],
      "execution_count": null,
      "outputs": []
    },
    {
      "cell_type": "code",
      "metadata": {
        "colab": {
          "base_uri": "https://localhost:8080/"
        },
        "id": "y3azqEppbuaf",
        "outputId": "e0d43329-0548-4211-8318-bb9364f5d969"
      },
      "source": [
        "r = print_simple_result(baseline_model, X, y, metrics = 'MSE', number_of_starts=5, number_of_epochs=50)"
      ],
      "execution_count": null,
      "outputs": [
        {
          "output_type": "stream",
          "text": [
            "MSE: среднее значение = -23.27, стандартное отклонение =  13.29\n"
          ],
          "name": "stdout"
        }
      ]
    },
    {
      "cell_type": "markdown",
      "metadata": {
        "id": "jAYwo9JfaOfd"
      },
      "source": [
        "Перепишем функцию создания модели так, чтобы в нее можно было передавать соответствующие заданию параметры: "
      ]
    },
    {
      "cell_type": "code",
      "metadata": {
        "id": "daohtM6IPS93"
      },
      "source": [
        "def parametric_model(neurons_number=128,\n",
        "                     activation_func='relu',\n",
        "                     optimizer_type='adam',\n",
        "                     layers_number = 1,\n",
        "                     loss_function='mean_squared_error',\n",
        "                     metrics='MSE'):\n",
        "  def b_func():\n",
        "    inputs = Input(shape=(13))\n",
        "    x = Flatten()(inputs)\n",
        "    for i in range(layers_number):\n",
        "      x = Dense(neurons_number, activation=activation_func, name='dense_'+str(i))(x)\n",
        "    outputs = Dense(1)(x)\n",
        "    model = Model(inputs,outputs)\n",
        "    model.compile(loss=loss_function, optimizer=optimizer_type, metrics=metrics)\n",
        "    return model\n",
        "\n",
        "  return b_func, b_func()"
      ],
      "execution_count": null,
      "outputs": []
    },
    {
      "cell_type": "markdown",
      "metadata": {
        "id": "SKRjixKsa2Pk"
      },
      "source": [
        "Проверяем, что при параметрах по-умолчанию результат сохранился"
      ]
    },
    {
      "cell_type": "code",
      "metadata": {
        "id": "m_jWiU2umhR8"
      },
      "source": [
        "pm_func, pm = parametric_model(neurons_number = 128,\n",
        "                                activation_func = 'relu',\n",
        "                                optimizer_type = 'adam',\n",
        "                                layers_number = 1,\n",
        "                                loss_function = 'mean_squared_error',\n",
        "                                metrics = 'MSE')"
      ],
      "execution_count": null,
      "outputs": []
    },
    {
      "cell_type": "code",
      "metadata": {
        "colab": {
          "base_uri": "https://localhost:8080/"
        },
        "id": "IClFn8HGmklI",
        "outputId": "ba3cc333-683e-4438-f0c4-c0fa1f2f22ad"
      },
      "source": [
        "pm.summary()"
      ],
      "execution_count": null,
      "outputs": [
        {
          "output_type": "stream",
          "text": [
            "Model: \"model_26\"\n",
            "_________________________________________________________________\n",
            "Layer (type)                 Output Shape              Param #   \n",
            "=================================================================\n",
            "input_27 (InputLayer)        [(None, 13)]              0         \n",
            "_________________________________________________________________\n",
            "flatten (Flatten)            (None, 13)                0         \n",
            "_________________________________________________________________\n",
            "dense_0 (Dense)              (None, 128)               1792      \n",
            "_________________________________________________________________\n",
            "dense_52 (Dense)             (None, 1)                 129       \n",
            "=================================================================\n",
            "Total params: 1,921\n",
            "Trainable params: 1,921\n",
            "Non-trainable params: 0\n",
            "_________________________________________________________________\n"
          ],
          "name": "stdout"
        }
      ]
    },
    {
      "cell_type": "code",
      "metadata": {
        "colab": {
          "base_uri": "https://localhost:8080/"
        },
        "id": "Eq-dsFwznqZe",
        "outputId": "7ffdba11-957c-4eb9-8a7c-aeb746d5b0c0"
      },
      "source": [
        "r = print_simple_result(pm_func, X, y, metrics='MSE',\n",
        "                        number_of_folds=5,\n",
        "                        number_of_starts=5,\n",
        "                        number_of_epochs=50)"
      ],
      "execution_count": null,
      "outputs": [
        {
          "output_type": "stream",
          "text": [
            "MSE: среднее значение = -24.00, стандартное отклонение =  13.34\n"
          ],
          "name": "stdout"
        }
      ]
    },
    {
      "cell_type": "markdown",
      "metadata": {
        "id": "nMrdcGBmrLaa"
      },
      "source": [
        "Проверим работу на небазовых параметрах:"
      ]
    },
    {
      "cell_type": "code",
      "metadata": {
        "id": "KHsZd0hXrRNM"
      },
      "source": [
        "pm_func, pm = parametric_model(neurons_number = 256,\n",
        "                                activation_func = 'exponential',\n",
        "                                optimizer_type = 'rmsprop',\n",
        "                                layers_number = 2,\n",
        "                                loss_function = 'mean_absolute_error',\n",
        "                                metrics = 'mean_absolute_error')"
      ],
      "execution_count": null,
      "outputs": []
    },
    {
      "cell_type": "code",
      "metadata": {
        "colab": {
          "base_uri": "https://localhost:8080/"
        },
        "id": "gz_VXVxWwZqV",
        "outputId": "3923b8b9-b488-4735-b489-ab6cf24e4b6d"
      },
      "source": [
        "pm.summary()"
      ],
      "execution_count": null,
      "outputs": [
        {
          "output_type": "stream",
          "text": [
            "Model: \"model_52\"\n",
            "_________________________________________________________________\n",
            "Layer (type)                 Output Shape              Param #   \n",
            "=================================================================\n",
            "input_53 (InputLayer)        [(None, 13)]              0         \n",
            "_________________________________________________________________\n",
            "flatten_26 (Flatten)         (None, 13)                0         \n",
            "_________________________________________________________________\n",
            "dense_0 (Dense)              (None, 256)               3584      \n",
            "_________________________________________________________________\n",
            "dense_1 (Dense)              (None, 256)               65792     \n",
            "_________________________________________________________________\n",
            "dense_78 (Dense)             (None, 1)                 257       \n",
            "=================================================================\n",
            "Total params: 69,633\n",
            "Trainable params: 69,633\n",
            "Non-trainable params: 0\n",
            "_________________________________________________________________\n"
          ],
          "name": "stdout"
        }
      ]
    },
    {
      "cell_type": "code",
      "metadata": {
        "colab": {
          "base_uri": "https://localhost:8080/"
        },
        "id": "YAaA2oU9xSah",
        "outputId": "38613679-76e4-4ad6-9be6-f2148bb08f2a"
      },
      "source": [
        "r = print_simple_result(pm_func, X, y, metrics='mean_absolute_error',\n",
        "                        number_of_folds=5,\n",
        "                        number_of_starts=5,\n",
        "                        number_of_epochs=50)"
      ],
      "execution_count": null,
      "outputs": [
        {
          "output_type": "stream",
          "text": [
            "mean_absolute_error: среднее значение = -273.04, стандартное отклонение =  1099.52\n"
          ],
          "name": "stdout"
        }
      ]
    },
    {
      "cell_type": "markdown",
      "metadata": {
        "id": "myUDsv6igYbX"
      },
      "source": [
        "Осталось запустить процедуру для разных параметров и пойти пару часиков вздремнуть:"
      ]
    },
    {
      "cell_type": "code",
      "metadata": {
        "id": "dKDvP8onPS5_"
      },
      "source": [
        "neurons_number_grid = [128, 256, 512]\n",
        "activation_func_grid = ['relu', 'sigmoid', 'tanh', 'exponential']\n",
        "optimizer_type_grid = ['adam', 'sgd', 'rmsprop']\n",
        "layers_number_grid = list(range(1, 5))\n",
        "loss_function_grid = ['mean_squared_error', 'mean_absolute_percentage_error'] # Так как разброс таргета (цены продажи) может быть большим, есть смысл посмотреть на процентные отклонения\n",
        "# Для метрики используем те же функции что и для потерь"
      ],
      "execution_count": null,
      "outputs": []
    },
    {
      "cell_type": "code",
      "metadata": {
        "id": "MAPFmJaSjJmJ"
      },
      "source": [
        "# df = pd.DataFrame()"
      ],
      "execution_count": null,
      "outputs": []
    },
    {
      "cell_type": "code",
      "metadata": {
        "id": "4AyYhaMin_iZ"
      },
      "source": [
        "data = pd.read_csv(PATH + f'results_{144}.csv')  # Запускать пришлось в несколько заходов"
      ],
      "execution_count": null,
      "outputs": []
    },
    {
      "cell_type": "code",
      "metadata": {
        "colab": {
          "base_uri": "https://localhost:8080/"
        },
        "id": "dPI6u3oWPS1m",
        "outputId": "dd7c9f33-f64b-4ad0-dc7a-f3306a0779e1"
      },
      "source": [
        "df = data.copy()\n",
        "experiment_number = 0\n",
        "for loss_function in loss_function_grid:\n",
        "  for optimizer_type in optimizer_type_grid:\n",
        "    for activation_func in activation_func_grid:\n",
        "      for layers_number in layers_number_grid:\n",
        "        for neurons_number in neurons_number_grid:\n",
        "          experiment_number += 1\n",
        "          if experiment_number <= data.index.max():\n",
        "            continue\n",
        "          df.loc[experiment_number, 'loss_function'] = loss_function\n",
        "          df.loc[experiment_number, 'optimizer_type'] = optimizer_type\n",
        "          df.loc[experiment_number, 'activation_func'] = activation_func\n",
        "          df.loc[experiment_number, 'layers_number'] = layers_number\n",
        "          df.loc[experiment_number, 'neurons_number'] = neurons_number\n",
        "          print('*'*50)\n",
        "          print('experiment_number: ', experiment_number)\n",
        "          print('loss_function: ', loss_function)\n",
        "          print('optimizer_type: ', optimizer_type)\n",
        "          print('activation_func: ', activation_func)\n",
        "          print('layers_number: ', layers_number)\n",
        "          print('neurons_number: ', neurons_number)\n",
        "          pm_func, pm = parametric_model(neurons_number = neurons_number,\n",
        "                                activation_func = activation_func,\n",
        "                                optimizer_type = optimizer_type,\n",
        "                                layers_number = layers_number,\n",
        "                                loss_function = loss_function,\n",
        "                                metrics = loss_function)\n",
        "          r = print_simple_result(pm_func, X, y, metrics=loss_function,\n",
        "                        number_of_folds=5,\n",
        "                        number_of_starts=5,\n",
        "                        number_of_epochs=50)\n",
        "          df.loc[experiment_number, 'result'] = np.mean(r)\n",
        "          df.loc[experiment_number, 'std'] = np.std(r)\n",
        "          print('result:', df.loc[experiment_number, 'result'])\n",
        "          print('std: ', df.loc[experiment_number, 'std'])\n",
        "      df.to_csv(PATH + f'results_{experiment_number}.csv')"
      ],
      "execution_count": null,
      "outputs": [
        {
          "output_type": "stream",
          "text": [
            "**************************************************\n",
            "experiment_number:  145\n",
            "loss_function:  mean_absolute_percentage_error\n",
            "optimizer_type:  adam\n",
            "activation_func:  relu\n",
            "layers_number:  1\n",
            "neurons_number:  128\n",
            "mean_absolute_percentage_error: среднее значение = -16.48, стандартное отклонение =  6.66\n",
            "result: -16.480697898864747\n",
            "std:  6.65693316169931\n",
            "**************************************************\n",
            "experiment_number:  146\n",
            "loss_function:  mean_absolute_percentage_error\n",
            "optimizer_type:  adam\n",
            "activation_func:  relu\n",
            "layers_number:  1\n",
            "neurons_number:  256\n",
            "mean_absolute_percentage_error: среднее значение = -16.61, стандартное отклонение =  7.04\n",
            "result: -16.607696685791016\n",
            "std:  7.035343663192917\n",
            "**************************************************\n",
            "experiment_number:  147\n",
            "loss_function:  mean_absolute_percentage_error\n",
            "optimizer_type:  adam\n",
            "activation_func:  relu\n",
            "layers_number:  1\n",
            "neurons_number:  512\n",
            "mean_absolute_percentage_error: среднее значение = -16.43, стандартное отклонение =  6.85\n",
            "result: -16.427334709167482\n",
            "std:  6.854744789473077\n",
            "**************************************************\n",
            "experiment_number:  148\n",
            "loss_function:  mean_absolute_percentage_error\n",
            "optimizer_type:  adam\n",
            "activation_func:  relu\n",
            "layers_number:  2\n",
            "neurons_number:  128\n",
            "mean_absolute_percentage_error: среднее значение = -15.86, стандартное отклонение =  6.55\n",
            "result: -15.863842601776122\n",
            "std:  6.553571794185147\n",
            "**************************************************\n",
            "experiment_number:  149\n",
            "loss_function:  mean_absolute_percentage_error\n",
            "optimizer_type:  adam\n",
            "activation_func:  relu\n",
            "layers_number:  2\n",
            "neurons_number:  256\n",
            "mean_absolute_percentage_error: среднее значение = -16.37, стандартное отклонение =  6.02\n",
            "result: -16.368331661224364\n",
            "std:  6.020687108538161\n",
            "**************************************************\n",
            "experiment_number:  150\n",
            "loss_function:  mean_absolute_percentage_error\n",
            "optimizer_type:  adam\n",
            "activation_func:  relu\n",
            "layers_number:  2\n",
            "neurons_number:  512\n",
            "mean_absolute_percentage_error: среднее значение = -15.92, стандартное отклонение =  6.21\n",
            "result: -15.923255252838135\n",
            "std:  6.214010719395143\n",
            "**************************************************\n",
            "experiment_number:  151\n",
            "loss_function:  mean_absolute_percentage_error\n",
            "optimizer_type:  adam\n",
            "activation_func:  relu\n",
            "layers_number:  3\n",
            "neurons_number:  128\n",
            "mean_absolute_percentage_error: среднее значение = -17.19, стандартное отклонение =  7.50\n",
            "result: -17.194135971069336\n",
            "std:  7.497415500245856\n",
            "**************************************************\n",
            "experiment_number:  152\n",
            "loss_function:  mean_absolute_percentage_error\n",
            "optimizer_type:  adam\n",
            "activation_func:  relu\n",
            "layers_number:  3\n",
            "neurons_number:  256\n",
            "mean_absolute_percentage_error: среднее значение = -17.45, стандартное отклонение =  7.76\n",
            "result: -17.4457364654541\n",
            "std:  7.760837311426587\n",
            "**************************************************\n",
            "experiment_number:  153\n",
            "loss_function:  mean_absolute_percentage_error\n",
            "optimizer_type:  adam\n",
            "activation_func:  relu\n",
            "layers_number:  3\n",
            "neurons_number:  512\n",
            "mean_absolute_percentage_error: среднее значение = -16.90, стандартное отклонение =  6.17\n",
            "result: -16.902497997283934\n",
            "std:  6.170179627370891\n",
            "**************************************************\n",
            "experiment_number:  154\n",
            "loss_function:  mean_absolute_percentage_error\n",
            "optimizer_type:  adam\n",
            "activation_func:  relu\n",
            "layers_number:  4\n",
            "neurons_number:  128\n",
            "mean_absolute_percentage_error: среднее значение = -18.58, стандартное отклонение =  9.11\n",
            "result: -18.577943267822267\n",
            "std:  9.11414150395164\n",
            "**************************************************\n",
            "experiment_number:  155\n",
            "loss_function:  mean_absolute_percentage_error\n",
            "optimizer_type:  adam\n",
            "activation_func:  relu\n",
            "layers_number:  4\n",
            "neurons_number:  256\n",
            "mean_absolute_percentage_error: среднее значение = -16.95, стандартное отклонение =  5.43\n",
            "result: -16.95076545715332\n",
            "std:  5.4275999463441735\n",
            "**************************************************\n",
            "experiment_number:  156\n",
            "loss_function:  mean_absolute_percentage_error\n",
            "optimizer_type:  adam\n",
            "activation_func:  relu\n",
            "layers_number:  4\n",
            "neurons_number:  512\n",
            "mean_absolute_percentage_error: среднее значение = -17.03, стандартное отклонение =  6.89\n",
            "result: -17.032950859069825\n",
            "std:  6.891642922025689\n",
            "**************************************************\n",
            "experiment_number:  157\n",
            "loss_function:  mean_absolute_percentage_error\n",
            "optimizer_type:  adam\n",
            "activation_func:  sigmoid\n",
            "layers_number:  1\n",
            "neurons_number:  128\n",
            "mean_absolute_percentage_error: среднее значение = -16.09, стандартное отклонение =  4.34\n",
            "result: -16.087339172363283\n",
            "std:  4.338635502657636\n",
            "**************************************************\n",
            "experiment_number:  158\n",
            "loss_function:  mean_absolute_percentage_error\n",
            "optimizer_type:  adam\n",
            "activation_func:  sigmoid\n",
            "layers_number:  1\n",
            "neurons_number:  256\n",
            "mean_absolute_percentage_error: среднее значение = -16.13, стандартное отклонение =  4.49\n",
            "result: -16.134520530700684\n",
            "std:  4.489955395262601\n",
            "**************************************************\n",
            "experiment_number:  159\n",
            "loss_function:  mean_absolute_percentage_error\n",
            "optimizer_type:  adam\n",
            "activation_func:  sigmoid\n",
            "layers_number:  1\n",
            "neurons_number:  512\n",
            "mean_absolute_percentage_error: среднее значение = -16.21, стандартное отклонение =  4.58\n",
            "result: -16.212221145629883\n",
            "std:  4.57906102649276\n",
            "**************************************************\n",
            "experiment_number:  160\n",
            "loss_function:  mean_absolute_percentage_error\n",
            "optimizer_type:  adam\n",
            "activation_func:  sigmoid\n",
            "layers_number:  2\n",
            "neurons_number:  128\n",
            "mean_absolute_percentage_error: среднее значение = -15.57, стандартное отклонение =  3.18\n",
            "result: -15.571390609741211\n",
            "std:  3.1803564554310926\n",
            "**************************************************\n",
            "experiment_number:  161\n",
            "loss_function:  mean_absolute_percentage_error\n",
            "optimizer_type:  adam\n",
            "activation_func:  sigmoid\n",
            "layers_number:  2\n",
            "neurons_number:  256\n",
            "mean_absolute_percentage_error: среднее значение = -15.01, стандартное отклонение =  3.60\n",
            "result: -15.011929397583009\n",
            "std:  3.6005929804914283\n",
            "**************************************************\n",
            "experiment_number:  162\n",
            "loss_function:  mean_absolute_percentage_error\n",
            "optimizer_type:  adam\n",
            "activation_func:  sigmoid\n",
            "layers_number:  2\n",
            "neurons_number:  512\n",
            "mean_absolute_percentage_error: среднее значение = -15.33, стандартное отклонение =  4.14\n",
            "result: -15.334685859680176\n",
            "std:  4.142767272747466\n",
            "**************************************************\n",
            "experiment_number:  163\n",
            "loss_function:  mean_absolute_percentage_error\n",
            "optimizer_type:  adam\n",
            "activation_func:  sigmoid\n",
            "layers_number:  3\n",
            "neurons_number:  128\n",
            "mean_absolute_percentage_error: среднее значение = -15.62, стандартное отклонение =  3.06\n",
            "result: -15.620266952514648\n",
            "std:  3.06284210717727\n",
            "**************************************************\n",
            "experiment_number:  164\n",
            "loss_function:  mean_absolute_percentage_error\n",
            "optimizer_type:  adam\n",
            "activation_func:  sigmoid\n",
            "layers_number:  3\n",
            "neurons_number:  256\n",
            "mean_absolute_percentage_error: среднее значение = -15.37, стандартное отклонение =  3.66\n",
            "result: -15.367139396667481\n",
            "std:  3.660364489550854\n",
            "**************************************************\n",
            "experiment_number:  165\n",
            "loss_function:  mean_absolute_percentage_error\n",
            "optimizer_type:  adam\n",
            "activation_func:  sigmoid\n",
            "layers_number:  3\n",
            "neurons_number:  512\n",
            "mean_absolute_percentage_error: среднее значение = -15.94, стандартное отклонение =  3.33\n",
            "result: -15.94189250946045\n",
            "std:  3.3304657882419613\n",
            "**************************************************\n",
            "experiment_number:  166\n",
            "loss_function:  mean_absolute_percentage_error\n",
            "optimizer_type:  adam\n",
            "activation_func:  sigmoid\n",
            "layers_number:  4\n",
            "neurons_number:  128\n",
            "mean_absolute_percentage_error: среднее значение = -15.45, стандартное отклонение =  3.33\n",
            "result: -15.447258415222167\n",
            "std:  3.3265361102849256\n",
            "**************************************************\n",
            "experiment_number:  167\n",
            "loss_function:  mean_absolute_percentage_error\n",
            "optimizer_type:  adam\n",
            "activation_func:  sigmoid\n",
            "layers_number:  4\n",
            "neurons_number:  256\n",
            "mean_absolute_percentage_error: среднее значение = -15.71, стандартное отклонение =  3.84\n",
            "result: -15.714063262939453\n",
            "std:  3.836498615992055\n",
            "**************************************************\n",
            "experiment_number:  168\n",
            "loss_function:  mean_absolute_percentage_error\n",
            "optimizer_type:  adam\n",
            "activation_func:  sigmoid\n",
            "layers_number:  4\n",
            "neurons_number:  512\n",
            "mean_absolute_percentage_error: среднее значение = -15.32, стандартное отклонение =  3.96\n",
            "result: -15.315601310729981\n",
            "std:  3.9605376728881616\n",
            "**************************************************\n",
            "experiment_number:  169\n",
            "loss_function:  mean_absolute_percentage_error\n",
            "optimizer_type:  adam\n",
            "activation_func:  tanh\n",
            "layers_number:  1\n",
            "neurons_number:  128\n",
            "mean_absolute_percentage_error: среднее значение = -17.28, стандартное отклонение =  5.52\n",
            "result: -17.284855308532716\n",
            "std:  5.515776335619958\n",
            "**************************************************\n",
            "experiment_number:  170\n",
            "loss_function:  mean_absolute_percentage_error\n",
            "optimizer_type:  adam\n",
            "activation_func:  tanh\n",
            "layers_number:  1\n",
            "neurons_number:  256\n",
            "mean_absolute_percentage_error: среднее значение = -16.84, стандартное отклонение =  5.72\n",
            "result: -16.840707092285157\n",
            "std:  5.720902353020267\n",
            "**************************************************\n",
            "experiment_number:  171\n",
            "loss_function:  mean_absolute_percentage_error\n",
            "optimizer_type:  adam\n",
            "activation_func:  tanh\n",
            "layers_number:  1\n",
            "neurons_number:  512\n",
            "mean_absolute_percentage_error: среднее значение = -16.89, стандартное отклонение =  6.37\n",
            "result: -16.886256523132325\n",
            "std:  6.370000494913747\n",
            "**************************************************\n",
            "experiment_number:  172\n",
            "loss_function:  mean_absolute_percentage_error\n",
            "optimizer_type:  adam\n",
            "activation_func:  tanh\n",
            "layers_number:  2\n",
            "neurons_number:  128\n",
            "mean_absolute_percentage_error: среднее значение = -16.28, стандартное отклонение =  5.77\n",
            "result: -16.28231327056885\n",
            "std:  5.773804812575878\n",
            "**************************************************\n",
            "experiment_number:  173\n",
            "loss_function:  mean_absolute_percentage_error\n",
            "optimizer_type:  adam\n",
            "activation_func:  tanh\n",
            "layers_number:  2\n",
            "neurons_number:  256\n",
            "mean_absolute_percentage_error: среднее значение = -15.85, стандартное отклонение =  5.01\n",
            "result: -15.84545680999756\n",
            "std:  5.009190130606654\n",
            "**************************************************\n",
            "experiment_number:  174\n",
            "loss_function:  mean_absolute_percentage_error\n",
            "optimizer_type:  adam\n",
            "activation_func:  tanh\n",
            "layers_number:  2\n",
            "neurons_number:  512\n",
            "mean_absolute_percentage_error: среднее значение = -16.26, стандартное отклонение =  5.48\n",
            "result: -16.262017097473144\n",
            "std:  5.479687933574954\n",
            "**************************************************\n",
            "experiment_number:  175\n",
            "loss_function:  mean_absolute_percentage_error\n",
            "optimizer_type:  adam\n",
            "activation_func:  tanh\n",
            "layers_number:  3\n",
            "neurons_number:  128\n",
            "mean_absolute_percentage_error: среднее значение = -17.44, стандартное отклонение =  5.83\n",
            "result: -17.44002185821533\n",
            "std:  5.827219472242642\n",
            "**************************************************\n",
            "experiment_number:  176\n",
            "loss_function:  mean_absolute_percentage_error\n",
            "optimizer_type:  adam\n",
            "activation_func:  tanh\n",
            "layers_number:  3\n",
            "neurons_number:  256\n",
            "mean_absolute_percentage_error: среднее значение = -16.49, стандартное отклонение =  5.25\n",
            "result: -16.492611656188966\n",
            "std:  5.251463692059245\n",
            "**************************************************\n",
            "experiment_number:  177\n",
            "loss_function:  mean_absolute_percentage_error\n",
            "optimizer_type:  adam\n",
            "activation_func:  tanh\n",
            "layers_number:  3\n",
            "neurons_number:  512\n",
            "mean_absolute_percentage_error: среднее значение = -17.43, стандартное отклонение =  5.87\n",
            "result: -17.428472137451173\n",
            "std:  5.873462782992777\n",
            "**************************************************\n",
            "experiment_number:  178\n",
            "loss_function:  mean_absolute_percentage_error\n",
            "optimizer_type:  adam\n",
            "activation_func:  tanh\n",
            "layers_number:  4\n",
            "neurons_number:  128\n",
            "mean_absolute_percentage_error: среднее значение = -17.22, стандартное отклонение =  5.24\n",
            "result: -17.215368499755858\n",
            "std:  5.240413510663853\n",
            "**************************************************\n",
            "experiment_number:  179\n",
            "loss_function:  mean_absolute_percentage_error\n",
            "optimizer_type:  adam\n",
            "activation_func:  tanh\n",
            "layers_number:  4\n",
            "neurons_number:  256\n",
            "mean_absolute_percentage_error: среднее значение = -19.06, стандартное отклонение =  7.11\n",
            "result: -19.05760799407959\n",
            "std:  7.110736975300771\n",
            "**************************************************\n",
            "experiment_number:  180\n",
            "loss_function:  mean_absolute_percentage_error\n",
            "optimizer_type:  adam\n",
            "activation_func:  tanh\n",
            "layers_number:  4\n",
            "neurons_number:  512\n",
            "mean_absolute_percentage_error: среднее значение = -19.65, стандартное отклонение =  6.39\n",
            "result: -19.649338417053222\n",
            "std:  6.392772440525868\n",
            "**************************************************\n",
            "experiment_number:  181\n",
            "loss_function:  mean_absolute_percentage_error\n",
            "optimizer_type:  adam\n",
            "activation_func:  exponential\n",
            "layers_number:  1\n",
            "neurons_number:  128\n",
            "mean_absolute_percentage_error: среднее значение = -14.81, стандартное отклонение =  5.69\n",
            "result: -14.813995933532714\n",
            "std:  5.685645813801157\n",
            "**************************************************\n",
            "experiment_number:  182\n",
            "loss_function:  mean_absolute_percentage_error\n",
            "optimizer_type:  adam\n",
            "activation_func:  exponential\n",
            "layers_number:  1\n",
            "neurons_number:  256\n",
            "mean_absolute_percentage_error: среднее значение = -14.99, стандартное отклонение =  6.17\n",
            "result: -14.987129020690919\n",
            "std:  6.169512051046418\n",
            "**************************************************\n",
            "experiment_number:  183\n",
            "loss_function:  mean_absolute_percentage_error\n",
            "optimizer_type:  adam\n",
            "activation_func:  exponential\n",
            "layers_number:  1\n",
            "neurons_number:  512\n",
            "mean_absolute_percentage_error: среднее значение = -14.51, стандартное отклонение =  5.11\n",
            "result: -14.511949424743653\n",
            "std:  5.110976389940761\n",
            "**************************************************\n",
            "experiment_number:  184\n",
            "loss_function:  mean_absolute_percentage_error\n",
            "optimizer_type:  adam\n",
            "activation_func:  exponential\n",
            "layers_number:  2\n",
            "neurons_number:  128\n",
            "mean_absolute_percentage_error: среднее значение = -536377851.50, стандартное отклонение =  2627699201.93\n",
            "result: -536377851.4979504\n",
            "std:  2627699201.9333596\n",
            "**************************************************\n",
            "experiment_number:  185\n",
            "loss_function:  mean_absolute_percentage_error\n",
            "optimizer_type:  adam\n",
            "activation_func:  exponential\n",
            "layers_number:  2\n",
            "neurons_number:  256\n",
            "mean_absolute_percentage_error: среднее значение = -15.34, стандартное отклонение =  5.42\n",
            "result: -15.338903884887696\n",
            "std:  5.415699204566766\n",
            "**************************************************\n",
            "experiment_number:  186\n",
            "loss_function:  mean_absolute_percentage_error\n",
            "optimizer_type:  adam\n",
            "activation_func:  exponential\n",
            "layers_number:  2\n",
            "neurons_number:  512\n",
            "mean_absolute_percentage_error: среднее значение = -17.10, стандартное отклонение =  9.53\n",
            "result: -17.101213569641114\n",
            "std:  9.530390835885465\n",
            "**************************************************\n",
            "experiment_number:  187\n",
            "loss_function:  mean_absolute_percentage_error\n",
            "optimizer_type:  adam\n",
            "activation_func:  exponential\n",
            "layers_number:  3\n",
            "neurons_number:  128\n",
            "mean_absolute_percentage_error: среднее значение = nan, стандартное отклонение =  nan\n",
            "result: nan\n",
            "std:  nan\n",
            "**************************************************\n",
            "experiment_number:  188\n",
            "loss_function:  mean_absolute_percentage_error\n",
            "optimizer_type:  adam\n",
            "activation_func:  exponential\n",
            "layers_number:  3\n",
            "neurons_number:  256\n",
            "mean_absolute_percentage_error: среднее значение = nan, стандартное отклонение =  nan\n",
            "result: nan\n",
            "std:  nan\n",
            "**************************************************\n",
            "experiment_number:  189\n",
            "loss_function:  mean_absolute_percentage_error\n",
            "optimizer_type:  adam\n",
            "activation_func:  exponential\n",
            "layers_number:  3\n",
            "neurons_number:  512\n",
            "mean_absolute_percentage_error: среднее значение = nan, стандартное отклонение =  nan\n",
            "result: nan\n",
            "std:  nan\n",
            "**************************************************\n",
            "experiment_number:  190\n",
            "loss_function:  mean_absolute_percentage_error\n",
            "optimizer_type:  adam\n",
            "activation_func:  exponential\n",
            "layers_number:  4\n",
            "neurons_number:  128\n",
            "mean_absolute_percentage_error: среднее значение = nan, стандартное отклонение =  nan\n",
            "result: nan\n",
            "std:  nan\n",
            "**************************************************\n",
            "experiment_number:  191\n",
            "loss_function:  mean_absolute_percentage_error\n",
            "optimizer_type:  adam\n",
            "activation_func:  exponential\n",
            "layers_number:  4\n",
            "neurons_number:  256\n",
            "mean_absolute_percentage_error: среднее значение = nan, стандартное отклонение =  nan\n",
            "result: nan\n",
            "std:  nan\n",
            "**************************************************\n",
            "experiment_number:  192\n",
            "loss_function:  mean_absolute_percentage_error\n",
            "optimizer_type:  adam\n",
            "activation_func:  exponential\n",
            "layers_number:  4\n",
            "neurons_number:  512\n",
            "mean_absolute_percentage_error: среднее значение = nan, стандартное отклонение =  nan\n",
            "result: nan\n",
            "std:  nan\n",
            "**************************************************\n",
            "experiment_number:  193\n",
            "loss_function:  mean_absolute_percentage_error\n",
            "optimizer_type:  sgd\n",
            "activation_func:  relu\n",
            "layers_number:  1\n",
            "neurons_number:  128\n",
            "mean_absolute_percentage_error: среднее значение = -16.52, стандартное отклонение =  6.77\n",
            "result: -16.521371784210206\n",
            "std:  6.766291453540033\n",
            "**************************************************\n",
            "experiment_number:  194\n",
            "loss_function:  mean_absolute_percentage_error\n",
            "optimizer_type:  sgd\n",
            "activation_func:  relu\n",
            "layers_number:  1\n",
            "neurons_number:  256\n",
            "mean_absolute_percentage_error: среднее значение = -16.50, стандартное отклонение =  6.21\n",
            "result: -16.50304531097412\n",
            "std:  6.21039665150394\n",
            "**************************************************\n",
            "experiment_number:  195\n",
            "loss_function:  mean_absolute_percentage_error\n",
            "optimizer_type:  sgd\n",
            "activation_func:  relu\n",
            "layers_number:  1\n",
            "neurons_number:  512\n",
            "mean_absolute_percentage_error: среднее значение = -16.83, стандартное отклонение =  6.48\n",
            "result: -16.83045051574707\n",
            "std:  6.479790825630789\n",
            "**************************************************\n",
            "experiment_number:  196\n",
            "loss_function:  mean_absolute_percentage_error\n",
            "optimizer_type:  sgd\n",
            "activation_func:  relu\n",
            "layers_number:  2\n",
            "neurons_number:  128\n",
            "mean_absolute_percentage_error: среднее значение = -19.41, стандартное отклонение =  9.53\n",
            "result: -19.407306022644043\n",
            "std:  9.52823982665682\n",
            "**************************************************\n",
            "experiment_number:  197\n",
            "loss_function:  mean_absolute_percentage_error\n",
            "optimizer_type:  sgd\n",
            "activation_func:  relu\n",
            "layers_number:  2\n",
            "neurons_number:  256\n",
            "mean_absolute_percentage_error: среднее значение = -17.63, стандартное отклонение =  7.10\n",
            "result: -17.625779819488525\n",
            "std:  7.0962019204119455\n",
            "**************************************************\n",
            "experiment_number:  198\n",
            "loss_function:  mean_absolute_percentage_error\n",
            "optimizer_type:  sgd\n",
            "activation_func:  relu\n",
            "layers_number:  2\n",
            "neurons_number:  512\n",
            "mean_absolute_percentage_error: среднее значение = -18.43, стандартное отклонение =  6.63\n",
            "result: -18.42700698852539\n",
            "std:  6.634920083867193\n",
            "**************************************************\n",
            "experiment_number:  199\n",
            "loss_function:  mean_absolute_percentage_error\n",
            "optimizer_type:  sgd\n",
            "activation_func:  relu\n",
            "layers_number:  3\n",
            "neurons_number:  128\n",
            "mean_absolute_percentage_error: среднее значение = -20.95, стандартное отклонение =  8.37\n",
            "result: -20.95025276184082\n",
            "std:  8.36890267268264\n",
            "**************************************************\n",
            "experiment_number:  200\n",
            "loss_function:  mean_absolute_percentage_error\n",
            "optimizer_type:  sgd\n",
            "activation_func:  relu\n",
            "layers_number:  3\n",
            "neurons_number:  256\n",
            "mean_absolute_percentage_error: среднее значение = -19.73, стандартное отклонение =  7.67\n",
            "result: -19.727484893798827\n",
            "std:  7.6719409159831695\n",
            "**************************************************\n",
            "experiment_number:  201\n",
            "loss_function:  mean_absolute_percentage_error\n",
            "optimizer_type:  sgd\n",
            "activation_func:  relu\n",
            "layers_number:  3\n",
            "neurons_number:  512\n",
            "mean_absolute_percentage_error: среднее значение = -19.66, стандартное отклонение =  8.65\n",
            "result: -19.661344604492186\n",
            "std:  8.648161146388377\n",
            "**************************************************\n",
            "experiment_number:  202\n",
            "loss_function:  mean_absolute_percentage_error\n",
            "optimizer_type:  sgd\n",
            "activation_func:  relu\n",
            "layers_number:  4\n",
            "neurons_number:  128\n",
            "mean_absolute_percentage_error: среднее значение = -21.95, стандартное отклонение =  8.05\n",
            "result: -21.94668384552002\n",
            "std:  8.04784636194254\n",
            "**************************************************\n",
            "experiment_number:  203\n",
            "loss_function:  mean_absolute_percentage_error\n",
            "optimizer_type:  sgd\n",
            "activation_func:  relu\n",
            "layers_number:  4\n",
            "neurons_number:  256\n",
            "mean_absolute_percentage_error: среднее значение = -20.32, стандартное отклонение =  7.66\n",
            "result: -20.31908905029297\n",
            "std:  7.6570971239850225\n",
            "**************************************************\n",
            "experiment_number:  204\n",
            "loss_function:  mean_absolute_percentage_error\n",
            "optimizer_type:  sgd\n",
            "activation_func:  relu\n",
            "layers_number:  4\n",
            "neurons_number:  512\n",
            "mean_absolute_percentage_error: среднее значение = -20.93, стандартное отклонение =  8.14\n",
            "result: -20.9307580947876\n",
            "std:  8.139599140776124\n",
            "**************************************************\n",
            "experiment_number:  205\n",
            "loss_function:  mean_absolute_percentage_error\n",
            "optimizer_type:  sgd\n",
            "activation_func:  sigmoid\n",
            "layers_number:  1\n",
            "neurons_number:  128\n",
            "mean_absolute_percentage_error: среднее значение = -15.69, стандартное отклонение =  5.28\n",
            "result: -15.685842895507813\n",
            "std:  5.279478877549687\n",
            "**************************************************\n",
            "experiment_number:  206\n",
            "loss_function:  mean_absolute_percentage_error\n",
            "optimizer_type:  sgd\n",
            "activation_func:  sigmoid\n",
            "layers_number:  1\n",
            "neurons_number:  256\n",
            "mean_absolute_percentage_error: среднее значение = -15.61, стандартное отклонение =  4.63\n",
            "result: -15.611069221496582\n",
            "std:  4.626273346327156\n",
            "**************************************************\n",
            "experiment_number:  207\n",
            "loss_function:  mean_absolute_percentage_error\n",
            "optimizer_type:  sgd\n",
            "activation_func:  sigmoid\n",
            "layers_number:  1\n",
            "neurons_number:  512\n",
            "mean_absolute_percentage_error: среднее значение = -18.61, стандартное отклонение =  5.38\n",
            "result: -18.606050300598145\n",
            "std:  5.382229327826626\n",
            "**************************************************\n",
            "experiment_number:  208\n",
            "loss_function:  mean_absolute_percentage_error\n",
            "optimizer_type:  sgd\n",
            "activation_func:  sigmoid\n",
            "layers_number:  2\n",
            "neurons_number:  128\n",
            "mean_absolute_percentage_error: среднее значение = -14.30, стандартное отклонение =  5.10\n",
            "result: -14.296135444641113\n",
            "std:  5.098086339917868\n",
            "**************************************************\n",
            "experiment_number:  209\n",
            "loss_function:  mean_absolute_percentage_error\n",
            "optimizer_type:  sgd\n",
            "activation_func:  sigmoid\n",
            "layers_number:  2\n",
            "neurons_number:  256\n",
            "mean_absolute_percentage_error: среднее значение = -14.23, стандартное отклонение =  4.81\n",
            "result: -14.231927452087403\n",
            "std:  4.809362883095643\n",
            "**************************************************\n",
            "experiment_number:  210\n",
            "loss_function:  mean_absolute_percentage_error\n",
            "optimizer_type:  sgd\n",
            "activation_func:  sigmoid\n",
            "layers_number:  2\n",
            "neurons_number:  512\n",
            "mean_absolute_percentage_error: среднее значение = -13.91, стандартное отклонение =  5.12\n",
            "result: -13.911233081817628\n",
            "std:  5.11512227044247\n",
            "**************************************************\n",
            "experiment_number:  211\n",
            "loss_function:  mean_absolute_percentage_error\n",
            "optimizer_type:  sgd\n",
            "activation_func:  sigmoid\n",
            "layers_number:  3\n",
            "neurons_number:  128\n",
            "mean_absolute_percentage_error: среднее значение = -14.44, стандартное отклонение =  4.59\n",
            "result: -14.442558403015136\n",
            "std:  4.587117391446642\n",
            "**************************************************\n",
            "experiment_number:  212\n",
            "loss_function:  mean_absolute_percentage_error\n",
            "optimizer_type:  sgd\n",
            "activation_func:  sigmoid\n",
            "layers_number:  3\n",
            "neurons_number:  256\n",
            "mean_absolute_percentage_error: среднее значение = -14.33, стандартное отклонение =  4.88\n",
            "result: -14.333179931640625\n",
            "std:  4.8794294512910295\n",
            "**************************************************\n",
            "experiment_number:  213\n",
            "loss_function:  mean_absolute_percentage_error\n",
            "optimizer_type:  sgd\n",
            "activation_func:  sigmoid\n",
            "layers_number:  3\n",
            "neurons_number:  512\n",
            "mean_absolute_percentage_error: среднее значение = -14.52, стандартное отклонение =  4.89\n",
            "result: -14.520679397583008\n",
            "std:  4.887076809166951\n",
            "**************************************************\n",
            "experiment_number:  214\n",
            "loss_function:  mean_absolute_percentage_error\n",
            "optimizer_type:  sgd\n",
            "activation_func:  sigmoid\n",
            "layers_number:  4\n",
            "neurons_number:  128\n",
            "mean_absolute_percentage_error: среднее значение = -14.51, стандартное отклонение =  4.98\n",
            "result: -14.508899726867675\n",
            "std:  4.982412029136629\n",
            "**************************************************\n",
            "experiment_number:  215\n",
            "loss_function:  mean_absolute_percentage_error\n",
            "optimizer_type:  sgd\n",
            "activation_func:  sigmoid\n",
            "layers_number:  4\n",
            "neurons_number:  256\n",
            "mean_absolute_percentage_error: среднее значение = -14.38, стандартное отклонение =  5.01\n",
            "result: -14.375187034606933\n",
            "std:  5.005152811541176\n",
            "**************************************************\n",
            "experiment_number:  216\n",
            "loss_function:  mean_absolute_percentage_error\n",
            "optimizer_type:  sgd\n",
            "activation_func:  sigmoid\n",
            "layers_number:  4\n",
            "neurons_number:  512\n",
            "mean_absolute_percentage_error: среднее значение = -14.40, стандартное отклонение =  5.84\n",
            "result: -14.402225742340088\n",
            "std:  5.839684583827791\n",
            "**************************************************\n",
            "experiment_number:  217\n",
            "loss_function:  mean_absolute_percentage_error\n",
            "optimizer_type:  sgd\n",
            "activation_func:  tanh\n",
            "layers_number:  1\n",
            "neurons_number:  128\n",
            "mean_absolute_percentage_error: среднее значение = -18.04, стандартное отклонение =  7.83\n",
            "result: -18.035745124816895\n",
            "std:  7.826013550598371\n",
            "**************************************************\n",
            "experiment_number:  218\n",
            "loss_function:  mean_absolute_percentage_error\n",
            "optimizer_type:  sgd\n",
            "activation_func:  tanh\n",
            "layers_number:  1\n",
            "neurons_number:  256\n",
            "mean_absolute_percentage_error: среднее значение = -18.50, стандартное отклонение =  8.17\n",
            "result: -18.50309700012207\n",
            "std:  8.170956650578912\n",
            "**************************************************\n",
            "experiment_number:  219\n",
            "loss_function:  mean_absolute_percentage_error\n",
            "optimizer_type:  sgd\n",
            "activation_func:  tanh\n",
            "layers_number:  1\n",
            "neurons_number:  512\n",
            "mean_absolute_percentage_error: среднее значение = -21.39, стандартное отклонение =  10.96\n",
            "result: -21.38638828277588\n",
            "std:  10.958059200481767\n",
            "**************************************************\n",
            "experiment_number:  220\n",
            "loss_function:  mean_absolute_percentage_error\n",
            "optimizer_type:  sgd\n",
            "activation_func:  tanh\n",
            "layers_number:  2\n",
            "neurons_number:  128\n",
            "mean_absolute_percentage_error: среднее значение = -19.20, стандартное отклонение =  7.43\n",
            "result: -19.19770202636719\n",
            "std:  7.4257529651444205\n",
            "**************************************************\n",
            "experiment_number:  221\n",
            "loss_function:  mean_absolute_percentage_error\n",
            "optimizer_type:  sgd\n",
            "activation_func:  tanh\n",
            "layers_number:  2\n",
            "neurons_number:  256\n",
            "mean_absolute_percentage_error: среднее значение = -19.09, стандартное отклонение =  7.59\n",
            "result: -19.087006950378417\n",
            "std:  7.591186661127712\n",
            "**************************************************\n",
            "experiment_number:  222\n",
            "loss_function:  mean_absolute_percentage_error\n",
            "optimizer_type:  sgd\n",
            "activation_func:  tanh\n",
            "layers_number:  2\n",
            "neurons_number:  512\n",
            "mean_absolute_percentage_error: среднее значение = -18.29, стандартное отклонение =  6.42\n",
            "result: -18.288615112304687\n",
            "std:  6.418959822908899\n",
            "**************************************************\n",
            "experiment_number:  223\n",
            "loss_function:  mean_absolute_percentage_error\n",
            "optimizer_type:  sgd\n",
            "activation_func:  tanh\n",
            "layers_number:  3\n",
            "neurons_number:  128\n",
            "mean_absolute_percentage_error: среднее значение = -18.80, стандартное отклонение =  5.59\n",
            "result: -18.80082260131836\n",
            "std:  5.590884391850228\n",
            "**************************************************\n",
            "experiment_number:  224\n",
            "loss_function:  mean_absolute_percentage_error\n",
            "optimizer_type:  sgd\n",
            "activation_func:  tanh\n",
            "layers_number:  3\n",
            "neurons_number:  256\n",
            "mean_absolute_percentage_error: среднее значение = -20.48, стандартное отклонение =  9.75\n",
            "result: -20.48004695892334\n",
            "std:  9.749536588673108\n",
            "**************************************************\n",
            "experiment_number:  225\n",
            "loss_function:  mean_absolute_percentage_error\n",
            "optimizer_type:  sgd\n",
            "activation_func:  tanh\n",
            "layers_number:  3\n",
            "neurons_number:  512\n",
            "mean_absolute_percentage_error: среднее значение = -20.30, стандартное отклонение =  7.77\n",
            "result: -20.297802772521973\n",
            "std:  7.769544985716676\n",
            "**************************************************\n",
            "experiment_number:  226\n",
            "loss_function:  mean_absolute_percentage_error\n",
            "optimizer_type:  sgd\n",
            "activation_func:  tanh\n",
            "layers_number:  4\n",
            "neurons_number:  128\n",
            "mean_absolute_percentage_error: среднее значение = -19.51, стандартное отклонение =  6.49\n",
            "result: -19.508567504882812\n",
            "std:  6.491986941349697\n",
            "**************************************************\n",
            "experiment_number:  227\n",
            "loss_function:  mean_absolute_percentage_error\n",
            "optimizer_type:  sgd\n",
            "activation_func:  tanh\n",
            "layers_number:  4\n",
            "neurons_number:  256\n",
            "mean_absolute_percentage_error: среднее значение = -21.73, стандартное отклонение =  9.28\n",
            "result: -21.72615581512451\n",
            "std:  9.284404089139612\n",
            "**************************************************\n",
            "experiment_number:  228\n",
            "loss_function:  mean_absolute_percentage_error\n",
            "optimizer_type:  sgd\n",
            "activation_func:  tanh\n",
            "layers_number:  4\n",
            "neurons_number:  512\n",
            "mean_absolute_percentage_error: среднее значение = -21.97, стандартное отклонение =  8.95\n",
            "result: -21.967464523315428\n",
            "std:  8.945154700389851\n",
            "**************************************************\n",
            "experiment_number:  229\n",
            "loss_function:  mean_absolute_percentage_error\n",
            "optimizer_type:  sgd\n",
            "activation_func:  exponential\n",
            "layers_number:  1\n",
            "neurons_number:  128\n",
            "mean_absolute_percentage_error: среднее значение = nan, стандартное отклонение =  nan\n",
            "result: nan\n",
            "std:  nan\n",
            "**************************************************\n",
            "experiment_number:  230\n",
            "loss_function:  mean_absolute_percentage_error\n",
            "optimizer_type:  sgd\n",
            "activation_func:  exponential\n",
            "layers_number:  1\n",
            "neurons_number:  256\n",
            "mean_absolute_percentage_error: среднее значение = nan, стандартное отклонение =  nan\n",
            "result: nan\n",
            "std:  nan\n",
            "**************************************************\n",
            "experiment_number:  231\n",
            "loss_function:  mean_absolute_percentage_error\n",
            "optimizer_type:  sgd\n",
            "activation_func:  exponential\n",
            "layers_number:  1\n",
            "neurons_number:  512\n",
            "mean_absolute_percentage_error: среднее значение = nan, стандартное отклонение =  nan\n",
            "result: nan\n",
            "std:  nan\n",
            "**************************************************\n",
            "experiment_number:  232\n",
            "loss_function:  mean_absolute_percentage_error\n",
            "optimizer_type:  sgd\n",
            "activation_func:  exponential\n",
            "layers_number:  2\n",
            "neurons_number:  128\n",
            "mean_absolute_percentage_error: среднее значение = nan, стандартное отклонение =  nan\n",
            "result: nan\n",
            "std:  nan\n",
            "**************************************************\n",
            "experiment_number:  233\n",
            "loss_function:  mean_absolute_percentage_error\n",
            "optimizer_type:  sgd\n",
            "activation_func:  exponential\n",
            "layers_number:  2\n",
            "neurons_number:  256\n",
            "mean_absolute_percentage_error: среднее значение = nan, стандартное отклонение =  nan\n",
            "result: nan\n",
            "std:  nan\n",
            "**************************************************\n",
            "experiment_number:  234\n",
            "loss_function:  mean_absolute_percentage_error\n",
            "optimizer_type:  sgd\n",
            "activation_func:  exponential\n",
            "layers_number:  2\n",
            "neurons_number:  512\n",
            "mean_absolute_percentage_error: среднее значение = nan, стандартное отклонение =  nan\n",
            "result: nan\n",
            "std:  nan\n",
            "**************************************************\n",
            "experiment_number:  235\n",
            "loss_function:  mean_absolute_percentage_error\n",
            "optimizer_type:  sgd\n",
            "activation_func:  exponential\n",
            "layers_number:  3\n",
            "neurons_number:  128\n",
            "mean_absolute_percentage_error: среднее значение = nan, стандартное отклонение =  nan\n",
            "result: nan\n",
            "std:  nan\n",
            "**************************************************\n",
            "experiment_number:  236\n",
            "loss_function:  mean_absolute_percentage_error\n",
            "optimizer_type:  sgd\n",
            "activation_func:  exponential\n",
            "layers_number:  3\n",
            "neurons_number:  256\n",
            "mean_absolute_percentage_error: среднее значение = nan, стандартное отклонение =  nan\n",
            "result: nan\n",
            "std:  nan\n",
            "**************************************************\n",
            "experiment_number:  237\n",
            "loss_function:  mean_absolute_percentage_error\n",
            "optimizer_type:  sgd\n",
            "activation_func:  exponential\n",
            "layers_number:  3\n",
            "neurons_number:  512\n",
            "mean_absolute_percentage_error: среднее значение = nan, стандартное отклонение =  nan\n",
            "result: nan\n",
            "std:  nan\n",
            "**************************************************\n",
            "experiment_number:  238\n",
            "loss_function:  mean_absolute_percentage_error\n",
            "optimizer_type:  sgd\n",
            "activation_func:  exponential\n",
            "layers_number:  4\n",
            "neurons_number:  128\n",
            "mean_absolute_percentage_error: среднее значение = nan, стандартное отклонение =  nan\n",
            "result: nan\n",
            "std:  nan\n",
            "**************************************************\n",
            "experiment_number:  239\n",
            "loss_function:  mean_absolute_percentage_error\n",
            "optimizer_type:  sgd\n",
            "activation_func:  exponential\n",
            "layers_number:  4\n",
            "neurons_number:  256\n",
            "mean_absolute_percentage_error: среднее значение = nan, стандартное отклонение =  nan\n",
            "result: nan\n",
            "std:  nan\n",
            "**************************************************\n",
            "experiment_number:  240\n",
            "loss_function:  mean_absolute_percentage_error\n",
            "optimizer_type:  sgd\n",
            "activation_func:  exponential\n",
            "layers_number:  4\n",
            "neurons_number:  512\n",
            "mean_absolute_percentage_error: среднее значение = nan, стандартное отклонение =  nan\n",
            "result: nan\n",
            "std:  nan\n",
            "**************************************************\n",
            "experiment_number:  241\n",
            "loss_function:  mean_absolute_percentage_error\n",
            "optimizer_type:  rmsprop\n",
            "activation_func:  relu\n",
            "layers_number:  1\n",
            "neurons_number:  128\n",
            "mean_absolute_percentage_error: среднее значение = -17.36, стандартное отклонение =  7.11\n",
            "result: -17.362822074890136\n",
            "std:  7.113772140066949\n",
            "**************************************************\n",
            "experiment_number:  242\n",
            "loss_function:  mean_absolute_percentage_error\n",
            "optimizer_type:  rmsprop\n",
            "activation_func:  relu\n",
            "layers_number:  1\n",
            "neurons_number:  256\n",
            "mean_absolute_percentage_error: среднее значение = -16.92, стандартное отклонение =  7.63\n",
            "result: -16.915164756774903\n",
            "std:  7.632476953790772\n",
            "**************************************************\n",
            "experiment_number:  243\n",
            "loss_function:  mean_absolute_percentage_error\n",
            "optimizer_type:  rmsprop\n",
            "activation_func:  relu\n",
            "layers_number:  1\n",
            "neurons_number:  512\n",
            "mean_absolute_percentage_error: среднее значение = -17.64, стандартное отклонение =  7.92\n",
            "result: -17.636633644104005\n",
            "std:  7.924080200354241\n",
            "**************************************************\n",
            "experiment_number:  244\n",
            "loss_function:  mean_absolute_percentage_error\n",
            "optimizer_type:  rmsprop\n",
            "activation_func:  relu\n",
            "layers_number:  2\n",
            "neurons_number:  128\n",
            "mean_absolute_percentage_error: среднее значение = -16.70, стандартное отклонение =  7.79\n",
            "result: -16.701684055328368\n",
            "std:  7.786927804853076\n",
            "**************************************************\n",
            "experiment_number:  245\n",
            "loss_function:  mean_absolute_percentage_error\n",
            "optimizer_type:  rmsprop\n",
            "activation_func:  relu\n",
            "layers_number:  2\n",
            "neurons_number:  256\n",
            "mean_absolute_percentage_error: среднее значение = -15.68, стандартное отклонение =  5.99\n",
            "result: -15.681369094848632\n",
            "std:  5.98797243210123\n",
            "**************************************************\n",
            "experiment_number:  246\n",
            "loss_function:  mean_absolute_percentage_error\n",
            "optimizer_type:  rmsprop\n",
            "activation_func:  relu\n",
            "layers_number:  2\n",
            "neurons_number:  512\n",
            "mean_absolute_percentage_error: среднее значение = -15.66, стандартное отклонение =  5.47\n",
            "result: -15.663331069946288\n",
            "std:  5.468220567185305\n",
            "**************************************************\n",
            "experiment_number:  247\n",
            "loss_function:  mean_absolute_percentage_error\n",
            "optimizer_type:  rmsprop\n",
            "activation_func:  relu\n",
            "layers_number:  3\n",
            "neurons_number:  128\n",
            "mean_absolute_percentage_error: среднее значение = -17.21, стандартное отклонение =  6.41\n",
            "result: -17.20711046218872\n",
            "std:  6.405460481214936\n",
            "**************************************************\n",
            "experiment_number:  248\n",
            "loss_function:  mean_absolute_percentage_error\n",
            "optimizer_type:  rmsprop\n",
            "activation_func:  relu\n",
            "layers_number:  3\n",
            "neurons_number:  256\n",
            "mean_absolute_percentage_error: среднее значение = -18.08, стандартное отклонение =  7.90\n",
            "result: -18.08391628265381\n",
            "std:  7.895786123948361\n",
            "**************************************************\n",
            "experiment_number:  249\n",
            "loss_function:  mean_absolute_percentage_error\n",
            "optimizer_type:  rmsprop\n",
            "activation_func:  relu\n",
            "layers_number:  3\n",
            "neurons_number:  512\n",
            "mean_absolute_percentage_error: среднее значение = -18.41, стандартное отклонение =  7.09\n",
            "result: -18.406325492858887\n",
            "std:  7.087951409722358\n",
            "**************************************************\n",
            "experiment_number:  250\n",
            "loss_function:  mean_absolute_percentage_error\n",
            "optimizer_type:  rmsprop\n",
            "activation_func:  relu\n",
            "layers_number:  4\n",
            "neurons_number:  128\n",
            "mean_absolute_percentage_error: среднее значение = -17.47, стандартное отклонение =  7.69\n",
            "result: -17.469768257141112\n",
            "std:  7.6851411871140405\n",
            "**************************************************\n",
            "experiment_number:  251\n",
            "loss_function:  mean_absolute_percentage_error\n",
            "optimizer_type:  rmsprop\n",
            "activation_func:  relu\n",
            "layers_number:  4\n",
            "neurons_number:  256\n",
            "mean_absolute_percentage_error: среднее значение = -17.60, стандартное отклонение =  7.10\n",
            "result: -17.597980251312254\n",
            "std:  7.096643340951985\n",
            "**************************************************\n",
            "experiment_number:  252\n",
            "loss_function:  mean_absolute_percentage_error\n",
            "optimizer_type:  rmsprop\n",
            "activation_func:  relu\n",
            "layers_number:  4\n",
            "neurons_number:  512\n",
            "mean_absolute_percentage_error: среднее значение = -18.42, стандартное отклонение =  9.13\n",
            "result: -18.42222093582153\n",
            "std:  9.131166604670197\n",
            "**************************************************\n",
            "experiment_number:  253\n",
            "loss_function:  mean_absolute_percentage_error\n",
            "optimizer_type:  rmsprop\n",
            "activation_func:  sigmoid\n",
            "layers_number:  1\n",
            "neurons_number:  128\n",
            "mean_absolute_percentage_error: среднее значение = -16.39, стандартное отклонение =  4.67\n",
            "result: -16.38734272003174\n",
            "std:  4.669692028957797\n",
            "**************************************************\n",
            "experiment_number:  254\n",
            "loss_function:  mean_absolute_percentage_error\n",
            "optimizer_type:  rmsprop\n",
            "activation_func:  sigmoid\n",
            "layers_number:  1\n",
            "neurons_number:  256\n",
            "mean_absolute_percentage_error: среднее значение = -16.46, стандартное отклонение =  4.91\n",
            "result: -16.46496566772461\n",
            "std:  4.9083394324564855\n",
            "**************************************************\n",
            "experiment_number:  255\n",
            "loss_function:  mean_absolute_percentage_error\n",
            "optimizer_type:  rmsprop\n",
            "activation_func:  sigmoid\n",
            "layers_number:  1\n",
            "neurons_number:  512\n",
            "mean_absolute_percentage_error: среднее значение = -16.38, стандартное отклонение =  4.78\n",
            "result: -16.379226036071778\n",
            "std:  4.780060103451646\n",
            "**************************************************\n",
            "experiment_number:  256\n",
            "loss_function:  mean_absolute_percentage_error\n",
            "optimizer_type:  rmsprop\n",
            "activation_func:  sigmoid\n",
            "layers_number:  2\n",
            "neurons_number:  128\n",
            "mean_absolute_percentage_error: среднее значение = -15.42, стандартное отклонение =  3.89\n",
            "result: -15.418854026794433\n",
            "std:  3.8863048021535995\n",
            "**************************************************\n",
            "experiment_number:  257\n",
            "loss_function:  mean_absolute_percentage_error\n",
            "optimizer_type:  rmsprop\n",
            "activation_func:  sigmoid\n",
            "layers_number:  2\n",
            "neurons_number:  256\n",
            "mean_absolute_percentage_error: среднее значение = -14.01, стандартное отклонение =  4.13\n",
            "result: -14.010107688903808\n",
            "std:  4.133962858883997\n",
            "**************************************************\n",
            "experiment_number:  258\n",
            "loss_function:  mean_absolute_percentage_error\n",
            "optimizer_type:  rmsprop\n",
            "activation_func:  sigmoid\n",
            "layers_number:  2\n",
            "neurons_number:  512\n",
            "mean_absolute_percentage_error: среднее значение = -14.21, стандартное отклонение =  4.08\n",
            "result: -14.210559806823731\n",
            "std:  4.079369094986304\n",
            "**************************************************\n",
            "experiment_number:  259\n",
            "loss_function:  mean_absolute_percentage_error\n",
            "optimizer_type:  rmsprop\n",
            "activation_func:  sigmoid\n",
            "layers_number:  3\n",
            "neurons_number:  128\n",
            "mean_absolute_percentage_error: среднее значение = -15.36, стандартное отклонение =  3.39\n",
            "result: -15.362366065979003\n",
            "std:  3.3943040953881107\n",
            "**************************************************\n",
            "experiment_number:  260\n",
            "loss_function:  mean_absolute_percentage_error\n",
            "optimizer_type:  rmsprop\n",
            "activation_func:  sigmoid\n",
            "layers_number:  3\n",
            "neurons_number:  256\n",
            "mean_absolute_percentage_error: среднее значение = -14.79, стандартное отклонение =  3.82\n",
            "result: -14.788240013122559\n",
            "std:  3.8215916186815084\n",
            "**************************************************\n",
            "experiment_number:  261\n",
            "loss_function:  mean_absolute_percentage_error\n",
            "optimizer_type:  rmsprop\n",
            "activation_func:  sigmoid\n",
            "layers_number:  3\n",
            "neurons_number:  512\n",
            "mean_absolute_percentage_error: среднее значение = -15.09, стандартное отклонение =  3.70\n",
            "result: -15.09461196899414\n",
            "std:  3.7033354777909637\n",
            "**************************************************\n",
            "experiment_number:  262\n",
            "loss_function:  mean_absolute_percentage_error\n",
            "optimizer_type:  rmsprop\n",
            "activation_func:  sigmoid\n",
            "layers_number:  4\n",
            "neurons_number:  128\n",
            "mean_absolute_percentage_error: среднее значение = -14.85, стандартное отклонение =  3.65\n",
            "result: -14.854233512878418\n",
            "std:  3.645361432149865\n",
            "**************************************************\n",
            "experiment_number:  263\n",
            "loss_function:  mean_absolute_percentage_error\n",
            "optimizer_type:  rmsprop\n",
            "activation_func:  sigmoid\n",
            "layers_number:  4\n",
            "neurons_number:  256\n",
            "mean_absolute_percentage_error: среднее значение = -15.34, стандартное отклонение =  4.28\n",
            "result: -15.336492958068847\n",
            "std:  4.280785553548344\n",
            "**************************************************\n",
            "experiment_number:  264\n",
            "loss_function:  mean_absolute_percentage_error\n",
            "optimizer_type:  rmsprop\n",
            "activation_func:  sigmoid\n",
            "layers_number:  4\n",
            "neurons_number:  512\n",
            "mean_absolute_percentage_error: среднее значение = -16.00, стандартное отклонение =  3.98\n",
            "result: -15.998519287109374\n",
            "std:  3.9845265386315383\n",
            "**************************************************\n",
            "experiment_number:  265\n",
            "loss_function:  mean_absolute_percentage_error\n",
            "optimizer_type:  rmsprop\n",
            "activation_func:  tanh\n",
            "layers_number:  1\n",
            "neurons_number:  128\n",
            "mean_absolute_percentage_error: среднее значение = -17.04, стандартное отклонение =  5.17\n",
            "result: -17.035473022460938\n",
            "std:  5.166602895400985\n",
            "**************************************************\n",
            "experiment_number:  266\n",
            "loss_function:  mean_absolute_percentage_error\n",
            "optimizer_type:  rmsprop\n",
            "activation_func:  tanh\n",
            "layers_number:  1\n",
            "neurons_number:  256\n",
            "mean_absolute_percentage_error: среднее значение = -17.21, стандартное отклонение =  6.75\n",
            "result: -17.209130210876467\n",
            "std:  6.750410895956457\n",
            "**************************************************\n",
            "experiment_number:  267\n",
            "loss_function:  mean_absolute_percentage_error\n",
            "optimizer_type:  rmsprop\n",
            "activation_func:  tanh\n",
            "layers_number:  1\n",
            "neurons_number:  512\n",
            "mean_absolute_percentage_error: среднее значение = -17.50, стандартное отклонение =  7.06\n",
            "result: -17.49887580871582\n",
            "std:  7.058310114284959\n",
            "**************************************************\n",
            "experiment_number:  268\n",
            "loss_function:  mean_absolute_percentage_error\n",
            "optimizer_type:  rmsprop\n",
            "activation_func:  tanh\n",
            "layers_number:  2\n",
            "neurons_number:  128\n",
            "mean_absolute_percentage_error: среднее значение = -16.69, стандартное отклонение =  7.09\n",
            "result: -16.693926849365234\n",
            "std:  7.086961857136901\n",
            "**************************************************\n",
            "experiment_number:  269\n",
            "loss_function:  mean_absolute_percentage_error\n",
            "optimizer_type:  rmsprop\n",
            "activation_func:  tanh\n",
            "layers_number:  2\n",
            "neurons_number:  256\n",
            "mean_absolute_percentage_error: среднее значение = -16.31, стандартное отклонение =  5.89\n",
            "result: -16.30980682373047\n",
            "std:  5.887404895207483\n",
            "**************************************************\n",
            "experiment_number:  270\n",
            "loss_function:  mean_absolute_percentage_error\n",
            "optimizer_type:  rmsprop\n",
            "activation_func:  tanh\n",
            "layers_number:  2\n",
            "neurons_number:  512\n",
            "mean_absolute_percentage_error: среднее значение = -16.16, стандартное отклонение =  5.56\n",
            "result: -16.163284339904784\n",
            "std:  5.5649361452146175\n",
            "**************************************************\n",
            "experiment_number:  271\n",
            "loss_function:  mean_absolute_percentage_error\n",
            "optimizer_type:  rmsprop\n",
            "activation_func:  tanh\n",
            "layers_number:  3\n",
            "neurons_number:  128\n",
            "mean_absolute_percentage_error: среднее значение = -17.66, стандартное отклонение =  6.41\n",
            "result: -17.663799705505372\n",
            "std:  6.411182239526015\n",
            "**************************************************\n",
            "experiment_number:  272\n",
            "loss_function:  mean_absolute_percentage_error\n",
            "optimizer_type:  rmsprop\n",
            "activation_func:  tanh\n",
            "layers_number:  3\n",
            "neurons_number:  256\n",
            "mean_absolute_percentage_error: среднее значение = -19.07, стандартное отклонение =  7.65\n",
            "result: -19.072924575805665\n",
            "std:  7.648800432914208\n",
            "**************************************************\n",
            "experiment_number:  273\n",
            "loss_function:  mean_absolute_percentage_error\n",
            "optimizer_type:  rmsprop\n",
            "activation_func:  tanh\n",
            "layers_number:  3\n",
            "neurons_number:  512\n",
            "mean_absolute_percentage_error: среднее значение = -18.95, стандартное отклонение =  7.97\n",
            "result: -18.94829116821289\n",
            "std:  7.970937410256526\n",
            "**************************************************\n",
            "experiment_number:  274\n",
            "loss_function:  mean_absolute_percentage_error\n",
            "optimizer_type:  rmsprop\n",
            "activation_func:  tanh\n",
            "layers_number:  4\n",
            "neurons_number:  128\n",
            "mean_absolute_percentage_error: среднее значение = -17.50, стандартное отклонение =  6.13\n",
            "result: -17.49822353363037\n",
            "std:  6.131169068834624\n",
            "**************************************************\n",
            "experiment_number:  275\n",
            "loss_function:  mean_absolute_percentage_error\n",
            "optimizer_type:  rmsprop\n",
            "activation_func:  tanh\n",
            "layers_number:  4\n",
            "neurons_number:  256\n",
            "mean_absolute_percentage_error: среднее значение = -20.84, стандартное отклонение =  9.55\n",
            "result: -20.840206909179688\n",
            "std:  9.546365375482582\n",
            "**************************************************\n",
            "experiment_number:  276\n",
            "loss_function:  mean_absolute_percentage_error\n",
            "optimizer_type:  rmsprop\n",
            "activation_func:  tanh\n",
            "layers_number:  4\n",
            "neurons_number:  512\n",
            "mean_absolute_percentage_error: среднее значение = -19.55, стандартное отклонение =  6.39\n",
            "result: -19.554877395629884\n",
            "std:  6.388693408986269\n",
            "**************************************************\n",
            "experiment_number:  277\n",
            "loss_function:  mean_absolute_percentage_error\n",
            "optimizer_type:  rmsprop\n",
            "activation_func:  exponential\n",
            "layers_number:  1\n",
            "neurons_number:  128\n",
            "mean_absolute_percentage_error: среднее значение = -14.43, стандартное отклонение =  5.86\n",
            "result: -14.428424987792969\n",
            "std:  5.859055675340307\n",
            "**************************************************\n",
            "experiment_number:  278\n",
            "loss_function:  mean_absolute_percentage_error\n",
            "optimizer_type:  rmsprop\n",
            "activation_func:  exponential\n",
            "layers_number:  1\n",
            "neurons_number:  256\n",
            "mean_absolute_percentage_error: среднее значение = -14.07, стандартное отклонение =  5.47\n",
            "result: -14.071003742218018\n",
            "std:  5.474857900259733\n",
            "**************************************************\n",
            "experiment_number:  279\n",
            "loss_function:  mean_absolute_percentage_error\n",
            "optimizer_type:  rmsprop\n",
            "activation_func:  exponential\n",
            "layers_number:  1\n",
            "neurons_number:  512\n",
            "mean_absolute_percentage_error: среднее значение = -14.50, стандартное отклонение =  5.91\n",
            "result: -14.495652122497559\n",
            "std:  5.908658120790189\n",
            "**************************************************\n",
            "experiment_number:  280\n",
            "loss_function:  mean_absolute_percentage_error\n",
            "optimizer_type:  rmsprop\n",
            "activation_func:  exponential\n",
            "layers_number:  2\n",
            "neurons_number:  128\n",
            "mean_absolute_percentage_error: среднее значение = -158267.47, стандартное отклонение =  771136.38\n",
            "result: -158267.47345062255\n",
            "std:  771136.3846102695\n",
            "**************************************************\n",
            "experiment_number:  281\n",
            "loss_function:  mean_absolute_percentage_error\n",
            "optimizer_type:  rmsprop\n",
            "activation_func:  exponential\n",
            "layers_number:  2\n",
            "neurons_number:  256\n",
            "mean_absolute_percentage_error: среднее значение = -491.88, стандартное отклонение =  2131.64\n",
            "result: -491.8761317443848\n",
            "std:  2131.643244798641\n",
            "**************************************************\n",
            "experiment_number:  282\n",
            "loss_function:  mean_absolute_percentage_error\n",
            "optimizer_type:  rmsprop\n",
            "activation_func:  exponential\n",
            "layers_number:  2\n",
            "neurons_number:  512\n",
            "mean_absolute_percentage_error: среднее значение = -185.74, стандартное отклонение =  776.58\n",
            "result: -185.74184898376464\n",
            "std:  776.5785059950896\n",
            "**************************************************\n",
            "experiment_number:  283\n",
            "loss_function:  mean_absolute_percentage_error\n",
            "optimizer_type:  rmsprop\n",
            "activation_func:  exponential\n",
            "layers_number:  3\n",
            "neurons_number:  128\n",
            "mean_absolute_percentage_error: среднее значение = nan, стандартное отклонение =  nan\n",
            "result: nan\n",
            "std:  nan\n",
            "**************************************************\n",
            "experiment_number:  284\n",
            "loss_function:  mean_absolute_percentage_error\n",
            "optimizer_type:  rmsprop\n",
            "activation_func:  exponential\n",
            "layers_number:  3\n",
            "neurons_number:  256\n",
            "mean_absolute_percentage_error: среднее значение = nan, стандартное отклонение =  nan\n",
            "result: nan\n",
            "std:  nan\n",
            "**************************************************\n",
            "experiment_number:  285\n",
            "loss_function:  mean_absolute_percentage_error\n",
            "optimizer_type:  rmsprop\n",
            "activation_func:  exponential\n",
            "layers_number:  3\n",
            "neurons_number:  512\n",
            "mean_absolute_percentage_error: среднее значение = nan, стандартное отклонение =  nan\n",
            "result: nan\n",
            "std:  nan\n",
            "**************************************************\n",
            "experiment_number:  286\n",
            "loss_function:  mean_absolute_percentage_error\n",
            "optimizer_type:  rmsprop\n",
            "activation_func:  exponential\n",
            "layers_number:  4\n",
            "neurons_number:  128\n",
            "mean_absolute_percentage_error: среднее значение = nan, стандартное отклонение =  nan\n",
            "result: nan\n",
            "std:  nan\n",
            "**************************************************\n",
            "experiment_number:  287\n",
            "loss_function:  mean_absolute_percentage_error\n",
            "optimizer_type:  rmsprop\n",
            "activation_func:  exponential\n",
            "layers_number:  4\n",
            "neurons_number:  256\n",
            "mean_absolute_percentage_error: среднее значение = nan, стандартное отклонение =  nan\n",
            "result: nan\n",
            "std:  nan\n",
            "**************************************************\n",
            "experiment_number:  288\n",
            "loss_function:  mean_absolute_percentage_error\n",
            "optimizer_type:  rmsprop\n",
            "activation_func:  exponential\n",
            "layers_number:  4\n",
            "neurons_number:  512\n",
            "mean_absolute_percentage_error: среднее значение = nan, стандартное отклонение =  nan\n",
            "result: nan\n",
            "std:  nan\n"
          ],
          "name": "stdout"
        }
      ]
    },
    {
      "cell_type": "code",
      "metadata": {
        "colab": {
          "base_uri": "https://localhost:8080/",
          "height": 402
        },
        "id": "NR-fPauuPSzg",
        "outputId": "71a8976c-fbfd-40c1-b5fe-e708c78f5409"
      },
      "source": [
        "df"
      ],
      "execution_count": null,
      "outputs": [
        {
          "output_type": "execute_result",
          "data": {
            "text/html": [
              "<div>\n",
              "<style scoped>\n",
              "    .dataframe tbody tr th:only-of-type {\n",
              "        vertical-align: middle;\n",
              "    }\n",
              "\n",
              "    .dataframe tbody tr th {\n",
              "        vertical-align: top;\n",
              "    }\n",
              "\n",
              "    .dataframe thead th {\n",
              "        text-align: right;\n",
              "    }\n",
              "</style>\n",
              "<table border=\"1\" class=\"dataframe\">\n",
              "  <thead>\n",
              "    <tr style=\"text-align: right;\">\n",
              "      <th></th>\n",
              "      <th>Unnamed: 0</th>\n",
              "      <th>Unnamed: 0.1</th>\n",
              "      <th>loss_function</th>\n",
              "      <th>optimizer_type</th>\n",
              "      <th>activation_func</th>\n",
              "      <th>layers_number</th>\n",
              "      <th>neurons_number</th>\n",
              "      <th>result</th>\n",
              "      <th>std</th>\n",
              "    </tr>\n",
              "  </thead>\n",
              "  <tbody>\n",
              "    <tr>\n",
              "      <th>0</th>\n",
              "      <td>0.0</td>\n",
              "      <td>0.0</td>\n",
              "      <td>mean_squared_error</td>\n",
              "      <td>adam</td>\n",
              "      <td>relu</td>\n",
              "      <td>1.0</td>\n",
              "      <td>128.0</td>\n",
              "      <td>-23.760973</td>\n",
              "      <td>13.643399</td>\n",
              "    </tr>\n",
              "    <tr>\n",
              "      <th>1</th>\n",
              "      <td>1.0</td>\n",
              "      <td>1.0</td>\n",
              "      <td>mean_squared_error</td>\n",
              "      <td>adam</td>\n",
              "      <td>relu</td>\n",
              "      <td>1.0</td>\n",
              "      <td>256.0</td>\n",
              "      <td>-23.277733</td>\n",
              "      <td>12.455523</td>\n",
              "    </tr>\n",
              "    <tr>\n",
              "      <th>2</th>\n",
              "      <td>2.0</td>\n",
              "      <td>2.0</td>\n",
              "      <td>mean_squared_error</td>\n",
              "      <td>adam</td>\n",
              "      <td>relu</td>\n",
              "      <td>1.0</td>\n",
              "      <td>512.0</td>\n",
              "      <td>-23.762585</td>\n",
              "      <td>12.942701</td>\n",
              "    </tr>\n",
              "    <tr>\n",
              "      <th>3</th>\n",
              "      <td>3.0</td>\n",
              "      <td>3.0</td>\n",
              "      <td>mean_squared_error</td>\n",
              "      <td>adam</td>\n",
              "      <td>relu</td>\n",
              "      <td>2.0</td>\n",
              "      <td>128.0</td>\n",
              "      <td>-32.056978</td>\n",
              "      <td>27.134633</td>\n",
              "    </tr>\n",
              "    <tr>\n",
              "      <th>4</th>\n",
              "      <td>4.0</td>\n",
              "      <td>4.0</td>\n",
              "      <td>mean_squared_error</td>\n",
              "      <td>adam</td>\n",
              "      <td>relu</td>\n",
              "      <td>2.0</td>\n",
              "      <td>256.0</td>\n",
              "      <td>-28.692733</td>\n",
              "      <td>18.454465</td>\n",
              "    </tr>\n",
              "    <tr>\n",
              "      <th>...</th>\n",
              "      <td>...</td>\n",
              "      <td>...</td>\n",
              "      <td>...</td>\n",
              "      <td>...</td>\n",
              "      <td>...</td>\n",
              "      <td>...</td>\n",
              "      <td>...</td>\n",
              "      <td>...</td>\n",
              "      <td>...</td>\n",
              "    </tr>\n",
              "    <tr>\n",
              "      <th>284</th>\n",
              "      <td>NaN</td>\n",
              "      <td>NaN</td>\n",
              "      <td>mean_absolute_percentage_error</td>\n",
              "      <td>rmsprop</td>\n",
              "      <td>exponential</td>\n",
              "      <td>3.0</td>\n",
              "      <td>256.0</td>\n",
              "      <td>NaN</td>\n",
              "      <td>NaN</td>\n",
              "    </tr>\n",
              "    <tr>\n",
              "      <th>285</th>\n",
              "      <td>NaN</td>\n",
              "      <td>NaN</td>\n",
              "      <td>mean_absolute_percentage_error</td>\n",
              "      <td>rmsprop</td>\n",
              "      <td>exponential</td>\n",
              "      <td>3.0</td>\n",
              "      <td>512.0</td>\n",
              "      <td>NaN</td>\n",
              "      <td>NaN</td>\n",
              "    </tr>\n",
              "    <tr>\n",
              "      <th>286</th>\n",
              "      <td>NaN</td>\n",
              "      <td>NaN</td>\n",
              "      <td>mean_absolute_percentage_error</td>\n",
              "      <td>rmsprop</td>\n",
              "      <td>exponential</td>\n",
              "      <td>4.0</td>\n",
              "      <td>128.0</td>\n",
              "      <td>NaN</td>\n",
              "      <td>NaN</td>\n",
              "    </tr>\n",
              "    <tr>\n",
              "      <th>287</th>\n",
              "      <td>NaN</td>\n",
              "      <td>NaN</td>\n",
              "      <td>mean_absolute_percentage_error</td>\n",
              "      <td>rmsprop</td>\n",
              "      <td>exponential</td>\n",
              "      <td>4.0</td>\n",
              "      <td>256.0</td>\n",
              "      <td>NaN</td>\n",
              "      <td>NaN</td>\n",
              "    </tr>\n",
              "    <tr>\n",
              "      <th>288</th>\n",
              "      <td>NaN</td>\n",
              "      <td>NaN</td>\n",
              "      <td>mean_absolute_percentage_error</td>\n",
              "      <td>rmsprop</td>\n",
              "      <td>exponential</td>\n",
              "      <td>4.0</td>\n",
              "      <td>512.0</td>\n",
              "      <td>NaN</td>\n",
              "      <td>NaN</td>\n",
              "    </tr>\n",
              "  </tbody>\n",
              "</table>\n",
              "<p>289 rows × 9 columns</p>\n",
              "</div>"
            ],
            "text/plain": [
              "     Unnamed: 0  Unnamed: 0.1  ...     result        std\n",
              "0           0.0           0.0  ... -23.760973  13.643399\n",
              "1           1.0           1.0  ... -23.277733  12.455523\n",
              "2           2.0           2.0  ... -23.762585  12.942701\n",
              "3           3.0           3.0  ... -32.056978  27.134633\n",
              "4           4.0           4.0  ... -28.692733  18.454465\n",
              "..          ...           ...  ...        ...        ...\n",
              "284         NaN           NaN  ...        NaN        NaN\n",
              "285         NaN           NaN  ...        NaN        NaN\n",
              "286         NaN           NaN  ...        NaN        NaN\n",
              "287         NaN           NaN  ...        NaN        NaN\n",
              "288         NaN           NaN  ...        NaN        NaN\n",
              "\n",
              "[289 rows x 9 columns]"
            ]
          },
          "metadata": {
            "tags": []
          },
          "execution_count": 33
        }
      ]
    },
    {
      "cell_type": "markdown",
      "metadata": {
        "id": "KMYBVuwMDs67"
      },
      "source": [
        "## Визуализация результата"
      ]
    },
    {
      "cell_type": "code",
      "metadata": {
        "id": "LpfvvbagBgiM"
      },
      "source": [
        "data = pd.read_csv(PATH + f'results_{288}.csv')"
      ],
      "execution_count": null,
      "outputs": []
    },
    {
      "cell_type": "code",
      "metadata": {
        "colab": {
          "base_uri": "https://localhost:8080/",
          "height": 195
        },
        "id": "blNddtXTBge0",
        "outputId": "432b2c6d-bd29-4a7e-a36f-34b4d70bd536"
      },
      "source": [
        "data.head()"
      ],
      "execution_count": null,
      "outputs": [
        {
          "output_type": "execute_result",
          "data": {
            "text/html": [
              "<div>\n",
              "<style scoped>\n",
              "    .dataframe tbody tr th:only-of-type {\n",
              "        vertical-align: middle;\n",
              "    }\n",
              "\n",
              "    .dataframe tbody tr th {\n",
              "        vertical-align: top;\n",
              "    }\n",
              "\n",
              "    .dataframe thead th {\n",
              "        text-align: right;\n",
              "    }\n",
              "</style>\n",
              "<table border=\"1\" class=\"dataframe\">\n",
              "  <thead>\n",
              "    <tr style=\"text-align: right;\">\n",
              "      <th></th>\n",
              "      <th>Unnamed: 0</th>\n",
              "      <th>Unnamed: 0.1</th>\n",
              "      <th>Unnamed: 0.1.1</th>\n",
              "      <th>loss_function</th>\n",
              "      <th>optimizer_type</th>\n",
              "      <th>activation_func</th>\n",
              "      <th>layers_number</th>\n",
              "      <th>neurons_number</th>\n",
              "      <th>result</th>\n",
              "      <th>std</th>\n",
              "    </tr>\n",
              "  </thead>\n",
              "  <tbody>\n",
              "    <tr>\n",
              "      <th>0</th>\n",
              "      <td>0</td>\n",
              "      <td>0.0</td>\n",
              "      <td>0.0</td>\n",
              "      <td>mean_squared_error</td>\n",
              "      <td>adam</td>\n",
              "      <td>relu</td>\n",
              "      <td>1.0</td>\n",
              "      <td>128.0</td>\n",
              "      <td>-23.760973</td>\n",
              "      <td>13.643399</td>\n",
              "    </tr>\n",
              "    <tr>\n",
              "      <th>1</th>\n",
              "      <td>1</td>\n",
              "      <td>1.0</td>\n",
              "      <td>1.0</td>\n",
              "      <td>mean_squared_error</td>\n",
              "      <td>adam</td>\n",
              "      <td>relu</td>\n",
              "      <td>1.0</td>\n",
              "      <td>256.0</td>\n",
              "      <td>-23.277733</td>\n",
              "      <td>12.455523</td>\n",
              "    </tr>\n",
              "    <tr>\n",
              "      <th>2</th>\n",
              "      <td>2</td>\n",
              "      <td>2.0</td>\n",
              "      <td>2.0</td>\n",
              "      <td>mean_squared_error</td>\n",
              "      <td>adam</td>\n",
              "      <td>relu</td>\n",
              "      <td>1.0</td>\n",
              "      <td>512.0</td>\n",
              "      <td>-23.762585</td>\n",
              "      <td>12.942701</td>\n",
              "    </tr>\n",
              "    <tr>\n",
              "      <th>3</th>\n",
              "      <td>3</td>\n",
              "      <td>3.0</td>\n",
              "      <td>3.0</td>\n",
              "      <td>mean_squared_error</td>\n",
              "      <td>adam</td>\n",
              "      <td>relu</td>\n",
              "      <td>2.0</td>\n",
              "      <td>128.0</td>\n",
              "      <td>-32.056978</td>\n",
              "      <td>27.134633</td>\n",
              "    </tr>\n",
              "    <tr>\n",
              "      <th>4</th>\n",
              "      <td>4</td>\n",
              "      <td>4.0</td>\n",
              "      <td>4.0</td>\n",
              "      <td>mean_squared_error</td>\n",
              "      <td>adam</td>\n",
              "      <td>relu</td>\n",
              "      <td>2.0</td>\n",
              "      <td>256.0</td>\n",
              "      <td>-28.692733</td>\n",
              "      <td>18.454465</td>\n",
              "    </tr>\n",
              "  </tbody>\n",
              "</table>\n",
              "</div>"
            ],
            "text/plain": [
              "   Unnamed: 0  Unnamed: 0.1  ...     result        std\n",
              "0           0           0.0  ... -23.760973  13.643399\n",
              "1           1           1.0  ... -23.277733  12.455523\n",
              "2           2           2.0  ... -23.762585  12.942701\n",
              "3           3           3.0  ... -32.056978  27.134633\n",
              "4           4           4.0  ... -28.692733  18.454465\n",
              "\n",
              "[5 rows x 10 columns]"
            ]
          },
          "metadata": {
            "tags": []
          },
          "execution_count": 5
        }
      ]
    },
    {
      "cell_type": "markdown",
      "metadata": {
        "id": "bChIJn7fBygM"
      },
      "source": [
        "Уппссс, забыл при сохранении изменить параметр index=, придется почистить"
      ]
    },
    {
      "cell_type": "code",
      "metadata": {
        "id": "FDuvriPoBgcL"
      },
      "source": [
        "data=data.iloc[:, 3:]"
      ],
      "execution_count": null,
      "outputs": []
    },
    {
      "cell_type": "code",
      "metadata": {
        "colab": {
          "base_uri": "https://localhost:8080/",
          "height": 195
        },
        "id": "eUP8o5H9BgaI",
        "outputId": "9cb91987-4d71-48aa-dbb2-1c806ed55f67"
      },
      "source": [
        "data.head()"
      ],
      "execution_count": null,
      "outputs": [
        {
          "output_type": "execute_result",
          "data": {
            "text/html": [
              "<div>\n",
              "<style scoped>\n",
              "    .dataframe tbody tr th:only-of-type {\n",
              "        vertical-align: middle;\n",
              "    }\n",
              "\n",
              "    .dataframe tbody tr th {\n",
              "        vertical-align: top;\n",
              "    }\n",
              "\n",
              "    .dataframe thead th {\n",
              "        text-align: right;\n",
              "    }\n",
              "</style>\n",
              "<table border=\"1\" class=\"dataframe\">\n",
              "  <thead>\n",
              "    <tr style=\"text-align: right;\">\n",
              "      <th></th>\n",
              "      <th>loss_function</th>\n",
              "      <th>optimizer_type</th>\n",
              "      <th>activation_func</th>\n",
              "      <th>layers_number</th>\n",
              "      <th>neurons_number</th>\n",
              "      <th>result</th>\n",
              "      <th>std</th>\n",
              "    </tr>\n",
              "  </thead>\n",
              "  <tbody>\n",
              "    <tr>\n",
              "      <th>0</th>\n",
              "      <td>mean_squared_error</td>\n",
              "      <td>adam</td>\n",
              "      <td>relu</td>\n",
              "      <td>1.0</td>\n",
              "      <td>128.0</td>\n",
              "      <td>-23.760973</td>\n",
              "      <td>13.643399</td>\n",
              "    </tr>\n",
              "    <tr>\n",
              "      <th>1</th>\n",
              "      <td>mean_squared_error</td>\n",
              "      <td>adam</td>\n",
              "      <td>relu</td>\n",
              "      <td>1.0</td>\n",
              "      <td>256.0</td>\n",
              "      <td>-23.277733</td>\n",
              "      <td>12.455523</td>\n",
              "    </tr>\n",
              "    <tr>\n",
              "      <th>2</th>\n",
              "      <td>mean_squared_error</td>\n",
              "      <td>adam</td>\n",
              "      <td>relu</td>\n",
              "      <td>1.0</td>\n",
              "      <td>512.0</td>\n",
              "      <td>-23.762585</td>\n",
              "      <td>12.942701</td>\n",
              "    </tr>\n",
              "    <tr>\n",
              "      <th>3</th>\n",
              "      <td>mean_squared_error</td>\n",
              "      <td>adam</td>\n",
              "      <td>relu</td>\n",
              "      <td>2.0</td>\n",
              "      <td>128.0</td>\n",
              "      <td>-32.056978</td>\n",
              "      <td>27.134633</td>\n",
              "    </tr>\n",
              "    <tr>\n",
              "      <th>4</th>\n",
              "      <td>mean_squared_error</td>\n",
              "      <td>adam</td>\n",
              "      <td>relu</td>\n",
              "      <td>2.0</td>\n",
              "      <td>256.0</td>\n",
              "      <td>-28.692733</td>\n",
              "      <td>18.454465</td>\n",
              "    </tr>\n",
              "  </tbody>\n",
              "</table>\n",
              "</div>"
            ],
            "text/plain": [
              "        loss_function optimizer_type  ...     result        std\n",
              "0  mean_squared_error           adam  ... -23.760973  13.643399\n",
              "1  mean_squared_error           adam  ... -23.277733  12.455523\n",
              "2  mean_squared_error           adam  ... -23.762585  12.942701\n",
              "3  mean_squared_error           adam  ... -32.056978  27.134633\n",
              "4  mean_squared_error           adam  ... -28.692733  18.454465\n",
              "\n",
              "[5 rows x 7 columns]"
            ]
          },
          "metadata": {
            "tags": []
          },
          "execution_count": 7
        }
      ]
    },
    {
      "cell_type": "markdown",
      "metadata": {
        "id": "4iUuk0rbCTLi"
      },
      "source": [
        "#### Идея с визаулизацией не прокатила. Слишком много пропущенных и выбросов. МОжно было бы подумать еще как это делать нагляднее, но уже исчерпал лимиты времени на задание"
      ]
    },
    {
      "cell_type": "code",
      "metadata": {
        "colab": {
          "base_uri": "https://localhost:8080/",
          "height": 1000
        },
        "id": "kKwTE9qyCWKH",
        "outputId": "9f96b6ee-4229-4f99-9129-8e33b699785b"
      },
      "source": [
        "colors = ['green', 'blue', 'red', 'orange']\n",
        "markers = ['+', 'x', 'o', '-']\n",
        "for loss_function in loss_function_grid:\n",
        "  print(f'Функция потерь {loss_function}')\n",
        "  for optimizer_type in optimizer_type_grid:\n",
        "    plt.title(f'Тип оптимизатора {optimizer_type}')\n",
        "    for i, activation_func in enumerate(activation_func_grid):\n",
        "      c = colors[i]\n",
        "      for j, layers_number in enumerate(layers_number_grid):\n",
        "        m = markers[j]\n",
        "        dt = data.loc[(data.loss_function == loss_function) & (data.optimizer_type == optimizer_type) & (data.activation_func == activation_func) & (data.layers_number == layers_number), ['neurons_number', 'result']]\n",
        "        try:\n",
        "          plt.plot(dt.neurons_number, dt.result, color=c, marker=m, label=f'{loss_function}, {activation_func}')\n",
        "        except:\n",
        "          pass\n",
        "    plt.show()"
      ],
      "execution_count": null,
      "outputs": [
        {
          "output_type": "stream",
          "text": [
            "Функция потерь mean_squared_error\n"
          ],
          "name": "stdout"
        },
        {
          "output_type": "display_data",
          "data": {
            "image/png": "[encoded data removed]",
            "text/plain": [
              "<Figure size 432x288 with 1 Axes>"
            ]
          },
          "metadata": {
            "tags": [],
            "needs_background": "light"
          }
        },
        {
          "output_type": "display_data",
          "data": {
            "image/png": "[encoded data removed]",
            "text/plain": [
              "<Figure size 432x288 with 1 Axes>"
            ]
          },
          "metadata": {
            "tags": [],
            "needs_background": "light"
          }
        },
        {
          "output_type": "display_data",
          "data": {
            "image/png": "[encoded data removed]",
            "text/plain": [
              "<Figure size 432x288 with 1 Axes>"
            ]
          },
          "metadata": {
            "tags": [],
            "needs_background": "light"
          }
        },
        {
          "output_type": "stream",
          "text": [
            "Функция потерь mean_absolute_percentage_error\n"
          ],
          "name": "stdout"
        },
        {
          "output_type": "display_data",
          "data": {
            "image/png": "[encoded data removed]",
            "text/plain": [
              "<Figure size 432x288 with 1 Axes>"
            ]
          },
          "metadata": {
            "tags": [],
            "needs_background": "light"
          }
        },
        {
          "output_type": "display_data",
          "data": {
            "image/png": "[encoded data removed]",
            "text/plain": [
              "<Figure size 432x288 with 1 Axes>"
            ]
          },
          "metadata": {
            "tags": [],
            "needs_background": "light"
          }
        },
        {
          "output_type": "display_data",
          "data": {
            "image/png": "[encoded data removed]",
            "text/plain": [
              "<Figure size 432x288 with 1 Axes>"
            ]
          },
          "metadata": {
            "tags": [],
            "needs_background": "light"
          }
        }
      ]
    },
    {
      "cell_type": "markdown",
      "metadata": {
        "id": "rNpY7FPhn7Sz"
      },
      "source": [
        "### Посмотрим на лучшие результаты по каждому варианту метрики:"
      ]
    },
    {
      "cell_type": "code",
      "metadata": {
        "id": "AsvTwTgTmLnP"
      },
      "source": [
        "data_abs = data.head(145)\n",
        "data_per = data.tail(144)"
      ],
      "execution_count": null,
      "outputs": []
    },
    {
      "cell_type": "code",
      "metadata": {
        "colab": {
          "base_uri": "https://localhost:8080/",
          "height": 77
        },
        "id": "N3hoWjpynyNl",
        "outputId": "49ac1cf9-376a-4e3b-e7ef-4d96142630a9"
      },
      "source": [
        "data_abs.head(1)"
      ],
      "execution_count": null,
      "outputs": [
        {
          "output_type": "execute_result",
          "data": {
            "text/html": [
              "<div>\n",
              "<style scoped>\n",
              "    .dataframe tbody tr th:only-of-type {\n",
              "        vertical-align: middle;\n",
              "    }\n",
              "\n",
              "    .dataframe tbody tr th {\n",
              "        vertical-align: top;\n",
              "    }\n",
              "\n",
              "    .dataframe thead th {\n",
              "        text-align: right;\n",
              "    }\n",
              "</style>\n",
              "<table border=\"1\" class=\"dataframe\">\n",
              "  <thead>\n",
              "    <tr style=\"text-align: right;\">\n",
              "      <th></th>\n",
              "      <th>loss_function</th>\n",
              "      <th>optimizer_type</th>\n",
              "      <th>activation_func</th>\n",
              "      <th>layers_number</th>\n",
              "      <th>neurons_number</th>\n",
              "      <th>result</th>\n",
              "      <th>std</th>\n",
              "    </tr>\n",
              "  </thead>\n",
              "  <tbody>\n",
              "    <tr>\n",
              "      <th>0</th>\n",
              "      <td>mean_squared_error</td>\n",
              "      <td>adam</td>\n",
              "      <td>relu</td>\n",
              "      <td>1.0</td>\n",
              "      <td>128.0</td>\n",
              "      <td>-23.760973</td>\n",
              "      <td>13.643399</td>\n",
              "    </tr>\n",
              "  </tbody>\n",
              "</table>\n",
              "</div>"
            ],
            "text/plain": [
              "        loss_function optimizer_type  ...     result        std\n",
              "0  mean_squared_error           adam  ... -23.760973  13.643399\n",
              "\n",
              "[1 rows x 7 columns]"
            ]
          },
          "metadata": {
            "tags": []
          },
          "execution_count": 65
        }
      ]
    },
    {
      "cell_type": "code",
      "metadata": {
        "colab": {
          "base_uri": "https://localhost:8080/",
          "height": 77
        },
        "id": "s7Ujs6jWCWGv",
        "outputId": "1a68539d-fefb-4659-8b76-3e87b34ae3fa"
      },
      "source": [
        "data_abs[data_abs.result == max(data_abs[~data_abs.result.isna()].result)]"
      ],
      "execution_count": null,
      "outputs": [
        {
          "output_type": "execute_result",
          "data": {
            "text/html": [
              "<div>\n",
              "<style scoped>\n",
              "    .dataframe tbody tr th:only-of-type {\n",
              "        vertical-align: middle;\n",
              "    }\n",
              "\n",
              "    .dataframe tbody tr th {\n",
              "        vertical-align: top;\n",
              "    }\n",
              "\n",
              "    .dataframe thead th {\n",
              "        text-align: right;\n",
              "    }\n",
              "</style>\n",
              "<table border=\"1\" class=\"dataframe\">\n",
              "  <thead>\n",
              "    <tr style=\"text-align: right;\">\n",
              "      <th></th>\n",
              "      <th>loss_function</th>\n",
              "      <th>optimizer_type</th>\n",
              "      <th>activation_func</th>\n",
              "      <th>layers_number</th>\n",
              "      <th>neurons_number</th>\n",
              "      <th>result</th>\n",
              "      <th>std</th>\n",
              "    </tr>\n",
              "  </thead>\n",
              "  <tbody>\n",
              "    <tr>\n",
              "      <th>135</th>\n",
              "      <td>mean_squared_error</td>\n",
              "      <td>rmsprop</td>\n",
              "      <td>exponential</td>\n",
              "      <td>1.0</td>\n",
              "      <td>512.0</td>\n",
              "      <td>-22.244308</td>\n",
              "      <td>15.718428</td>\n",
              "    </tr>\n",
              "  </tbody>\n",
              "</table>\n",
              "</div>"
            ],
            "text/plain": [
              "          loss_function optimizer_type  ...     result        std\n",
              "135  mean_squared_error        rmsprop  ... -22.244308  15.718428\n",
              "\n",
              "[1 rows x 7 columns]"
            ]
          },
          "metadata": {
            "tags": []
          },
          "execution_count": 63
        }
      ]
    },
    {
      "cell_type": "code",
      "metadata": {
        "colab": {
          "base_uri": "https://localhost:8080/",
          "height": 77
        },
        "id": "7hw0Wp3jn2KK",
        "outputId": "65274576-4112-47c8-b390-be57fa82f252"
      },
      "source": [
        "data_per.head(1)"
      ],
      "execution_count": null,
      "outputs": [
        {
          "output_type": "execute_result",
          "data": {
            "text/html": [
              "<div>\n",
              "<style scoped>\n",
              "    .dataframe tbody tr th:only-of-type {\n",
              "        vertical-align: middle;\n",
              "    }\n",
              "\n",
              "    .dataframe tbody tr th {\n",
              "        vertical-align: top;\n",
              "    }\n",
              "\n",
              "    .dataframe thead th {\n",
              "        text-align: right;\n",
              "    }\n",
              "</style>\n",
              "<table border=\"1\" class=\"dataframe\">\n",
              "  <thead>\n",
              "    <tr style=\"text-align: right;\">\n",
              "      <th></th>\n",
              "      <th>loss_function</th>\n",
              "      <th>optimizer_type</th>\n",
              "      <th>activation_func</th>\n",
              "      <th>layers_number</th>\n",
              "      <th>neurons_number</th>\n",
              "      <th>result</th>\n",
              "      <th>std</th>\n",
              "    </tr>\n",
              "  </thead>\n",
              "  <tbody>\n",
              "    <tr>\n",
              "      <th>145</th>\n",
              "      <td>mean_absolute_percentage_error</td>\n",
              "      <td>adam</td>\n",
              "      <td>relu</td>\n",
              "      <td>1.0</td>\n",
              "      <td>128.0</td>\n",
              "      <td>-16.480698</td>\n",
              "      <td>6.656933</td>\n",
              "    </tr>\n",
              "  </tbody>\n",
              "</table>\n",
              "</div>"
            ],
            "text/plain": [
              "                      loss_function optimizer_type  ...     result       std\n",
              "145  mean_absolute_percentage_error           adam  ... -16.480698  6.656933\n",
              "\n",
              "[1 rows x 7 columns]"
            ]
          },
          "metadata": {
            "tags": []
          },
          "execution_count": 66
        }
      ]
    },
    {
      "cell_type": "code",
      "metadata": {
        "colab": {
          "base_uri": "https://localhost:8080/",
          "height": 77
        },
        "id": "I7U_lQXIZEIF",
        "outputId": "935673ae-0e65-49e4-e716-77f6de08fd7e"
      },
      "source": [
        "data_per[data_per.result == max(data_per[~data_per.result.isna()].result)]"
      ],
      "execution_count": null,
      "outputs": [
        {
          "output_type": "execute_result",
          "data": {
            "text/html": [
              "<div>\n",
              "<style scoped>\n",
              "    .dataframe tbody tr th:only-of-type {\n",
              "        vertical-align: middle;\n",
              "    }\n",
              "\n",
              "    .dataframe tbody tr th {\n",
              "        vertical-align: top;\n",
              "    }\n",
              "\n",
              "    .dataframe thead th {\n",
              "        text-align: right;\n",
              "    }\n",
              "</style>\n",
              "<table border=\"1\" class=\"dataframe\">\n",
              "  <thead>\n",
              "    <tr style=\"text-align: right;\">\n",
              "      <th></th>\n",
              "      <th>loss_function</th>\n",
              "      <th>optimizer_type</th>\n",
              "      <th>activation_func</th>\n",
              "      <th>layers_number</th>\n",
              "      <th>neurons_number</th>\n",
              "      <th>result</th>\n",
              "      <th>std</th>\n",
              "    </tr>\n",
              "  </thead>\n",
              "  <tbody>\n",
              "    <tr>\n",
              "      <th>210</th>\n",
              "      <td>mean_absolute_percentage_error</td>\n",
              "      <td>sgd</td>\n",
              "      <td>sigmoid</td>\n",
              "      <td>2.0</td>\n",
              "      <td>512.0</td>\n",
              "      <td>-13.911233</td>\n",
              "      <td>5.115122</td>\n",
              "    </tr>\n",
              "  </tbody>\n",
              "</table>\n",
              "</div>"
            ],
            "text/plain": [
              "                      loss_function optimizer_type  ...     result       std\n",
              "210  mean_absolute_percentage_error            sgd  ... -13.911233  5.115122\n",
              "\n",
              "[1 rows x 7 columns]"
            ]
          },
          "metadata": {
            "tags": []
          },
          "execution_count": 64
        }
      ]
    },
    {
      "cell_type": "markdown",
      "metadata": {
        "id": "64KQgsHVoMbv"
      },
      "source": [
        "**ВИДНО**, что \"лучшие\" результаты оптимизации лежат в пределах одного стандартного отклонения от базовой простейшей модели.  \n",
        "Никакого намека на статистическую значимость улучшения  "
      ]
    },
    {
      "cell_type": "markdown",
      "metadata": {
        "id": "5ExeIca76aPT"
      },
      "source": [
        "Полезным для себя я нашел KerasRegressor. Эта надстройка позволяет рассматривать нейронную сеть в терминах scikit_learn, что очень удобно для анализа и организации pipelines "
      ]
    },
    {
      "cell_type": "code",
      "metadata": {
        "id": "jtkK13Kg61T1"
      },
      "source": [
        ""
      ],
      "execution_count": null,
      "outputs": []
    }
  ]
}