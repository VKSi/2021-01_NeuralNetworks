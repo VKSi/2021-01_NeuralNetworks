{
  "nbformat": 4,
  "nbformat_minor": 0,
  "metadata": {
    "colab": {
      "name": "HW_4.ipynb",
      "provenance": [],
      "collapsed_sections": [],
      "authorship_tag": "ABX9TyMmldF8IWFkuQYKXXA5PT7P",
      "include_colab_link": true
    },
    "kernelspec": {
      "name": "python3",
      "display_name": "Python 3"
    },
    "accelerator": "GPU"
  },
  "cells": [
    {
      "cell_type": "markdown",
      "metadata": {
        "id": "view-in-github",
        "colab_type": "text"
      },
      "source": [
        "<a href=\"https://colab.research.google.com/github/VKSi/2021_01_NeuralNetworks_Intro/blob/main/HW_4_CNN.ipynb\" target=\"_parent\"><img src=\"https://colab.research.google.com/assets/colab-badge.svg\" alt=\"Open In Colab\"/></a>"
      ]
    },
    {
      "cell_type": "markdown",
      "metadata": {
        "id": "T7Qdd-WJLJyr"
      },
      "source": [
        "# Введение в искусственные нейронные сети\n",
        "# Урок 4. Сверточные нейронные сети"
      ]
    },
    {
      "cell_type": "markdown",
      "metadata": {
        "id": "mgTdZzX8LTWi"
      },
      "source": [
        "## Практическое задание\n",
        "\n",
        "Вариант 1. (простой)\n",
        "\n",
        "- обучить сверточную нейронную сеть в стиле AlexNet (с падением размера ядра свертки и последовательностью блоков свертка-пулинг  (conv-pool)-(conv-pool)-...) на датасете fashion-mnist\n",
        "- оценить рост точности при увеличении ширины сети (больше ядер)\n",
        "- оценить рост точности при увеличении глубины сети (больше слоев)\n",
        "- сравнить с точностью полносвязной сети для этой выборки\n",
        "    </li>\n",
        "\n",
        "Вариант 2. (сложный)\n",
        "- реализовать нейронную сеть или стек из сверток (Concatenate) на сifar10.\n",
        "- оценить рост точности при увеличении ширины сети (больше ядер), больше нитей.\n",
        "- оценить рост точности при увеличении глубины сети (больше слоев)\n",
        "    </li>\n",
        "</ol>"
      ]
    },
    {
      "cell_type": "markdown",
      "metadata": {
        "id": "W-J5Z4jHPgX3"
      },
      "source": [
        "# Решения"
      ]
    },
    {
      "cell_type": "markdown",
      "metadata": {
        "id": "9wCEOKqWRSU5"
      },
      "source": [
        "## Подготовка данных"
      ]
    },
    {
      "cell_type": "code",
      "metadata": {
        "colab": {
          "base_uri": "https://localhost:8080/"
        },
        "id": "QIeqVwPm0fJ1",
        "outputId": "f2888642-6883-4b30-f41b-40a29c207a2b"
      },
      "source": [
        "from google.colab import drive\n",
        "drive.mount('/content/gdrive')"
      ],
      "execution_count": null,
      "outputs": [
        {
          "output_type": "stream",
          "text": [
            "Mounted at /content/gdrive\n"
          ],
          "name": "stdout"
        }
      ]
    },
    {
      "cell_type": "code",
      "metadata": {
        "id": "amyziLr20ldt"
      },
      "source": [
        "PATH = 'gdrive/My Drive/AI/GB/NeuralNetwork/Lesson4/'"
      ],
      "execution_count": null,
      "outputs": []
    },
    {
      "cell_type": "code",
      "metadata": {
        "colab": {
          "base_uri": "https://localhost:8080/"
        },
        "id": "nXGDAxOpIOFq",
        "outputId": "0e3e817e-a651-417c-f45e-21a4d9dd793c"
      },
      "source": [
        "import tensorflow as tf\n",
        "print(tf.__version__)\n",
        "msg = tf.constant('TensorFlow 2.0 Hello World')\n",
        "tf.print(msg)"
      ],
      "execution_count": null,
      "outputs": [
        {
          "output_type": "stream",
          "text": [
            "2.4.0\n",
            "TensorFlow 2.0 Hello World\n"
          ],
          "name": "stdout"
        }
      ]
    },
    {
      "cell_type": "code",
      "metadata": {
        "id": "70euU61UrBfY"
      },
      "source": [
        "import numpy as np\n",
        "import pandas as pd\n",
        "import matplotlib.pyplot as plt\n",
        "\n",
        "from keras.datasets import fashion_mnist\n",
        "\n",
        "from tensorflow.keras.layers import Input, Flatten, Dense, Conv2D, MaxPooling2D\n",
        "from tensorflow.keras.models import Sequential, Model\n",
        "from tensorflow.keras.optimizers import RMSprop\n",
        "from tensorflow.keras.utils import plot_model, to_categorical\n",
        "\n",
        "from tensorflow.keras.wrappers.scikit_learn import KerasClassifier\n",
        "\n",
        "from sklearn.model_selection import cross_val_score, KFold\n",
        "from sklearn.metrics import accuracy_score, make_scorer"
      ],
      "execution_count": null,
      "outputs": []
    },
    {
      "cell_type": "markdown",
      "metadata": {
        "id": "N09-yLZ55WVc"
      },
      "source": [
        "https://www.tensorflow.org/api_docs/python/tf/keras/wrappers/scikit_learn/KerasClassifier "
      ]
    },
    {
      "cell_type": "markdown",
      "metadata": {
        "id": "RbyY7tb6M0i7"
      },
      "source": [
        "### Знакомимся с датасетом"
      ]
    },
    {
      "cell_type": "code",
      "metadata": {
        "id": "guCfLX5oIfrV"
      },
      "source": [
        "(X_train, y_train), (X_test, y_test) = fashion_mnist.load_data()"
      ],
      "execution_count": null,
      "outputs": []
    },
    {
      "cell_type": "code",
      "metadata": {
        "id": "bg936mmzLMGS",
        "colab": {
          "base_uri": "https://localhost:8080/",
          "height": 265
        },
        "outputId": "22250a59-5695-4929-a9c9-71ac5678bf21"
      },
      "source": [
        "plt.imshow(train_imagesi[0,:,:])\n",
        "plt.show()"
      ],
      "execution_count": null,
      "outputs": [
        {
          "output_type": "display_data",
          "data": {
            "image/png": "[encoded data removed]",
            "text/plain": [
              "<Figure size 432x288 with 1 Axes>"
            ]
          },
          "metadata": {
            "tags": [],
            "needs_background": "light"
          }
        }
      ]
    },
    {
      "cell_type": "code",
      "metadata": {
        "colab": {
          "base_uri": "https://localhost:8080/"
        },
        "id": "U5kjhypEr_pX",
        "outputId": "8077940c-b794-4eee-f996-cc2e8892babb"
      },
      "source": [
        "X_train.shape"
      ],
      "execution_count": null,
      "outputs": [
        {
          "output_type": "execute_result",
          "data": {
            "text/plain": [
              "(60000, 28, 28)"
            ]
          },
          "metadata": {
            "tags": []
          },
          "execution_count": 24
        }
      ]
    },
    {
      "cell_type": "code",
      "metadata": {
        "colab": {
          "base_uri": "https://localhost:8080/"
        },
        "id": "3LYXOTZ8r_l1",
        "outputId": "2bf8c72d-3995-4d84-a379-66a289d2cf71"
      },
      "source": [
        "y_train.shape"
      ],
      "execution_count": null,
      "outputs": [
        {
          "output_type": "execute_result",
          "data": {
            "text/plain": [
              "(60000,)"
            ]
          },
          "metadata": {
            "tags": []
          },
          "execution_count": 25
        }
      ]
    },
    {
      "cell_type": "code",
      "metadata": {
        "colab": {
          "base_uri": "https://localhost:8080/"
        },
        "id": "fUH3Cd7mr_jk",
        "outputId": "04b53a0a-6cb2-4483-f3af-00ee6509bccb"
      },
      "source": [
        "np.unique(y_train)"
      ],
      "execution_count": null,
      "outputs": [
        {
          "output_type": "execute_result",
          "data": {
            "text/plain": [
              "array([0, 1, 2, 3, 4, 5, 6, 7, 8, 9], dtype=uint8)"
            ]
          },
          "metadata": {
            "tags": []
          },
          "execution_count": 26
        }
      ]
    },
    {
      "cell_type": "code",
      "metadata": {
        "colab": {
          "base_uri": "https://localhost:8080/"
        },
        "id": "_QVCyRpYr_hX",
        "outputId": "93bf5de7-e9aa-4654-98ff-2c7673cdc80b"
      },
      "source": [
        "X_test.shape"
      ],
      "execution_count": null,
      "outputs": [
        {
          "output_type": "execute_result",
          "data": {
            "text/plain": [
              "(10000, 28, 28)"
            ]
          },
          "metadata": {
            "tags": []
          },
          "execution_count": 27
        }
      ]
    },
    {
      "cell_type": "code",
      "metadata": {
        "colab": {
          "base_uri": "https://localhost:8080/"
        },
        "id": "axmNmTCtr_ew",
        "outputId": "e243c0d2-9ae4-4ebc-fb82-3532a1f7a1a2"
      },
      "source": [
        "y_test.shape"
      ],
      "execution_count": null,
      "outputs": [
        {
          "output_type": "execute_result",
          "data": {
            "text/plain": [
              "(10000,)"
            ]
          },
          "metadata": {
            "tags": []
          },
          "execution_count": 28
        }
      ]
    },
    {
      "cell_type": "code",
      "metadata": {
        "colab": {
          "base_uri": "https://localhost:8080/"
        },
        "id": "c-v3p60Ur_ca",
        "outputId": "4ca33cc9-facb-4579-de98-9ede73741e65"
      },
      "source": [
        "np.unique(y_test)"
      ],
      "execution_count": null,
      "outputs": [
        {
          "output_type": "execute_result",
          "data": {
            "text/plain": [
              "array([0, 1, 2, 3, 4, 5, 6, 7, 8, 9], dtype=uint8)"
            ]
          },
          "metadata": {
            "tags": []
          },
          "execution_count": 29
        }
      ]
    },
    {
      "cell_type": "code",
      "metadata": {
        "id": "PkMXTE0gr_aA"
      },
      "source": [
        "# конвертация чисел из uint8 в float32\n",
        "X_train = X_train.astype('float32')\n",
        "X_test = X_test.astype('float32')\n",
        "\n",
        "# нормализация данных [0, 1]\n",
        "X_train /= 255 \n",
        "X_test /= 255 \n",
        "\n",
        "# трансформация лейблов в one-hot encoding\n",
        "y_train = to_categorical(y_train, 10) \n",
        "y_test = to_categorical(y_test, 10) \n",
        "\n",
        "# изменение размерности массива в 4D массив\n",
        "X_train_reshaped = X_train.reshape(X_train.shape[0], 28,28,1)\n",
        "X_test_reshaped = X_test.reshape(X_test.shape[0], 28,28,1)"
      ],
      "execution_count": null,
      "outputs": []
    },
    {
      "cell_type": "markdown",
      "metadata": {
        "id": "dK1py0OazW58"
      },
      "source": [
        "## Базовая модель без свертки"
      ]
    },
    {
      "cell_type": "code",
      "metadata": {
        "id": "6kAW4UE5ssFm"
      },
      "source": [
        "def baseline_model():\n",
        "  inputs = Input(shape=(28, 28))\n",
        "  x = Flatten()(inputs)\n",
        "  x = Dense(128, activation='relu')(x)\n",
        "  outputs = Dense(10, activation='softmax')(x)\n",
        "  model = Model(inputs, outputs)\n",
        "  model.compile(loss='categorical_crossentropy', optimizer='rmsprop', metrics='accuracy')\n",
        "  return model"
      ],
      "execution_count": null,
      "outputs": []
    },
    {
      "cell_type": "code",
      "metadata": {
        "colab": {
          "base_uri": "https://localhost:8080/"
        },
        "id": "VTwe6J4IssCR",
        "outputId": "64a81be9-ecce-449a-817a-1e5d43fba617"
      },
      "source": [
        "baseline_model().summary()"
      ],
      "execution_count": null,
      "outputs": [
        {
          "output_type": "stream",
          "text": [
            "Model: \"model_53\"\n",
            "_________________________________________________________________\n",
            "Layer (type)                 Output Shape              Param #   \n",
            "=================================================================\n",
            "input_54 (InputLayer)        [(None, 28, 28)]          0         \n",
            "_________________________________________________________________\n",
            "flatten_1 (Flatten)          (None, 784)               0         \n",
            "_________________________________________________________________\n",
            "dense_106 (Dense)            (None, 128)               100480    \n",
            "_________________________________________________________________\n",
            "dense_107 (Dense)            (None, 10)                1290      \n",
            "=================================================================\n",
            "Total params: 101,770\n",
            "Trainable params: 101,770\n",
            "Non-trainable params: 0\n",
            "_________________________________________________________________\n"
          ],
          "name": "stdout"
        }
      ]
    },
    {
      "cell_type": "code",
      "metadata": {
        "id": "pxFmmuwn3Mm-"
      },
      "source": [
        "# accuracy_scorer = make_scorer(accuracy_score, greater_is_better=True, needs_proba=True)"
      ],
      "execution_count": null,
      "outputs": []
    },
    {
      "cell_type": "code",
      "metadata": {
        "id": "3LKTehyXt3CS"
      },
      "source": [
        "def print_simple_result(model_, X, y, metrics, number_of_folds=5, number_of_starts=1, number_of_epochs=15):\n",
        "  results = list()\n",
        "  for i in range(number_of_starts):\n",
        "    kfold = KFold(n_splits=number_of_folds)\n",
        "    estimator = KerasClassifier(build_fn=model_, epochs=number_of_epochs, batch_size=100, verbose=0)\n",
        "    results += list(cross_val_score(estimator, X, y, cv=kfold))  # , scoring=accuracy_scorer\n",
        "\n",
        "  print(f\"{metrics}: среднее значение = {np.mean(results):.2f}, стандартное отклонение =  {np.std(results):.2f}\")\n",
        "  return results"
      ],
      "execution_count": null,
      "outputs": []
    },
    {
      "cell_type": "code",
      "metadata": {
        "colab": {
          "base_uri": "https://localhost:8080/"
        },
        "id": "IgA-kKD-t2-0",
        "outputId": "f3b3f5da-e2e6-4c98-937c-6559e7250bea"
      },
      "source": [
        "r = print_simple_result(baseline_model, X_train, y_train, metrics = 'accuracy', number_of_starts=5, number_of_epochs=15)"
      ],
      "execution_count": null,
      "outputs": [
        {
          "output_type": "stream",
          "text": [
            "accuracy: среднее значение = 0.89, стандартное отклонение =  0.01\n"
          ],
          "name": "stdout"
        }
      ]
    },
    {
      "cell_type": "markdown",
      "metadata": {
        "id": "c49UA1XEz22V"
      },
      "source": [
        "## Базовая модель со сверткой"
      ]
    },
    {
      "cell_type": "markdown",
      "metadata": {
        "id": "5rDKVPIT6jHj"
      },
      "source": [
        "Построим параметрическую процедуру (как и в 3-м домашнем задании)"
      ]
    },
    {
      "cell_type": "code",
      "metadata": {
        "id": "8cnZLP_pt28l"
      },
      "source": [
        "def parametric_model(kernel_sizes=[(5, 5)],\n",
        "                     filters = [16, 64, 256, 512],\n",
        "                     pool_size = (2, 2),\n",
        "                     activation_func='relu',\n",
        "                     optimizer_type='rmsprop',\n",
        "                     loss_function='categorical_crossentropy',\n",
        "                     metrics='accuracy'):\n",
        "  def b_func():\n",
        "    layers_number = len(kernel_sizes)\n",
        "    inputs = Input(shape=(28,28,1))\n",
        "    x = inputs\n",
        "    for i in range(layers_number):\n",
        "      x = Conv2D(filters=filters[i], kernel_size=kernel_sizes[i], strides=(1, 1), activation=activation_func, padding='valid')(x)  # , name='conv2d_'+str(i)\n",
        "      x = MaxPooling2D(pool_size=pool_size)(x)  # name='pool_'+str(i)\n",
        "    x = Flatten()(x)  # name='flatten_output'\n",
        "    outputs = Dense(10, activation='softmax')(x)  # , name='dense_output'\n",
        "\n",
        "    model = Model(inputs,outputs)\n",
        "    model.compile(loss=loss_function, optimizer=optimizer_type, metrics=metrics)\n",
        "    return model\n",
        "\n",
        "  return b_func, b_func()"
      ],
      "execution_count": null,
      "outputs": []
    },
    {
      "cell_type": "code",
      "metadata": {
        "id": "gxqVsOMBt24H"
      },
      "source": [
        "pm_func, pm = parametric_model(kernel_sizes=[(5, 5)],\n",
        "                               filters = [16, 64, 256, 512],\n",
        "                               activation_func='relu',\n",
        "                               optimizer_type='rmsprop',\n",
        "                               loss_function='categorical_crossentropy',\n",
        "                               metrics='accuracy')"
      ],
      "execution_count": null,
      "outputs": []
    },
    {
      "cell_type": "code",
      "metadata": {
        "colab": {
          "base_uri": "https://localhost:8080/"
        },
        "id": "a_-0vD2bt212",
        "outputId": "12adfba3-9bff-4643-d281-13d6b2fa1b7a"
      },
      "source": [
        "pm.summary()"
      ],
      "execution_count": null,
      "outputs": [
        {
          "output_type": "stream",
          "text": [
            "Model: \"model_192\"\n",
            "_________________________________________________________________\n",
            "Layer (type)                 Output Shape              Param #   \n",
            "=================================================================\n",
            "input_194 (InputLayer)       [(None, 28, 28, 1)]       0         \n",
            "_________________________________________________________________\n",
            "conv2d_82 (Conv2D)           (None, 24, 24, 16)        416       \n",
            "_________________________________________________________________\n",
            "max_pooling2d_82 (MaxPooling (None, 12, 12, 16)        0         \n",
            "_________________________________________________________________\n",
            "flatten_140 (Flatten)        (None, 2304)              0         \n",
            "_________________________________________________________________\n",
            "dense_302 (Dense)            (None, 10)                23050     \n",
            "=================================================================\n",
            "Total params: 23,466\n",
            "Trainable params: 23,466\n",
            "Non-trainable params: 0\n",
            "_________________________________________________________________\n"
          ],
          "name": "stdout"
        }
      ]
    },
    {
      "cell_type": "code",
      "metadata": {
        "colab": {
          "base_uri": "https://localhost:8080/"
        },
        "id": "UlaSdo-1t2zV",
        "outputId": "a1b04d29-1937-4839-b7ba-d31e5c8331f6"
      },
      "source": [
        "r = print_simple_result(pm_func, X_train_reshaped, y_train, metrics = 'accuracy', number_of_starts=5, number_of_epochs=15)"
      ],
      "execution_count": null,
      "outputs": [
        {
          "output_type": "stream",
          "text": [
            "accuracy: среднее значение = 0.90, стандартное отклонение =  0.01\n"
          ],
          "name": "stdout"
        }
      ]
    },
    {
      "cell_type": "markdown",
      "metadata": {
        "id": "AZKevDuXHoNT"
      },
      "source": [
        "Качество базовой сверточной модели несколько выше базовой полнослойной"
      ]
    },
    {
      "cell_type": "markdown",
      "metadata": {
        "id": "4c4vssvkHEu3"
      },
      "source": [
        "Посмотрим насколько ухудшается качество на малом количестве эпох"
      ]
    },
    {
      "cell_type": "code",
      "metadata": {
        "colab": {
          "base_uri": "https://localhost:8080/"
        },
        "id": "GYzLQxnKG430",
        "outputId": "e02bf5ad-be8d-4e6e-df7d-832b70b64590"
      },
      "source": [
        "r = print_simple_result(pm_func, X_train_reshaped, y_train, metrics = 'accuracy', number_of_starts=5, number_of_epochs=5)"
      ],
      "execution_count": null,
      "outputs": [
        {
          "output_type": "stream",
          "text": [
            "accuracy: среднее значение = 0.89, стандартное отклонение =  0.00\n"
          ],
          "name": "stdout"
        }
      ]
    },
    {
      "cell_type": "markdown",
      "metadata": {
        "id": "n4YZ8F17Hb1v"
      },
      "source": [
        "Можно строить зоопарк на меньшем количестве эпох, а потом посмотреть лучший результат на большем количестве эпох"
      ]
    },
    {
      "cell_type": "markdown",
      "metadata": {
        "id": "BbbHIFwwDkxG"
      },
      "source": [
        "## Зоопарк"
      ]
    },
    {
      "cell_type": "markdown",
      "metadata": {
        "id": "x7tAAlpKEv-0"
      },
      "source": [
        "Зависимость от количества ядер с одной группой слоев (количество эпох уменьшено до 3)"
      ]
    },
    {
      "cell_type": "code",
      "metadata": {
        "colab": {
          "base_uri": "https://localhost:8080/"
        },
        "id": "-dNK18XBssAF",
        "outputId": "f903a92c-a982-4dc1-b87e-e1816fe2d6f5"
      },
      "source": [
        "for f in [1, 16, 64, 128, 256, 512]:\n",
        "  pm_func, pm = parametric_model(kernel_sizes=[(5, 5)],\n",
        "                               filters = [f],\n",
        "                               activation_func='relu',\n",
        "                               optimizer_type='rmsprop',\n",
        "                               loss_function='categorical_crossentropy',\n",
        "                               metrics='accuracy')\n",
        "  print('filters = ', f)\n",
        "  r = print_simple_result(pm_func, X_train_reshaped, y_train, metrics = 'accuracy', number_of_starts=5, number_of_epochs=3)"
      ],
      "execution_count": null,
      "outputs": [
        {
          "output_type": "stream",
          "text": [
            "filters =  1\n",
            "accuracy: среднее значение = 0.79, стандартное отклонение =  0.01\n",
            "filters =  16\n",
            "accuracy: среднее значение = 0.88, стандартное отклонение =  0.00\n",
            "filters =  64\n",
            "accuracy: среднее значение = 0.89, стандартное отклонение =  0.00\n",
            "filters =  128\n",
            "accuracy: среднее значение = 0.90, стандартное отклонение =  0.00\n",
            "filters =  256\n",
            "accuracy: среднее значение = 0.90, стандартное отклонение =  0.01\n",
            "filters =  512\n",
            "accuracy: среднее значение = 0.90, стандартное отклонение =  0.01\n"
          ],
          "name": "stdout"
        }
      ]
    },
    {
      "cell_type": "markdown",
      "metadata": {
        "id": "rpci-8xVMCKD"
      },
      "source": [
        "Похоже, как и в полносвязном слое, лучшее значение количества нейронов находится где-то в окрестности 200"
      ]
    },
    {
      "cell_type": "markdown",
      "metadata": {
        "id": "jZqXKSGsFjAx"
      },
      "source": [
        "Зависимость от количества слоев (количество фильтров увеличиваем)\n",
        "Чтобы на изображении 28Х28 построить несколько слоев с пулингом, придется уменьшить размер ядра"
      ]
    },
    {
      "cell_type": "code",
      "metadata": {
        "colab": {
          "base_uri": "https://localhost:8080/"
        },
        "id": "kGRhsqwYsr-N",
        "outputId": "62834593-7986-42d0-9def-f52b5d1410de"
      },
      "source": [
        "for n in range(1, 4):\n",
        "  ks = (3, 3)\n",
        "  kernel_sizes = [ks]*n\n",
        "  pm_func, pm = parametric_model(kernel_sizes=kernel_sizes,\n",
        "                               filters = [16, 64, 256],\n",
        "                               activation_func='relu',\n",
        "                               optimizer_type='rmsprop',\n",
        "                               loss_function='categorical_crossentropy',\n",
        "                               metrics='accuracy')\n",
        "  print('n = ', n)\n",
        "  r = print_simple_result(pm_func, X_train_reshaped, y_train, metrics = 'accuracy', number_of_starts=5, number_of_epochs=3)"
      ],
      "execution_count": null,
      "outputs": [
        {
          "output_type": "stream",
          "text": [
            "n =  1\n",
            "accuracy: среднее значение = 0.88, стандартное отклонение =  0.01\n",
            "n =  2\n",
            "accuracy: среднее значение = 0.87, стандартное отклонение =  0.01\n",
            "n =  3\n",
            "accuracy: среднее значение = 0.86, стандартное отклонение =  0.01\n"
          ],
          "name": "stdout"
        }
      ]
    },
    {
      "cell_type": "markdown",
      "metadata": {
        "id": "NgKffDN9Qbeg"
      },
      "source": [
        "Увеличение количества слоев ухудшает результат ?"
      ]
    },
    {
      "cell_type": "markdown",
      "metadata": {
        "id": "1TYwlxW4QqvE"
      },
      "source": [
        "Посмотрим на результат с большим количеством эпох"
      ]
    },
    {
      "cell_type": "code",
      "metadata": {
        "id": "hl1xZrQrr_Xl"
      },
      "source": [
        "pm_func, pm = parametric_model(kernel_sizes=[(5, 5)],\n",
        "                               filters = [256],\n",
        "                               activation_func='relu',\n",
        "                               optimizer_type='rmsprop',\n",
        "                               loss_function='categorical_crossentropy',\n",
        "                               metrics='accuracy')"
      ],
      "execution_count": null,
      "outputs": []
    },
    {
      "cell_type": "code",
      "metadata": {
        "colab": {
          "base_uri": "https://localhost:8080/"
        },
        "id": "eSpJQ_doQ7Lg",
        "outputId": "dbc10706-2ca7-4f37-daa7-12ced858cc89"
      },
      "source": [
        "pm.summary()"
      ],
      "execution_count": null,
      "outputs": [
        {
          "output_type": "stream",
          "text": [
            "Model: \"model_534\"\n",
            "_________________________________________________________________\n",
            "Layer (type)                 Output Shape              Param #   \n",
            "=================================================================\n",
            "input_537 (InputLayer)       [(None, 28, 28, 1)]       0         \n",
            "_________________________________________________________________\n",
            "conv2d_531 (Conv2D)          (None, 24, 24, 256)       6656      \n",
            "_________________________________________________________________\n",
            "max_pooling2d_530 (MaxPoolin (None, 12, 12, 256)       0         \n",
            "_________________________________________________________________\n",
            "flatten_482 (Flatten)        (None, 36864)             0         \n",
            "_________________________________________________________________\n",
            "dense_644 (Dense)            (None, 10)                368650    \n",
            "=================================================================\n",
            "Total params: 375,306\n",
            "Trainable params: 375,306\n",
            "Non-trainable params: 0\n",
            "_________________________________________________________________\n"
          ],
          "name": "stdout"
        }
      ]
    },
    {
      "cell_type": "code",
      "metadata": {
        "colab": {
          "base_uri": "https://localhost:8080/"
        },
        "id": "uQTWpKNWQ_W5",
        "outputId": "ef346f0a-1b5b-4940-968d-5c03da7a50bf"
      },
      "source": [
        "r = print_simple_result(pm_func, X_train_reshaped, y_train, metrics = 'accuracy', number_of_starts=5, number_of_epochs=15)"
      ],
      "execution_count": null,
      "outputs": [
        {
          "output_type": "stream",
          "text": [
            "accuracy: среднее значение = 0.91, стандартное отклонение =  0.00\n"
          ],
          "name": "stdout"
        }
      ]
    },
    {
      "cell_type": "markdown",
      "metadata": {
        "id": "VAAbq4kFVgfk"
      },
      "source": [
        "Качество модели получилось немного лучше чем на полносвязном слое"
      ]
    },
    {
      "cell_type": "code",
      "metadata": {
        "id": "IAUgQEO-RFe3"
      },
      "source": [
        ""
      ],
      "execution_count": null,
      "outputs": []
    }
  ]
}